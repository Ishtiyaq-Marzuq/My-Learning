{
  "cells": [
    {
      "cell_type": "code",
      "execution_count": 3,
      "metadata": {
        "id": "tRZBwoGqk9_8"
      },
      "outputs": [],
      "source": [
        "from gensim.models import Word2Vec,KeyedVectors\n",
        "import gensim.downloader as api"
      ]
    },
    {
      "cell_type": "code",
      "execution_count": 4,
      "metadata": {
        "colab": {
          "base_uri": "https://localhost:8080/"
        },
        "id": "hPc3JjyklLgT",
        "outputId": "d58bc54a-5253-461b-f03c-b0903fc74f2e"
      },
      "outputs": [
        {
          "name": "stdout",
          "output_type": "stream",
          "text": [
            "[==================================================] 100.0% 1662.8/1662.8MB downloaded\n"
          ]
        }
      ],
      "source": [
        "model = api.load('word2vec-google-news-300')"
      ]
    },
    {
      "cell_type": "code",
      "execution_count": 5,
      "metadata": {
        "colab": {
          "base_uri": "https://localhost:8080/"
        },
        "id": "f7_gNI8jpp5R",
        "outputId": "cd8d422c-38de-4574-d4e8-383928f8ec26"
      },
      "outputs": [
        {
          "data": {
            "text/plain": [
              "array([ 1.25976562e-01,  2.97851562e-02,  8.60595703e-03,  1.39648438e-01,\n",
              "       -2.56347656e-02, -3.61328125e-02,  1.11816406e-01, -1.98242188e-01,\n",
              "        5.12695312e-02,  3.63281250e-01, -2.42187500e-01, -3.02734375e-01,\n",
              "       -1.77734375e-01, -2.49023438e-02, -1.67968750e-01, -1.69921875e-01,\n",
              "        3.46679688e-02,  5.21850586e-03,  4.63867188e-02,  1.28906250e-01,\n",
              "        1.36718750e-01,  1.12792969e-01,  5.95703125e-02,  1.36718750e-01,\n",
              "        1.01074219e-01, -1.76757812e-01, -2.51953125e-01,  5.98144531e-02,\n",
              "        3.41796875e-01, -3.11279297e-02,  1.04492188e-01,  6.17675781e-02,\n",
              "        1.24511719e-01,  4.00390625e-01, -3.22265625e-01,  8.39843750e-02,\n",
              "        3.90625000e-02,  5.85937500e-03,  7.03125000e-02,  1.72851562e-01,\n",
              "        1.38671875e-01, -2.31445312e-01,  2.83203125e-01,  1.42578125e-01,\n",
              "        3.41796875e-01, -2.39257812e-02, -1.09863281e-01,  3.32031250e-02,\n",
              "       -5.46875000e-02,  1.53198242e-02, -1.62109375e-01,  1.58203125e-01,\n",
              "       -2.59765625e-01,  2.01416016e-02, -1.63085938e-01,  1.35803223e-03,\n",
              "       -1.44531250e-01, -5.68847656e-02,  4.29687500e-02, -2.46582031e-02,\n",
              "        1.85546875e-01,  4.47265625e-01,  9.58251953e-03,  1.31835938e-01,\n",
              "        9.86328125e-02, -1.85546875e-01, -1.00097656e-01, -1.33789062e-01,\n",
              "       -1.25000000e-01,  2.83203125e-01,  1.23046875e-01,  5.32226562e-02,\n",
              "       -1.77734375e-01,  8.59375000e-02, -2.18505859e-02,  2.05078125e-02,\n",
              "       -1.39648438e-01,  2.51464844e-02,  1.38671875e-01, -1.05468750e-01,\n",
              "        1.38671875e-01,  8.88671875e-02, -7.51953125e-02, -2.13623047e-02,\n",
              "        1.72851562e-01,  4.63867188e-02, -2.65625000e-01,  8.91113281e-03,\n",
              "        1.49414062e-01,  3.78417969e-02,  2.38281250e-01, -1.24511719e-01,\n",
              "       -2.17773438e-01, -1.81640625e-01,  2.97851562e-02,  5.71289062e-02,\n",
              "       -2.89306641e-02,  1.24511719e-02,  9.66796875e-02, -2.31445312e-01,\n",
              "        5.81054688e-02,  6.68945312e-02,  7.08007812e-02, -3.08593750e-01,\n",
              "       -2.14843750e-01,  1.45507812e-01, -4.27734375e-01, -9.39941406e-03,\n",
              "        1.54296875e-01, -7.66601562e-02,  2.89062500e-01,  2.77343750e-01,\n",
              "       -4.86373901e-04, -1.36718750e-01,  3.24218750e-01, -2.46093750e-01,\n",
              "       -3.03649902e-03, -2.11914062e-01,  1.25000000e-01,  2.69531250e-01,\n",
              "        2.04101562e-01,  8.25195312e-02, -2.01171875e-01, -1.60156250e-01,\n",
              "       -3.78417969e-02, -1.20117188e-01,  1.15234375e-01, -4.10156250e-02,\n",
              "       -3.95507812e-02, -8.98437500e-02,  6.34765625e-03,  2.03125000e-01,\n",
              "        1.86523438e-01,  2.73437500e-01,  6.29882812e-02,  1.41601562e-01,\n",
              "       -9.81445312e-02,  1.38671875e-01,  1.82617188e-01,  1.73828125e-01,\n",
              "        1.73828125e-01, -2.37304688e-01,  1.78710938e-01,  6.34765625e-02,\n",
              "        2.36328125e-01, -2.08984375e-01,  8.74023438e-02, -1.66015625e-01,\n",
              "       -7.91015625e-02,  2.43164062e-01, -8.88671875e-02,  1.26953125e-01,\n",
              "       -2.16796875e-01, -1.73828125e-01, -3.59375000e-01, -8.25195312e-02,\n",
              "       -6.49414062e-02,  5.07812500e-02,  1.35742188e-01, -7.47070312e-02,\n",
              "       -1.64062500e-01,  1.15356445e-02,  4.45312500e-01, -2.15820312e-01,\n",
              "       -1.11328125e-01, -1.92382812e-01,  1.70898438e-01, -1.25000000e-01,\n",
              "        2.65502930e-03,  1.92382812e-01, -1.74804688e-01,  1.39648438e-01,\n",
              "        2.92968750e-01,  1.13281250e-01,  5.95703125e-02, -6.39648438e-02,\n",
              "        9.96093750e-02, -2.72216797e-02,  1.96533203e-02,  4.27246094e-02,\n",
              "       -2.46093750e-01,  6.39648438e-02, -2.25585938e-01, -1.68945312e-01,\n",
              "        2.89916992e-03,  8.20312500e-02,  3.41796875e-01,  4.32128906e-02,\n",
              "        1.32812500e-01,  1.42578125e-01,  7.61718750e-02,  5.98144531e-02,\n",
              "       -1.19140625e-01,  2.74658203e-03, -6.29882812e-02, -2.72216797e-02,\n",
              "       -4.82177734e-03, -8.20312500e-02, -2.49023438e-02, -4.00390625e-01,\n",
              "       -1.06933594e-01,  4.24804688e-02,  7.76367188e-02, -1.16699219e-01,\n",
              "        7.37304688e-02, -9.22851562e-02,  1.07910156e-01,  1.58203125e-01,\n",
              "        4.24804688e-02,  1.26953125e-01,  3.61328125e-02,  2.67578125e-01,\n",
              "       -1.01074219e-01, -3.02734375e-01, -5.76171875e-02,  5.05371094e-02,\n",
              "        5.26428223e-04, -2.07031250e-01, -1.38671875e-01, -8.97216797e-03,\n",
              "       -2.78320312e-02, -1.41601562e-01,  2.07031250e-01, -1.58203125e-01,\n",
              "        1.27929688e-01,  1.49414062e-01, -2.24609375e-02, -8.44726562e-02,\n",
              "        1.22558594e-01,  2.15820312e-01, -2.13867188e-01, -3.12500000e-01,\n",
              "       -3.73046875e-01,  4.08935547e-03,  1.07421875e-01,  1.06933594e-01,\n",
              "        7.32421875e-02,  8.97216797e-03, -3.88183594e-02, -1.29882812e-01,\n",
              "        1.49414062e-01, -2.14843750e-01, -1.83868408e-03,  9.91210938e-02,\n",
              "        1.57226562e-01, -1.14257812e-01, -2.05078125e-01,  9.91210938e-02,\n",
              "        3.69140625e-01, -1.97265625e-01,  3.54003906e-02,  1.09375000e-01,\n",
              "        1.31835938e-01,  1.66992188e-01,  2.35351562e-01,  1.04980469e-01,\n",
              "       -4.96093750e-01, -1.64062500e-01, -1.56250000e-01, -5.22460938e-02,\n",
              "        1.03027344e-01,  2.43164062e-01, -1.88476562e-01,  5.07812500e-02,\n",
              "       -9.37500000e-02, -6.68945312e-02,  2.27050781e-02,  7.61718750e-02,\n",
              "        2.89062500e-01,  3.10546875e-01, -5.37109375e-02,  2.28515625e-01,\n",
              "        2.51464844e-02,  6.78710938e-02, -1.21093750e-01, -2.15820312e-01,\n",
              "       -2.73437500e-01, -3.07617188e-02, -3.37890625e-01,  1.53320312e-01,\n",
              "        2.33398438e-01, -2.08007812e-01,  3.73046875e-01,  8.20312500e-02,\n",
              "        2.51953125e-01, -7.61718750e-02, -4.66308594e-02, -2.23388672e-02,\n",
              "        2.99072266e-02, -5.93261719e-02, -4.66918945e-03, -2.44140625e-01,\n",
              "       -2.09960938e-01, -2.87109375e-01, -4.54101562e-02, -1.77734375e-01,\n",
              "       -2.79296875e-01, -8.59375000e-02,  9.13085938e-02,  2.51953125e-01],\n",
              "      dtype=float32)"
            ]
          },
          "execution_count": 5,
          "metadata": {},
          "output_type": "execute_result"
        }
      ],
      "source": [
        "model['king']"
      ]
    },
    {
      "cell_type": "code",
      "execution_count": 1,
      "metadata": {
        "colab": {
          "base_uri": "https://localhost:8080/"
        },
        "id": "FGD66fyDmFZj",
        "outputId": "2a854857-f7bd-427b-f3fe-529659d2aea0"
      },
      "outputs": [
        {
          "name": "stderr",
          "output_type": "stream",
          "text": [
            "[nltk_data] Downloading package punkt to /root/nltk_data...\n",
            "[nltk_data]   Unzipping tokenizers/punkt.zip.\n"
          ]
        },
        {
          "data": {
            "text/plain": [
              "True"
            ]
          },
          "execution_count": 1,
          "metadata": {},
          "output_type": "execute_result"
        }
      ],
      "source": [
        "import pandas as pd\n",
        "import numpy as np\n",
        "import os\n",
        "import gensim\n",
        "import nltk\n",
        "nltk.download('punkt')"
      ]
    },
    {
      "cell_type": "code",
      "execution_count": 2,
      "metadata": {
        "colab": {
          "base_uri": "https://localhost:8080/"
        },
        "id": "HWAon6jnmFj7",
        "outputId": "cfc40fd7-aa4b-4521-9c64-e83645c9006d"
      },
      "outputs": [
        {
          "name": "stderr",
          "output_type": "stream",
          "text": [
            "[nltk_data] Downloading collection 'all'\n",
            "[nltk_data]    | \n",
            "[nltk_data]    | Downloading package abc to /root/nltk_data...\n",
            "[nltk_data]    |   Unzipping corpora/abc.zip.\n",
            "[nltk_data]    | Downloading package alpino to /root/nltk_data...\n",
            "[nltk_data]    |   Unzipping corpora/alpino.zip.\n",
            "[nltk_data]    | Downloading package averaged_perceptron_tagger to\n",
            "[nltk_data]    |     /root/nltk_data...\n",
            "[nltk_data]    |   Unzipping taggers/averaged_perceptron_tagger.zip.\n",
            "[nltk_data]    | Downloading package averaged_perceptron_tagger_eng to\n",
            "[nltk_data]    |     /root/nltk_data...\n",
            "[nltk_data]    |   Unzipping\n",
            "[nltk_data]    |       taggers/averaged_perceptron_tagger_eng.zip.\n",
            "[nltk_data]    | Downloading package averaged_perceptron_tagger_ru to\n",
            "[nltk_data]    |     /root/nltk_data...\n",
            "[nltk_data]    |   Unzipping\n",
            "[nltk_data]    |       taggers/averaged_perceptron_tagger_ru.zip.\n",
            "[nltk_data]    | Downloading package averaged_perceptron_tagger_rus to\n",
            "[nltk_data]    |     /root/nltk_data...\n",
            "[nltk_data]    |   Unzipping\n",
            "[nltk_data]    |       taggers/averaged_perceptron_tagger_rus.zip.\n",
            "[nltk_data]    | Downloading package basque_grammars to\n",
            "[nltk_data]    |     /root/nltk_data...\n",
            "[nltk_data]    |   Unzipping grammars/basque_grammars.zip.\n",
            "[nltk_data]    | Downloading package bcp47 to /root/nltk_data...\n",
            "[nltk_data]    | Downloading package biocreative_ppi to\n",
            "[nltk_data]    |     /root/nltk_data...\n",
            "[nltk_data]    |   Unzipping corpora/biocreative_ppi.zip.\n",
            "[nltk_data]    | Downloading package bllip_wsj_no_aux to\n",
            "[nltk_data]    |     /root/nltk_data...\n",
            "[nltk_data]    |   Unzipping models/bllip_wsj_no_aux.zip.\n",
            "[nltk_data]    | Downloading package book_grammars to\n",
            "[nltk_data]    |     /root/nltk_data...\n",
            "[nltk_data]    |   Unzipping grammars/book_grammars.zip.\n",
            "[nltk_data]    | Downloading package brown to /root/nltk_data...\n",
            "[nltk_data]    |   Unzipping corpora/brown.zip.\n",
            "[nltk_data]    | Downloading package brown_tei to /root/nltk_data...\n",
            "[nltk_data]    |   Unzipping corpora/brown_tei.zip.\n",
            "[nltk_data]    | Downloading package cess_cat to /root/nltk_data...\n",
            "[nltk_data]    |   Unzipping corpora/cess_cat.zip.\n",
            "[nltk_data]    | Downloading package cess_esp to /root/nltk_data...\n",
            "[nltk_data]    |   Unzipping corpora/cess_esp.zip.\n",
            "[nltk_data]    | Downloading package chat80 to /root/nltk_data...\n",
            "[nltk_data]    |   Unzipping corpora/chat80.zip.\n",
            "[nltk_data]    | Downloading package city_database to\n",
            "[nltk_data]    |     /root/nltk_data...\n",
            "[nltk_data]    |   Unzipping corpora/city_database.zip.\n",
            "[nltk_data]    | Downloading package cmudict to /root/nltk_data...\n",
            "[nltk_data]    |   Unzipping corpora/cmudict.zip.\n",
            "[nltk_data]    | Downloading package comparative_sentences to\n",
            "[nltk_data]    |     /root/nltk_data...\n",
            "[nltk_data]    |   Unzipping corpora/comparative_sentences.zip.\n",
            "[nltk_data]    | Downloading package comtrans to /root/nltk_data...\n",
            "[nltk_data]    | Downloading package conll2000 to /root/nltk_data...\n",
            "[nltk_data]    |   Unzipping corpora/conll2000.zip.\n",
            "[nltk_data]    | Downloading package conll2002 to /root/nltk_data...\n",
            "[nltk_data]    |   Unzipping corpora/conll2002.zip.\n",
            "[nltk_data]    | Downloading package conll2007 to /root/nltk_data...\n",
            "[nltk_data]    | Downloading package crubadan to /root/nltk_data...\n",
            "[nltk_data]    |   Unzipping corpora/crubadan.zip.\n",
            "[nltk_data]    | Downloading package dependency_treebank to\n",
            "[nltk_data]    |     /root/nltk_data...\n",
            "[nltk_data]    |   Unzipping corpora/dependency_treebank.zip.\n",
            "[nltk_data]    | Downloading package dolch to /root/nltk_data...\n",
            "[nltk_data]    |   Unzipping corpora/dolch.zip.\n",
            "[nltk_data]    | Downloading package europarl_raw to\n",
            "[nltk_data]    |     /root/nltk_data...\n",
            "[nltk_data]    |   Unzipping corpora/europarl_raw.zip.\n",
            "[nltk_data]    | Downloading package extended_omw to\n",
            "[nltk_data]    |     /root/nltk_data...\n",
            "[nltk_data]    | Downloading package floresta to /root/nltk_data...\n",
            "[nltk_data]    |   Unzipping corpora/floresta.zip.\n",
            "[nltk_data]    | Downloading package framenet_v15 to\n",
            "[nltk_data]    |     /root/nltk_data...\n",
            "[nltk_data]    |   Unzipping corpora/framenet_v15.zip.\n",
            "[nltk_data]    | Downloading package framenet_v17 to\n",
            "[nltk_data]    |     /root/nltk_data...\n",
            "[nltk_data]    |   Unzipping corpora/framenet_v17.zip.\n",
            "[nltk_data]    | Downloading package gazetteers to /root/nltk_data...\n",
            "[nltk_data]    |   Unzipping corpora/gazetteers.zip.\n",
            "[nltk_data]    | Downloading package genesis to /root/nltk_data...\n",
            "[nltk_data]    |   Unzipping corpora/genesis.zip.\n",
            "[nltk_data]    | Downloading package gutenberg to /root/nltk_data...\n",
            "[nltk_data]    |   Unzipping corpora/gutenberg.zip.\n",
            "[nltk_data]    | Downloading package ieer to /root/nltk_data...\n",
            "[nltk_data]    |   Unzipping corpora/ieer.zip.\n",
            "[nltk_data]    | Downloading package inaugural to /root/nltk_data...\n",
            "[nltk_data]    |   Unzipping corpora/inaugural.zip.\n",
            "[nltk_data]    | Downloading package indian to /root/nltk_data...\n",
            "[nltk_data]    |   Unzipping corpora/indian.zip.\n",
            "[nltk_data]    | Downloading package jeita to /root/nltk_data...\n",
            "[nltk_data]    | Downloading package kimmo to /root/nltk_data...\n",
            "[nltk_data]    |   Unzipping corpora/kimmo.zip.\n",
            "[nltk_data]    | Downloading package knbc to /root/nltk_data...\n",
            "[nltk_data]    | Downloading package large_grammars to\n",
            "[nltk_data]    |     /root/nltk_data...\n",
            "[nltk_data]    |   Unzipping grammars/large_grammars.zip.\n",
            "[nltk_data]    | Downloading package lin_thesaurus to\n",
            "[nltk_data]    |     /root/nltk_data...\n",
            "[nltk_data]    |   Unzipping corpora/lin_thesaurus.zip.\n",
            "[nltk_data]    | Downloading package mac_morpho to /root/nltk_data...\n",
            "[nltk_data]    |   Unzipping corpora/mac_morpho.zip.\n",
            "[nltk_data]    | Downloading package machado to /root/nltk_data...\n",
            "[nltk_data]    | Downloading package masc_tagged to /root/nltk_data...\n",
            "[nltk_data]    | Downloading package maxent_ne_chunker to\n",
            "[nltk_data]    |     /root/nltk_data...\n",
            "[nltk_data]    |   Unzipping chunkers/maxent_ne_chunker.zip.\n",
            "[nltk_data]    | Downloading package maxent_ne_chunker_tab to\n",
            "[nltk_data]    |     /root/nltk_data...\n",
            "[nltk_data]    |   Unzipping chunkers/maxent_ne_chunker_tab.zip.\n",
            "[nltk_data]    | Downloading package maxent_treebank_pos_tagger to\n",
            "[nltk_data]    |     /root/nltk_data...\n",
            "[nltk_data]    |   Unzipping taggers/maxent_treebank_pos_tagger.zip.\n",
            "[nltk_data]    | Downloading package maxent_treebank_pos_tagger_tab to\n",
            "[nltk_data]    |     /root/nltk_data...\n",
            "[nltk_data]    |   Unzipping\n",
            "[nltk_data]    |       taggers/maxent_treebank_pos_tagger_tab.zip.\n",
            "[nltk_data]    | Downloading package moses_sample to\n",
            "[nltk_data]    |     /root/nltk_data...\n",
            "[nltk_data]    |   Unzipping models/moses_sample.zip.\n",
            "[nltk_data]    | Downloading package movie_reviews to\n",
            "[nltk_data]    |     /root/nltk_data...\n",
            "[nltk_data]    |   Unzipping corpora/movie_reviews.zip.\n",
            "[nltk_data]    | Downloading package mte_teip5 to /root/nltk_data...\n",
            "[nltk_data]    |   Unzipping corpora/mte_teip5.zip.\n",
            "[nltk_data]    | Downloading package mwa_ppdb to /root/nltk_data...\n",
            "[nltk_data]    |   Unzipping misc/mwa_ppdb.zip.\n",
            "[nltk_data]    | Downloading package names to /root/nltk_data...\n",
            "[nltk_data]    |   Unzipping corpora/names.zip.\n",
            "[nltk_data]    | Downloading package nombank.1.0 to /root/nltk_data...\n",
            "[nltk_data]    | Downloading package nonbreaking_prefixes to\n",
            "[nltk_data]    |     /root/nltk_data...\n",
            "[nltk_data]    |   Unzipping corpora/nonbreaking_prefixes.zip.\n",
            "[nltk_data]    | Downloading package nps_chat to /root/nltk_data...\n",
            "[nltk_data]    |   Unzipping corpora/nps_chat.zip.\n",
            "[nltk_data]    | Downloading package omw to /root/nltk_data...\n",
            "[nltk_data]    | Downloading package omw-1.4 to /root/nltk_data...\n",
            "[nltk_data]    | Downloading package opinion_lexicon to\n",
            "[nltk_data]    |     /root/nltk_data...\n",
            "[nltk_data]    |   Unzipping corpora/opinion_lexicon.zip.\n",
            "[nltk_data]    | Downloading package panlex_swadesh to\n",
            "[nltk_data]    |     /root/nltk_data...\n",
            "[nltk_data]    | Downloading package paradigms to /root/nltk_data...\n",
            "[nltk_data]    |   Unzipping corpora/paradigms.zip.\n",
            "[nltk_data]    | Downloading package pe08 to /root/nltk_data...\n",
            "[nltk_data]    |   Unzipping corpora/pe08.zip.\n",
            "[nltk_data]    | Downloading package perluniprops to\n",
            "[nltk_data]    |     /root/nltk_data...\n",
            "[nltk_data]    |   Unzipping misc/perluniprops.zip.\n",
            "[nltk_data]    | Downloading package pil to /root/nltk_data...\n",
            "[nltk_data]    |   Unzipping corpora/pil.zip.\n",
            "[nltk_data]    | Downloading package pl196x to /root/nltk_data...\n",
            "[nltk_data]    |   Unzipping corpora/pl196x.zip.\n",
            "[nltk_data]    | Downloading package porter_test to /root/nltk_data...\n",
            "[nltk_data]    |   Unzipping stemmers/porter_test.zip.\n",
            "[nltk_data]    | Downloading package ppattach to /root/nltk_data...\n",
            "[nltk_data]    |   Unzipping corpora/ppattach.zip.\n",
            "[nltk_data]    | Downloading package problem_reports to\n",
            "[nltk_data]    |     /root/nltk_data...\n",
            "[nltk_data]    |   Unzipping corpora/problem_reports.zip.\n",
            "[nltk_data]    | Downloading package product_reviews_1 to\n",
            "[nltk_data]    |     /root/nltk_data...\n",
            "[nltk_data]    |   Unzipping corpora/product_reviews_1.zip.\n",
            "[nltk_data]    | Downloading package product_reviews_2 to\n",
            "[nltk_data]    |     /root/nltk_data...\n",
            "[nltk_data]    |   Unzipping corpora/product_reviews_2.zip.\n",
            "[nltk_data]    | Downloading package propbank to /root/nltk_data...\n",
            "[nltk_data]    | Downloading package pros_cons to /root/nltk_data...\n",
            "[nltk_data]    |   Unzipping corpora/pros_cons.zip.\n",
            "[nltk_data]    | Downloading package ptb to /root/nltk_data...\n",
            "[nltk_data]    |   Unzipping corpora/ptb.zip.\n",
            "[nltk_data]    | Downloading package punkt to /root/nltk_data...\n",
            "[nltk_data]    |   Package punkt is already up-to-date!\n",
            "[nltk_data]    | Downloading package punkt_tab to /root/nltk_data...\n",
            "[nltk_data]    |   Unzipping tokenizers/punkt_tab.zip.\n",
            "[nltk_data]    | Downloading package qc to /root/nltk_data...\n",
            "[nltk_data]    |   Unzipping corpora/qc.zip.\n",
            "[nltk_data]    | Downloading package reuters to /root/nltk_data...\n",
            "[nltk_data]    | Downloading package rslp to /root/nltk_data...\n",
            "[nltk_data]    |   Unzipping stemmers/rslp.zip.\n",
            "[nltk_data]    | Downloading package rte to /root/nltk_data...\n",
            "[nltk_data]    |   Unzipping corpora/rte.zip.\n",
            "[nltk_data]    | Downloading package sample_grammars to\n",
            "[nltk_data]    |     /root/nltk_data...\n",
            "[nltk_data]    |   Unzipping grammars/sample_grammars.zip.\n",
            "[nltk_data]    | Downloading package semcor to /root/nltk_data...\n",
            "[nltk_data]    | Downloading package senseval to /root/nltk_data...\n",
            "[nltk_data]    |   Unzipping corpora/senseval.zip.\n",
            "[nltk_data]    | Downloading package sentence_polarity to\n",
            "[nltk_data]    |     /root/nltk_data...\n",
            "[nltk_data]    |   Unzipping corpora/sentence_polarity.zip.\n",
            "[nltk_data]    | Downloading package sentiwordnet to\n",
            "[nltk_data]    |     /root/nltk_data...\n",
            "[nltk_data]    |   Unzipping corpora/sentiwordnet.zip.\n",
            "[nltk_data]    | Downloading package shakespeare to /root/nltk_data...\n",
            "[nltk_data]    |   Unzipping corpora/shakespeare.zip.\n",
            "[nltk_data]    | Downloading package sinica_treebank to\n",
            "[nltk_data]    |     /root/nltk_data...\n",
            "[nltk_data]    |   Unzipping corpora/sinica_treebank.zip.\n",
            "[nltk_data]    | Downloading package smultron to /root/nltk_data...\n",
            "[nltk_data]    |   Unzipping corpora/smultron.zip.\n",
            "[nltk_data]    | Downloading package snowball_data to\n",
            "[nltk_data]    |     /root/nltk_data...\n",
            "[nltk_data]    | Downloading package spanish_grammars to\n",
            "[nltk_data]    |     /root/nltk_data...\n",
            "[nltk_data]    |   Unzipping grammars/spanish_grammars.zip.\n",
            "[nltk_data]    | Downloading package state_union to /root/nltk_data...\n",
            "[nltk_data]    |   Unzipping corpora/state_union.zip.\n",
            "[nltk_data]    | Downloading package stopwords to /root/nltk_data...\n",
            "[nltk_data]    |   Unzipping corpora/stopwords.zip.\n",
            "[nltk_data]    | Downloading package subjectivity to\n",
            "[nltk_data]    |     /root/nltk_data...\n",
            "[nltk_data]    |   Unzipping corpora/subjectivity.zip.\n",
            "[nltk_data]    | Downloading package swadesh to /root/nltk_data...\n",
            "[nltk_data]    |   Unzipping corpora/swadesh.zip.\n",
            "[nltk_data]    | Downloading package switchboard to /root/nltk_data...\n",
            "[nltk_data]    |   Unzipping corpora/switchboard.zip.\n",
            "[nltk_data]    | Downloading package tagsets to /root/nltk_data...\n",
            "[nltk_data]    |   Unzipping help/tagsets.zip.\n",
            "[nltk_data]    | Downloading package tagsets_json to\n",
            "[nltk_data]    |     /root/nltk_data...\n",
            "[nltk_data]    |   Unzipping help/tagsets_json.zip.\n",
            "[nltk_data]    | Downloading package timit to /root/nltk_data...\n",
            "[nltk_data]    |   Unzipping corpora/timit.zip.\n",
            "[nltk_data]    | Downloading package toolbox to /root/nltk_data...\n",
            "[nltk_data]    |   Unzipping corpora/toolbox.zip.\n",
            "[nltk_data]    | Downloading package treebank to /root/nltk_data...\n",
            "[nltk_data]    |   Unzipping corpora/treebank.zip.\n",
            "[nltk_data]    | Downloading package twitter_samples to\n",
            "[nltk_data]    |     /root/nltk_data...\n",
            "[nltk_data]    |   Unzipping corpora/twitter_samples.zip.\n",
            "[nltk_data]    | Downloading package udhr to /root/nltk_data...\n",
            "[nltk_data]    |   Unzipping corpora/udhr.zip.\n",
            "[nltk_data]    | Downloading package udhr2 to /root/nltk_data...\n",
            "[nltk_data]    |   Unzipping corpora/udhr2.zip.\n",
            "[nltk_data]    | Downloading package unicode_samples to\n",
            "[nltk_data]    |     /root/nltk_data...\n",
            "[nltk_data]    |   Unzipping corpora/unicode_samples.zip.\n",
            "[nltk_data]    | Downloading package universal_tagset to\n",
            "[nltk_data]    |     /root/nltk_data...\n",
            "[nltk_data]    |   Unzipping taggers/universal_tagset.zip.\n",
            "[nltk_data]    | Downloading package universal_treebanks_v20 to\n",
            "[nltk_data]    |     /root/nltk_data...\n",
            "[nltk_data]    | Downloading package vader_lexicon to\n",
            "[nltk_data]    |     /root/nltk_data...\n",
            "[nltk_data]    | Downloading package verbnet to /root/nltk_data...\n",
            "[nltk_data]    |   Unzipping corpora/verbnet.zip.\n",
            "[nltk_data]    | Downloading package verbnet3 to /root/nltk_data...\n",
            "[nltk_data]    |   Unzipping corpora/verbnet3.zip.\n",
            "[nltk_data]    | Downloading package webtext to /root/nltk_data...\n",
            "[nltk_data]    |   Unzipping corpora/webtext.zip.\n",
            "[nltk_data]    | Downloading package wmt15_eval to /root/nltk_data...\n",
            "[nltk_data]    |   Unzipping models/wmt15_eval.zip.\n",
            "[nltk_data]    | Downloading package word2vec_sample to\n",
            "[nltk_data]    |     /root/nltk_data...\n",
            "[nltk_data]    |   Unzipping models/word2vec_sample.zip.\n",
            "[nltk_data]    | Downloading package wordnet to /root/nltk_data...\n",
            "[nltk_data]    | Downloading package wordnet2021 to /root/nltk_data...\n",
            "[nltk_data]    | Downloading package wordnet2022 to /root/nltk_data...\n",
            "[nltk_data]    |   Unzipping corpora/wordnet2022.zip.\n",
            "[nltk_data]    | Downloading package wordnet31 to /root/nltk_data...\n",
            "[nltk_data]    | Downloading package wordnet_ic to /root/nltk_data...\n",
            "[nltk_data]    |   Unzipping corpora/wordnet_ic.zip.\n",
            "[nltk_data]    | Downloading package words to /root/nltk_data...\n",
            "[nltk_data]    |   Unzipping corpora/words.zip.\n",
            "[nltk_data]    | Downloading package ycoe to /root/nltk_data...\n",
            "[nltk_data]    |   Unzipping corpora/ycoe.zip.\n",
            "[nltk_data]    | \n",
            "[nltk_data]  Done downloading collection all\n"
          ]
        },
        {
          "data": {
            "text/plain": [
              "True"
            ]
          },
          "execution_count": 2,
          "metadata": {},
          "output_type": "execute_result"
        }
      ],
      "source": [
        "nltk.download(\"all\")"
      ]
    },
    {
      "cell_type": "code",
      "execution_count": 6,
      "metadata": {
        "id": "rUcctWr9mFms"
      },
      "outputs": [],
      "source": [
        "from nltk import sent_tokenize\n",
        "from gensim.utils import simple_preprocess"
      ]
    },
    {
      "cell_type": "code",
      "execution_count": 7,
      "metadata": {
        "id": "8gpV7DXhmFtn"
      },
      "outputs": [],
      "source": [
        "story=[]"
      ]
    },
    {
      "cell_type": "code",
      "execution_count": 23,
      "metadata": {
        "id": "IMslQMcKgvFJ"
      },
      "outputs": [],
      "source": [
        "story.append(\"\"\"Once upon a time, in a bustling city named Innovaria, there lived a young inventor named Elara. Elara had a peculiar talent for creating devices that no one had ever imagined. Her latest invention was a small, portable machine that could transform polluted air into fresh, breathable oxygen. Despite her brilliance, Elara was often misunderstood by the townsfolk, who were skeptical of her creations\n",
        "\n",
        "One day, a mysterious traveler visited Innovaria. The traveler, cloaked in a dark green robe, spoke of a distant village named Thaliora that was suffering from a severe air pollution crisis. Curious and empathetic, Elara decided to visit Thaliora to test her invention and help its people.\n",
        "\n",
        "The journey was long and arduous. Elara crossed dense forests, climbed treacherous mountains, and sailed through turbulent seas. Along the way, she encountered various challenges. In the forest, a group of mischievous monkeys stole her supplies, forcing her to devise clever traps to retrieve them. On the mountains, she befriended a solitary hermit who taught her the art of patience and resilience. At sea, a fierce storm tested her courage, but her determination kept her going.\n",
        "\n",
        "When she finally arrived at Thaliora, Elara was shocked to see the extent of the pollution. The skies were gray, the rivers were blackened, and the air was thick with smog. The villagers, clad in makeshift masks, were struggling to breathe. Moved by their plight, Elara quickly set up her machine in the village square. As the machine began to hum and emit fresh air, the villagers gathered around in awe.\n",
        "\n",
        "Within days, the air quality in Thaliora improved significantly. The villagers hailed Elara as a hero and thanked her for her kindness and ingenuity. News of her invention spread far and wide, attracting the attention of scientists and environmentalists from around the world.\n",
        "\n",
        "Elara returned to Innovaria, not just as an inventor but as a symbol of hope and innovation. Her journey taught her that perseverance and empathy could overcome even the most daunting challenges. From that day on, she continued to create inventions that not only amazed but also made the world a better place.\n",
        "\n",
        "\"\"\")"
      ]
    },
    {
      "cell_type": "code",
      "execution_count": 26,
      "metadata": {
        "id": "W6RK4M54gDhR"
      },
      "outputs": [],
      "source": [
        "import string"
      ]
    },
    {
      "cell_type": "code",
      "execution_count": 27,
      "metadata": {
        "id": "pwk2-GUjn0H5"
      },
      "outputs": [],
      "source": [
        "corpus=story"
      ]
    },
    {
      "cell_type": "code",
      "execution_count": 28,
      "metadata": {
        "colab": {
          "base_uri": "https://localhost:8080/"
        },
        "id": "aBqMNbdin0K0",
        "outputId": "35007e7a-743d-499f-c574-be8d336f5961"
      },
      "outputs": [
        {
          "name": "stdout",
          "output_type": "stream",
          "text": [
            "['Once upon a time, in a bustling city named Innovaria, there lived a young inventor named Elara. Elara had a peculiar talent for creating devices that no one had ever imagined. Her latest invention was a small, portable machine that could transform polluted air into fresh, breathable oxygen. Despite her brilliance, Elara was often misunderstood by the townsfolk, who were skeptical of her creations\\n\\nOne day, a mysterious traveler visited Innovaria. The traveler, cloaked in a dark green robe, spoke of a distant village named Thaliora that was suffering from a severe air pollution crisis. Curious and empathetic, Elara decided to visit Thaliora to test her invention and help its people.\\n\\nThe journey was long and arduous. Elara crossed dense forests, climbed treacherous mountains, and sailed through turbulent seas. Along the way, she encountered various challenges. In the forest, a group of mischievous monkeys stole her supplies, forcing her to devise clever traps to retrieve them. On the mountains, she befriended a solitary hermit who taught her the art of patience and resilience. At sea, a fierce storm tested her courage, but her determination kept her going.\\n\\nWhen she finally arrived at Thaliora, Elara was shocked to see the extent of the pollution. The skies were gray, the rivers were blackened, and the air was thick with smog. The villagers, clad in makeshift masks, were struggling to breathe. Moved by their plight, Elara quickly set up her machine in the village square. As the machine began to hum and emit fresh air, the villagers gathered around in awe.\\n\\nWithin days, the air quality in Thaliora improved significantly. The villagers hailed Elara as a hero and thanked her for her kindness and ingenuity. News of her invention spread far and wide, attracting the attention of scientists and environmentalists from around the world.\\n\\nElara returned to Innovaria, not just as an inventor but as a symbol of hope and innovation. Her journey taught her that perseverance and empathy could overcome even the most daunting challenges. From that day on, she continued to create inventions that not only amazed but also made the world a better place.\\n\\n']\n"
          ]
        }
      ],
      "source": [
        "print(corpus)"
      ]
    },
    {
      "cell_type": "code",
      "execution_count": 31,
      "metadata": {
        "id": "zjhKIqcdgLGl"
      },
      "outputs": [],
      "source": [
        "raw_sent = sent_tokenize(corpus[0]) # Access the string within the list"
      ]
    },
    {
      "cell_type": "code",
      "execution_count": 32,
      "metadata": {
        "colab": {
          "base_uri": "https://localhost:8080/"
        },
        "id": "-M_mfEPsn0QE",
        "outputId": "a0429562-eeee-4fe1-bd46-c1b4a70affa7"
      },
      "outputs": [
        {
          "data": {
            "text/plain": [
              "['Once upon a time, in a bustling city named Innovaria, there lived a young inventor named Elara.',\n",
              " 'Elara had a peculiar talent for creating devices that no one had ever imagined.',\n",
              " 'Her latest invention was a small, portable machine that could transform polluted air into fresh, breathable oxygen.',\n",
              " 'Despite her brilliance, Elara was often misunderstood by the townsfolk, who were skeptical of her creations\\n\\nOne day, a mysterious traveler visited Innovaria.',\n",
              " 'The traveler, cloaked in a dark green robe, spoke of a distant village named Thaliora that was suffering from a severe air pollution crisis.',\n",
              " 'Curious and empathetic, Elara decided to visit Thaliora to test her invention and help its people.',\n",
              " 'The journey was long and arduous.',\n",
              " 'Elara crossed dense forests, climbed treacherous mountains, and sailed through turbulent seas.',\n",
              " 'Along the way, she encountered various challenges.',\n",
              " 'In the forest, a group of mischievous monkeys stole her supplies, forcing her to devise clever traps to retrieve them.',\n",
              " 'On the mountains, she befriended a solitary hermit who taught her the art of patience and resilience.',\n",
              " 'At sea, a fierce storm tested her courage, but her determination kept her going.',\n",
              " 'When she finally arrived at Thaliora, Elara was shocked to see the extent of the pollution.',\n",
              " 'The skies were gray, the rivers were blackened, and the air was thick with smog.',\n",
              " 'The villagers, clad in makeshift masks, were struggling to breathe.',\n",
              " 'Moved by their plight, Elara quickly set up her machine in the village square.',\n",
              " 'As the machine began to hum and emit fresh air, the villagers gathered around in awe.',\n",
              " 'Within days, the air quality in Thaliora improved significantly.',\n",
              " 'The villagers hailed Elara as a hero and thanked her for her kindness and ingenuity.',\n",
              " 'News of her invention spread far and wide, attracting the attention of scientists and environmentalists from around the world.',\n",
              " 'Elara returned to Innovaria, not just as an inventor but as a symbol of hope and innovation.',\n",
              " 'Her journey taught her that perseverance and empathy could overcome even the most daunting challenges.',\n",
              " 'From that day on, she continued to create inventions that not only amazed but also made the world a better place.']"
            ]
          },
          "execution_count": 32,
          "metadata": {},
          "output_type": "execute_result"
        }
      ],
      "source": [
        "raw_sent"
      ]
    },
    {
      "cell_type": "code",
      "execution_count": 33,
      "metadata": {
        "colab": {
          "base_uri": "https://localhost:8080/"
        },
        "id": "yz8LXUWzn0SF",
        "outputId": "2df17a55-25f0-49ac-b3c4-ca2680bb4ebf"
      },
      "outputs": [
        {
          "name": "stdout",
          "output_type": "stream",
          "text": [
            "['once', 'upon', 'time', 'in', 'bustling', 'city', 'named', 'innovaria', 'there', 'lived', 'young', 'inventor', 'named', 'elara']\n",
            "['elara', 'had', 'peculiar', 'talent', 'for', 'creating', 'devices', 'that', 'no', 'one', 'had', 'ever', 'imagined']\n",
            "['her', 'latest', 'invention', 'was', 'small', 'portable', 'machine', 'that', 'could', 'transform', 'polluted', 'air', 'into', 'fresh', 'breathable', 'oxygen']\n",
            "['despite', 'her', 'brilliance', 'elara', 'was', 'often', 'misunderstood', 'by', 'the', 'townsfolk', 'who', 'were', 'skeptical', 'of', 'her', 'creations', 'one', 'day', 'mysterious', 'traveler', 'visited', 'innovaria']\n",
            "['the', 'traveler', 'cloaked', 'in', 'dark', 'green', 'robe', 'spoke', 'of', 'distant', 'village', 'named', 'thaliora', 'that', 'was', 'suffering', 'from', 'severe', 'air', 'pollution', 'crisis']\n",
            "['curious', 'and', 'empathetic', 'elara', 'decided', 'to', 'visit', 'thaliora', 'to', 'test', 'her', 'invention', 'and', 'help', 'its', 'people']\n",
            "['the', 'journey', 'was', 'long', 'and', 'arduous']\n",
            "['elara', 'crossed', 'dense', 'forests', 'climbed', 'treacherous', 'mountains', 'and', 'sailed', 'through', 'turbulent', 'seas']\n",
            "['along', 'the', 'way', 'she', 'encountered', 'various', 'challenges']\n",
            "['in', 'the', 'forest', 'group', 'of', 'mischievous', 'monkeys', 'stole', 'her', 'supplies', 'forcing', 'her', 'to', 'devise', 'clever', 'traps', 'to', 'retrieve', 'them']\n",
            "['on', 'the', 'mountains', 'she', 'befriended', 'solitary', 'hermit', 'who', 'taught', 'her', 'the', 'art', 'of', 'patience', 'and', 'resilience']\n",
            "['at', 'sea', 'fierce', 'storm', 'tested', 'her', 'courage', 'but', 'her', 'determination', 'kept', 'her', 'going']\n",
            "['when', 'she', 'finally', 'arrived', 'at', 'thaliora', 'elara', 'was', 'shocked', 'to', 'see', 'the', 'extent', 'of', 'the', 'pollution']\n",
            "['the', 'skies', 'were', 'gray', 'the', 'rivers', 'were', 'blackened', 'and', 'the', 'air', 'was', 'thick', 'with', 'smog']\n",
            "['the', 'villagers', 'clad', 'in', 'makeshift', 'masks', 'were', 'struggling', 'to', 'breathe']\n",
            "['moved', 'by', 'their', 'plight', 'elara', 'quickly', 'set', 'up', 'her', 'machine', 'in', 'the', 'village', 'square']\n",
            "['as', 'the', 'machine', 'began', 'to', 'hum', 'and', 'emit', 'fresh', 'air', 'the', 'villagers', 'gathered', 'around', 'in', 'awe']\n",
            "['within', 'days', 'the', 'air', 'quality', 'in', 'thaliora', 'improved', 'significantly']\n",
            "['the', 'villagers', 'hailed', 'elara', 'as', 'hero', 'and', 'thanked', 'her', 'for', 'her', 'kindness', 'and', 'ingenuity']\n",
            "['news', 'of', 'her', 'invention', 'spread', 'far', 'and', 'wide', 'attracting', 'the', 'attention', 'of', 'scientists', 'and', 'from', 'around', 'the', 'world']\n",
            "['elara', 'returned', 'to', 'innovaria', 'not', 'just', 'as', 'an', 'inventor', 'but', 'as', 'symbol', 'of', 'hope', 'and', 'innovation']\n",
            "['her', 'journey', 'taught', 'her', 'that', 'perseverance', 'and', 'empathy', 'could', 'overcome', 'even', 'the', 'most', 'daunting', 'challenges']\n",
            "['from', 'that', 'day', 'on', 'she', 'continued', 'to', 'create', 'inventions', 'that', 'not', 'only', 'amazed', 'but', 'also', 'made', 'the', 'world', 'better', 'place']\n"
          ]
        }
      ],
      "source": [
        "for i in raw_sent:\n",
        "    print(simple_preprocess(i))"
      ]
    },
    {
      "cell_type": "code",
      "execution_count": 54,
      "metadata": {
        "id": "piw4TgIGg__-"
      },
      "outputs": [],
      "source": [
        "story=[]\n",
        "# Access the string within the list using corpus[0]\n",
        "raw_sent=sent_tokenize(corpus[0])\n",
        "for sent in raw_sent:\n",
        "    story.append(simple_preprocess(sent))"
      ]
    },
    {
      "cell_type": "code",
      "execution_count": 55,
      "metadata": {
        "id": "GxkSGAEEdkKD"
      },
      "outputs": [],
      "source": [
        "import nltk\n",
        "from nltk.tokenize import word_tokenize\n",
        "from nltk.corpus import stopwords\n",
        "from nltk.stem import WordNetLemmatizer\n",
        "import string\n"
      ]
    },
    {
      "cell_type": "code",
      "execution_count": 56,
      "metadata": {
        "colab": {
          "base_uri": "https://localhost:8080/"
        },
        "id": "yPjlC8_uhWtO",
        "outputId": "35ece3d8-919e-4912-b63f-8d423b9913c6"
      },
      "outputs": [
        {
          "name": "stderr",
          "output_type": "stream",
          "text": [
            "[nltk_data] Downloading package stopwords to /root/nltk_data...\n",
            "[nltk_data]   Package stopwords is already up-to-date!\n",
            "[nltk_data] Downloading package wordnet to /root/nltk_data...\n",
            "[nltk_data]   Package wordnet is already up-to-date!\n"
          ]
        },
        {
          "data": {
            "text/plain": [
              "True"
            ]
          },
          "execution_count": 56,
          "metadata": {},
          "output_type": "execute_result"
        }
      ],
      "source": [
        "\n",
        "nltk.download('stopwords')\n",
        "nltk.download('wordnet')"
      ]
    },
    {
      "cell_type": "code",
      "execution_count": 63,
      "metadata": {
        "colab": {
          "base_uri": "https://localhost:8080/"
        },
        "id": "1MfJw9ubhYY3",
        "outputId": "d553f438-d39a-462c-a7a6-f7257695f9c2"
      },
      "outputs": [
        {
          "name": "stdout",
          "output_type": "stream",
          "text": [
            "Once\n",
            "upon\n",
            "a\n",
            "time\n",
            ",\n",
            "in\n",
            "a\n",
            "bustling\n",
            "city\n",
            "named\n",
            "Innovaria\n",
            ",\n",
            "there\n",
            "lived\n",
            "a\n",
            "young\n",
            "inventor\n",
            "named\n",
            "Elara\n",
            ".\n",
            "Elara\n",
            "had\n",
            "a\n",
            "peculiar\n",
            "talent\n",
            "for\n",
            "creating\n",
            "devices\n",
            "that\n",
            "no\n",
            "one\n",
            "had\n",
            "ever\n",
            "imagined\n",
            ".\n",
            "Her\n",
            "latest\n",
            "invention\n",
            "was\n",
            "a\n",
            "small\n",
            ",\n",
            "portable\n",
            "machine\n",
            "that\n",
            "could\n",
            "transform\n",
            "polluted\n",
            "air\n",
            "into\n",
            "fresh\n",
            ",\n",
            "breathable\n",
            "oxygen\n",
            ".\n",
            "Despite\n",
            "her\n",
            "brilliance\n",
            ",\n",
            "Elara\n",
            "was\n",
            "often\n",
            "misunderstood\n",
            "by\n",
            "the\n",
            "townsfolk\n",
            ",\n",
            "who\n",
            "were\n",
            "skeptical\n",
            "of\n",
            "her\n",
            "creations\n",
            "One\n",
            "day\n",
            ",\n",
            "a\n",
            "mysterious\n",
            "traveler\n",
            "visited\n",
            "Innovaria\n",
            ".\n",
            "The\n",
            "traveler\n",
            ",\n",
            "cloaked\n",
            "in\n",
            "a\n",
            "dark\n",
            "green\n",
            "robe\n",
            ",\n",
            "spoke\n",
            "of\n",
            "a\n",
            "distant\n",
            "village\n",
            "named\n",
            "Thaliora\n",
            "that\n",
            "was\n",
            "suffering\n",
            "from\n",
            "a\n",
            "severe\n",
            "air\n",
            "pollution\n",
            "crisis\n",
            ".\n",
            "Curious\n",
            "and\n",
            "empathetic\n",
            ",\n",
            "Elara\n",
            "decided\n",
            "to\n",
            "visit\n",
            "Thaliora\n",
            "to\n",
            "test\n",
            "her\n",
            "invention\n",
            "and\n",
            "help\n",
            "its\n",
            "people\n",
            ".\n",
            "The\n",
            "journey\n",
            "was\n",
            "long\n",
            "and\n",
            "arduous\n",
            ".\n",
            "Elara\n",
            "crossed\n",
            "dense\n",
            "forests\n",
            ",\n",
            "climbed\n",
            "treacherous\n",
            "mountains\n",
            ",\n",
            "and\n",
            "sailed\n",
            "through\n",
            "turbulent\n",
            "seas\n",
            ".\n",
            "Along\n",
            "the\n",
            "way\n",
            ",\n",
            "she\n",
            "encountered\n",
            "various\n",
            "challenges\n",
            ".\n",
            "In\n",
            "the\n",
            "forest\n",
            ",\n",
            "a\n",
            "group\n",
            "of\n",
            "mischievous\n",
            "monkeys\n",
            "stole\n",
            "her\n",
            "supplies\n",
            ",\n",
            "forcing\n",
            "her\n",
            "to\n",
            "devise\n",
            "clever\n",
            "traps\n",
            "to\n",
            "retrieve\n",
            "them\n",
            ".\n",
            "On\n",
            "the\n",
            "mountains\n",
            ",\n",
            "she\n",
            "befriended\n",
            "a\n",
            "solitary\n",
            "hermit\n",
            "who\n",
            "taught\n",
            "her\n",
            "the\n",
            "art\n",
            "of\n",
            "patience\n",
            "and\n",
            "resilience\n",
            ".\n",
            "At\n",
            "sea\n",
            ",\n",
            "a\n",
            "fierce\n",
            "storm\n",
            "tested\n",
            "her\n",
            "courage\n",
            ",\n",
            "but\n",
            "her\n",
            "determination\n",
            "kept\n",
            "her\n",
            "going\n",
            ".\n",
            "When\n",
            "she\n",
            "finally\n",
            "arrived\n",
            "at\n",
            "Thaliora\n",
            ",\n",
            "Elara\n",
            "was\n",
            "shocked\n",
            "to\n",
            "see\n",
            "the\n",
            "extent\n",
            "of\n",
            "the\n",
            "pollution\n",
            ".\n",
            "The\n",
            "skies\n",
            "were\n",
            "gray\n",
            ",\n",
            "the\n",
            "rivers\n",
            "were\n",
            "blackened\n",
            ",\n",
            "and\n",
            "the\n",
            "air\n",
            "was\n",
            "thick\n",
            "with\n",
            "smog\n",
            ".\n",
            "The\n",
            "villagers\n",
            ",\n",
            "clad\n",
            "in\n",
            "makeshift\n",
            "masks\n",
            ",\n",
            "were\n",
            "struggling\n",
            "to\n",
            "breathe\n",
            ".\n",
            "Moved\n",
            "by\n",
            "their\n",
            "plight\n",
            ",\n",
            "Elara\n",
            "quickly\n",
            "set\n",
            "up\n",
            "her\n",
            "machine\n",
            "in\n",
            "the\n",
            "village\n",
            "square\n",
            ".\n",
            "As\n",
            "the\n",
            "machine\n",
            "began\n",
            "to\n",
            "hum\n",
            "and\n",
            "emit\n",
            "fresh\n",
            "air\n",
            ",\n",
            "the\n",
            "villagers\n",
            "gathered\n",
            "around\n",
            "in\n",
            "awe\n",
            ".\n",
            "Within\n",
            "days\n",
            ",\n",
            "the\n",
            "air\n",
            "quality\n",
            "in\n",
            "Thaliora\n",
            "improved\n",
            "significantly\n",
            ".\n",
            "The\n",
            "villagers\n",
            "hailed\n",
            "Elara\n",
            "as\n",
            "a\n",
            "hero\n",
            "and\n",
            "thanked\n",
            "her\n",
            "for\n",
            "her\n",
            "kindness\n",
            "and\n",
            "ingenuity\n",
            ".\n",
            "News\n",
            "of\n",
            "her\n",
            "invention\n",
            "spread\n",
            "far\n",
            "and\n",
            "wide\n",
            ",\n",
            "attracting\n",
            "the\n",
            "attention\n",
            "of\n",
            "scientists\n",
            "and\n",
            "environmentalists\n",
            "from\n",
            "around\n",
            "the\n",
            "world\n",
            ".\n",
            "Elara\n",
            "returned\n",
            "to\n",
            "Innovaria\n",
            ",\n",
            "not\n",
            "just\n",
            "as\n",
            "an\n",
            "inventor\n",
            "but\n",
            "as\n",
            "a\n",
            "symbol\n",
            "of\n",
            "hope\n",
            "and\n",
            "innovation\n",
            ".\n",
            "Her\n",
            "journey\n",
            "taught\n",
            "her\n",
            "that\n",
            "perseverance\n",
            "and\n",
            "empathy\n",
            "could\n",
            "overcome\n",
            "even\n",
            "the\n",
            "most\n",
            "daunting\n",
            "challenges\n",
            ".\n",
            "From\n",
            "that\n",
            "day\n",
            "on\n",
            ",\n",
            "she\n",
            "continued\n",
            "to\n",
            "create\n",
            "inventions\n",
            "that\n",
            "not\n",
            "only\n",
            "amazed\n",
            "but\n",
            "also\n",
            "made\n",
            "the\n",
            "world\n",
            "a\n",
            "better\n",
            "place\n",
            ".\n"
          ]
        }
      ],
      "source": [
        "for i in corpus:\n",
        "    words = word_tokenize(i)\n",
        "    for word in words:\n",
        "        print(word)"
      ]
    },
    {
      "cell_type": "code",
      "execution_count": 58,
      "metadata": {
        "colab": {
          "base_uri": "https://localhost:8080/"
        },
        "id": "Nih9X5aaixVA",
        "outputId": "a8bd94d8-87f0-45f8-b1f2-9e70a1b20f4c"
      },
      "outputs": [
        {
          "name": "stdout",
          "output_type": "stream",
          "text": [
            "[['once', 'upon', 'time', 'in', 'bustling', 'city', 'named', 'innovaria', 'there', 'lived', 'young', 'inventor', 'named', 'elara'], ['elara', 'had', 'peculiar', 'talent', 'for', 'creating', 'devices', 'that', 'no', 'one', 'had', 'ever', 'imagined'], ['her', 'latest', 'invention', 'was', 'small', 'portable', 'machine', 'that', 'could', 'transform', 'polluted', 'air', 'into', 'fresh', 'breathable', 'oxygen'], ['despite', 'her', 'brilliance', 'elara', 'was', 'often', 'misunderstood', 'by', 'the', 'townsfolk', 'who', 'were', 'skeptical', 'of', 'her', 'creations', 'one', 'day', 'mysterious', 'traveler', 'visited', 'innovaria'], ['the', 'traveler', 'cloaked', 'in', 'dark', 'green', 'robe', 'spoke', 'of', 'distant', 'village', 'named', 'thaliora', 'that', 'was', 'suffering', 'from', 'severe', 'air', 'pollution', 'crisis'], ['curious', 'and', 'empathetic', 'elara', 'decided', 'to', 'visit', 'thaliora', 'to', 'test', 'her', 'invention', 'and', 'help', 'its', 'people'], ['the', 'journey', 'was', 'long', 'and', 'arduous'], ['elara', 'crossed', 'dense', 'forests', 'climbed', 'treacherous', 'mountains', 'and', 'sailed', 'through', 'turbulent', 'seas'], ['along', 'the', 'way', 'she', 'encountered', 'various', 'challenges'], ['in', 'the', 'forest', 'group', 'of', 'mischievous', 'monkeys', 'stole', 'her', 'supplies', 'forcing', 'her', 'to', 'devise', 'clever', 'traps', 'to', 'retrieve', 'them'], ['on', 'the', 'mountains', 'she', 'befriended', 'solitary', 'hermit', 'who', 'taught', 'her', 'the', 'art', 'of', 'patience', 'and', 'resilience'], ['at', 'sea', 'fierce', 'storm', 'tested', 'her', 'courage', 'but', 'her', 'determination', 'kept', 'her', 'going'], ['when', 'she', 'finally', 'arrived', 'at', 'thaliora', 'elara', 'was', 'shocked', 'to', 'see', 'the', 'extent', 'of', 'the', 'pollution'], ['the', 'skies', 'were', 'gray', 'the', 'rivers', 'were', 'blackened', 'and', 'the', 'air', 'was', 'thick', 'with', 'smog'], ['the', 'villagers', 'clad', 'in', 'makeshift', 'masks', 'were', 'struggling', 'to', 'breathe'], ['moved', 'by', 'their', 'plight', 'elara', 'quickly', 'set', 'up', 'her', 'machine', 'in', 'the', 'village', 'square'], ['as', 'the', 'machine', 'began', 'to', 'hum', 'and', 'emit', 'fresh', 'air', 'the', 'villagers', 'gathered', 'around', 'in', 'awe'], ['within', 'days', 'the', 'air', 'quality', 'in', 'thaliora', 'improved', 'significantly'], ['the', 'villagers', 'hailed', 'elara', 'as', 'hero', 'and', 'thanked', 'her', 'for', 'her', 'kindness', 'and', 'ingenuity'], ['news', 'of', 'her', 'invention', 'spread', 'far', 'and', 'wide', 'attracting', 'the', 'attention', 'of', 'scientists', 'and', 'from', 'around', 'the', 'world'], ['elara', 'returned', 'to', 'innovaria', 'not', 'just', 'as', 'an', 'inventor', 'but', 'as', 'symbol', 'of', 'hope', 'and', 'innovation'], ['her', 'journey', 'taught', 'her', 'that', 'perseverance', 'and', 'empathy', 'could', 'overcome', 'even', 'the', 'most', 'daunting', 'challenges'], ['from', 'that', 'day', 'on', 'she', 'continued', 'to', 'create', 'inventions', 'that', 'not', 'only', 'amazed', 'but', 'also', 'made', 'the', 'world', 'better', 'place']]\n"
          ]
        }
      ],
      "source": [
        "print(story)"
      ]
    },
    {
      "cell_type": "code",
      "execution_count": 64,
      "metadata": {
        "id": "R2QLw5HihYca"
      },
      "outputs": [],
      "source": [
        "custom_model=gensim.models.Word2Vec(window=10,min_count=5,vector_size=150)"
      ]
    },
    {
      "cell_type": "code",
      "execution_count": 65,
      "metadata": {
        "id": "glQXJ38XhYiU"
      },
      "outputs": [],
      "source": [
        "custom_model.build_vocab(story)"
      ]
    },
    {
      "cell_type": "code",
      "execution_count": 66,
      "metadata": {
        "colab": {
          "base_uri": "https://localhost:8080/"
        },
        "id": "LEu6oLzdiXxu",
        "outputId": "c960a714-2e8e-41aa-97da-30b5e23b771d"
      },
      "outputs": [
        {
          "data": {
            "text/plain": [
              "23"
            ]
          },
          "execution_count": 66,
          "metadata": {},
          "output_type": "execute_result"
        }
      ],
      "source": [
        "custom_model.corpus_count"
      ]
    },
    {
      "cell_type": "code",
      "execution_count": 67,
      "metadata": {
        "colab": {
          "base_uri": "https://localhost:8080/"
        },
        "id": "grlk1RlhiZk9",
        "outputId": "6476a5bb-ddd4-4b23-d82b-2f3d2176c0d6"
      },
      "outputs": [
        {
          "data": {
            "text/plain": [
              "5"
            ]
          },
          "execution_count": 67,
          "metadata": {},
          "output_type": "execute_result"
        }
      ],
      "source": [
        "custom_model.epochs"
      ]
    },
    {
      "cell_type": "code",
      "execution_count": 68,
      "metadata": {
        "colab": {
          "base_uri": "https://localhost:8080/"
        },
        "id": "RNvuh4GYibVE",
        "outputId": "89a7fb30-3adf-4bf3-b0fe-f30936a5e50f"
      },
      "outputs": [
        {
          "data": {
            "text/plain": [
              "338"
            ]
          },
          "execution_count": 68,
          "metadata": {},
          "output_type": "execute_result"
        }
      ],
      "source": [
        "custom_model.corpus_total_words"
      ]
    },
    {
      "cell_type": "code",
      "execution_count": 69,
      "metadata": {
        "colab": {
          "base_uri": "https://localhost:8080/"
        },
        "id": "Azt6sZX5idkh",
        "outputId": "0163d4a0-fb34-40be-9120-670cec5a65d3"
      },
      "outputs": [
        {
          "data": {
            "text/plain": [
              "5"
            ]
          },
          "execution_count": 69,
          "metadata": {},
          "output_type": "execute_result"
        }
      ],
      "source": [
        "custom_model.min_count"
      ]
    },
    {
      "cell_type": "code",
      "execution_count": 70,
      "metadata": {
        "colab": {
          "base_uri": "https://localhost:8080/"
        },
        "id": "dbVavuoSihcm",
        "outputId": "7dae54b0-58aa-436f-f4a2-635a85efc848"
      },
      "outputs": [
        {
          "data": {
            "text/plain": [
              "(50, 1690)"
            ]
          },
          "execution_count": 70,
          "metadata": {},
          "output_type": "execute_result"
        }
      ],
      "source": [
        "custom_model.train(story, total_examples=custom_model.corpus_count, epochs=5)"
      ]
    },
    {
      "cell_type": "code",
      "execution_count": 71,
      "metadata": {
        "colab": {
          "base_uri": "https://localhost:8080/"
        },
        "id": "zblkiRoOikzO",
        "outputId": "99c2562f-7e60-4466-ec32-c90bbf034141"
      },
      "outputs": [
        {
          "name": "stdout",
          "output_type": "stream",
          "text": [
            "Vocabulary size: 10\n",
            "First 10 words: ['the', 'her', 'and', 'to', 'elara', 'of', 'in', 'was', 'that', 'air']\n"
          ]
        }
      ],
      "source": [
        "# Get the vocabulary\n",
        "vocab = list(custom_model.wv.key_to_index.keys())\n",
        "print(\"Vocabulary size:\", len(vocab))\n",
        "print(\"First 10 words:\", vocab[:10])\n"
      ]
    },
    {
      "cell_type": "code",
      "execution_count": 72,
      "metadata": {
        "colab": {
          "base_uri": "https://localhost:8080/"
        },
        "id": "vCqUKEQ6jM99",
        "outputId": "f72fd974-52b0-4509-edb3-8dbdcae700c5"
      },
      "outputs": [
        {
          "name": "stdout",
          "output_type": "stream",
          "text": [
            "Words most similar to 'air': [('in', 0.15116161108016968), ('the', 0.0712772086262703), ('that', 0.0019192667677998543), ('and', -0.0029178576078265905), ('to', -0.01481159869581461)]\n"
          ]
        }
      ],
      "source": [
        "similar_words = custom_model.wv.most_similar('air', topn=5)\n",
        "print(\"Words most similar to 'air':\", similar_words)\n"
      ]
    },
    {
      "cell_type": "code",
      "execution_count": 73,
      "metadata": {
        "colab": {
          "base_uri": "https://localhost:8080/"
        },
        "id": "yNdlSroMjPv2",
        "outputId": "6d60267f-6ac6-444b-ca85-85b685dca3cf"
      },
      "outputs": [
        {
          "name": "stdout",
          "output_type": "stream",
          "text": [
            "Words most similar to 'elara': [('to', 0.18158863484859467), ('was', 0.14260977506637573), ('her', 0.1419278383255005), ('in', 0.05845395103096962), ('the', 0.022051796317100525)]\n"
          ]
        }
      ],
      "source": [
        "similar_words = custom_model.wv.most_similar('elara', topn=5)\n",
        "print(\"Words most similar to 'elara':\", similar_words)\n"
      ]
    },
    {
      "cell_type": "code",
      "execution_count": 74,
      "metadata": {
        "colab": {
          "base_uri": "https://localhost:8080/"
        },
        "id": "OpWsYo3OjSIu",
        "outputId": "8a81a8d3-48c4-4016-9a76-0188be38f1ee"
      },
      "outputs": [
        {
          "name": "stdout",
          "output_type": "stream",
          "text": [
            "Similarity between 'Elara' and 'inventor': -0.052104082\n"
          ]
        }
      ],
      "source": [
        "similarity = custom_model.wv.similarity('elara', 'air')\n",
        "print(\"Similarity between 'Elara' and 'air':\", similarity)\n"
      ]
    },
    {
      "cell_type": "code",
      "execution_count": 75,
      "metadata": {
        "colab": {
          "base_uri": "https://localhost:8080/",
          "height": 699
        },
        "id": "ftEVxqVQjUnb",
        "outputId": "b58fed29-94d2-47bc-f7ac-c376f9d73f27"
      },
      "outputs": [
        {
          "data": {
            "image/png": "[encoded data removed]",
            "text/plain": [
              "<Figure size 1000x800 with 1 Axes>"
            ]
          },
          "metadata": {},
          "output_type": "display_data"
        }
      ],
      "source": [
        "from sklearn.decomposition import PCA\n",
        "import matplotlib.pyplot as plt\n",
        "\n",
        "# Reduce dimensionality of vectors\n",
        "words = list(custom_model.wv.key_to_index.keys())[:50]  # First 50 words\n",
        "word_vectors = [custom_model.wv[word] for word in words]\n",
        "\n",
        "pca = PCA(n_components=2)\n",
        "reduced_vectors = pca.fit_transform(word_vectors)\n",
        "\n",
        "# Plot the words\n",
        "plt.figure(figsize=(10, 8))\n",
        "for i, word in enumerate(words):\n",
        "    plt.scatter(reduced_vectors[i, 0], reduced_vectors[i, 1])\n",
        "    plt.annotate(word, (reduced_vectors[i, 0], reduced_vectors[i, 1]))\n",
        "\n",
        "plt.title(\"Word Embeddings Visualization\")\n",
        "plt.show()\n"
      ]
    },
    {
      "cell_type": "code",
      "execution_count": 76,
      "metadata": {
        "colab": {
          "base_uri": "https://localhost:8080/"
        },
        "id": "0UnZ9Bd4jbIi",
        "outputId": "430e58a8-74db-48b3-fc01-7d6d0a47c0b4"
      },
      "outputs": [
        {
          "name": "stdout",
          "output_type": "stream",
          "text": [
            "Cluster 0: ['to']\n",
            "Cluster 1: ['the', 'in', 'was']\n",
            "Cluster 2: ['her', 'elara', 'of']\n",
            "Cluster 3: ['air']\n",
            "Cluster 4: ['and', 'that']\n"
          ]
        }
      ],
      "source": [
        "from sklearn.cluster import KMeans\n",
        "import numpy as np\n",
        "\n",
        "# Prepare data for clustering\n",
        "word_vectors = np.array([custom_model.wv[word] for word in vocab])\n",
        "num_clusters = 5  # Choose the number of clusters\n",
        "\n",
        "# Perform KMeans clustering\n",
        "kmeans = KMeans(n_clusters=num_clusters, random_state=42)\n",
        "kmeans.fit(word_vectors)\n",
        "\n",
        "# Group words by cluster\n",
        "clusters = {i: [] for i in range(num_clusters)}\n",
        "for word, cluster_id in zip(vocab, kmeans.labels_):\n",
        "    clusters[cluster_id].append(word)\n",
        "\n",
        "# Print clusters\n",
        "for cluster_id, words in clusters.items():\n",
        "    print(f\"Cluster {cluster_id}: {words}\")\n"
      ]
    },
    {
      "cell_type": "code",
      "execution_count": null,
      "metadata": {
        "id": "jKwNH7NXjbOQ"
      },
      "outputs": [],
      "source": []
    }
  ],
  "metadata": {
    "colab": {
      "provenance": []
    },
    "kernelspec": {
      "display_name": "Python 3",
      "name": "python3"
    },
    "language_info": {
      "name": "python"
    }
  },
  "nbformat": 4,
  "nbformat_minor": 0
}
