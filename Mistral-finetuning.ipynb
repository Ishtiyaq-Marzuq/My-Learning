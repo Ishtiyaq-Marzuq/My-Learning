{
  "nbformat": 4,
  "nbformat_minor": 0,
  "metadata": {
    "colab": {
      "provenance": []
    },
    "kernelspec": {
      "name": "python3",
      "display_name": "Python 3"
    },
    "language_info": {
      "name": "python"
    },
    "widgets": {
      "application/vnd.jupyter.widget-state+json": {
        "794aecc0320f44dfbe79c4faa03cc9ad": {
          "model_module": "@jupyter-widgets/controls",
          "model_name": "HBoxModel",
          "model_module_version": "1.5.0",
          "state": {
            "_dom_classes": [],
            "_model_module": "@jupyter-widgets/controls",
            "_model_module_version": "1.5.0",
            "_model_name": "HBoxModel",
            "_view_count": null,
            "_view_module": "@jupyter-widgets/controls",
            "_view_module_version": "1.5.0",
            "_view_name": "HBoxView",
            "box_style": "",
            "children": [
              "IPY_MODEL_d1a70142955e4704b5ca2872bc0327d3",
              "IPY_MODEL_189243f8004443519499de140e6f78ef",
              "IPY_MODEL_72792c3fa0be43c98798f912b7160c11"
            ],
            "layout": "IPY_MODEL_c9aab4fdc39045e4b9527bd735ff738a"
          }
        },
        "d1a70142955e4704b5ca2872bc0327d3": {
          "model_module": "@jupyter-widgets/controls",
          "model_name": "HTMLModel",
          "model_module_version": "1.5.0",
          "state": {
            "_dom_classes": [],
            "_model_module": "@jupyter-widgets/controls",
            "_model_module_version": "1.5.0",
            "_model_name": "HTMLModel",
            "_view_count": null,
            "_view_module": "@jupyter-widgets/controls",
            "_view_module_version": "1.5.0",
            "_view_name": "HTMLView",
            "description": "",
            "description_tooltip": null,
            "layout": "IPY_MODEL_0e2029b9180e4e8c8b4e5340541afc12",
            "placeholder": "​",
            "style": "IPY_MODEL_5f3fcb748140404999755099c893403c",
            "value": "Loading checkpoint shards: 100%"
          }
        },
        "189243f8004443519499de140e6f78ef": {
          "model_module": "@jupyter-widgets/controls",
          "model_name": "FloatProgressModel",
          "model_module_version": "1.5.0",
          "state": {
            "_dom_classes": [],
            "_model_module": "@jupyter-widgets/controls",
            "_model_module_version": "1.5.0",
            "_model_name": "FloatProgressModel",
            "_view_count": null,
            "_view_module": "@jupyter-widgets/controls",
            "_view_module_version": "1.5.0",
            "_view_name": "ProgressView",
            "bar_style": "success",
            "description": "",
            "description_tooltip": null,
            "layout": "IPY_MODEL_d4e62a8d13f94a8cb8b10e8939807606",
            "max": 2,
            "min": 0,
            "orientation": "horizontal",
            "style": "IPY_MODEL_80905fa59d164f1fbb10785e3ec30b0c",
            "value": 2
          }
        },
        "72792c3fa0be43c98798f912b7160c11": {
          "model_module": "@jupyter-widgets/controls",
          "model_name": "HTMLModel",
          "model_module_version": "1.5.0",
          "state": {
            "_dom_classes": [],
            "_model_module": "@jupyter-widgets/controls",
            "_model_module_version": "1.5.0",
            "_model_name": "HTMLModel",
            "_view_count": null,
            "_view_module": "@jupyter-widgets/controls",
            "_view_module_version": "1.5.0",
            "_view_name": "HTMLView",
            "description": "",
            "description_tooltip": null,
            "layout": "IPY_MODEL_edfbbe0dc361469c8c36f4465cbd54f3",
            "placeholder": "​",
            "style": "IPY_MODEL_c251a16e292f4e04870f8b5fe5993a1b",
            "value": " 2/2 [01:13&lt;00:00, 33.83s/it]"
          }
        },
        "c9aab4fdc39045e4b9527bd735ff738a": {
          "model_module": "@jupyter-widgets/base",
          "model_name": "LayoutModel",
          "model_module_version": "1.2.0",
          "state": {
            "_model_module": "@jupyter-widgets/base",
            "_model_module_version": "1.2.0",
            "_model_name": "LayoutModel",
            "_view_count": null,
            "_view_module": "@jupyter-widgets/base",
            "_view_module_version": "1.2.0",
            "_view_name": "LayoutView",
            "align_content": null,
            "align_items": null,
            "align_self": null,
            "border": null,
            "bottom": null,
            "display": null,
            "flex": null,
            "flex_flow": null,
            "grid_area": null,
            "grid_auto_columns": null,
            "grid_auto_flow": null,
            "grid_auto_rows": null,
            "grid_column": null,
            "grid_gap": null,
            "grid_row": null,
            "grid_template_areas": null,
            "grid_template_columns": null,
            "grid_template_rows": null,
            "height": null,
            "justify_content": null,
            "justify_items": null,
            "left": null,
            "margin": null,
            "max_height": null,
            "max_width": null,
            "min_height": null,
            "min_width": null,
            "object_fit": null,
            "object_position": null,
            "order": null,
            "overflow": null,
            "overflow_x": null,
            "overflow_y": null,
            "padding": null,
            "right": null,
            "top": null,
            "visibility": null,
            "width": null
          }
        },
        "0e2029b9180e4e8c8b4e5340541afc12": {
          "model_module": "@jupyter-widgets/base",
          "model_name": "LayoutModel",
          "model_module_version": "1.2.0",
          "state": {
            "_model_module": "@jupyter-widgets/base",
            "_model_module_version": "1.2.0",
            "_model_name": "LayoutModel",
            "_view_count": null,
            "_view_module": "@jupyter-widgets/base",
            "_view_module_version": "1.2.0",
            "_view_name": "LayoutView",
            "align_content": null,
            "align_items": null,
            "align_self": null,
            "border": null,
            "bottom": null,
            "display": null,
            "flex": null,
            "flex_flow": null,
            "grid_area": null,
            "grid_auto_columns": null,
            "grid_auto_flow": null,
            "grid_auto_rows": null,
            "grid_column": null,
            "grid_gap": null,
            "grid_row": null,
            "grid_template_areas": null,
            "grid_template_columns": null,
            "grid_template_rows": null,
            "height": null,
            "justify_content": null,
            "justify_items": null,
            "left": null,
            "margin": null,
            "max_height": null,
            "max_width": null,
            "min_height": null,
            "min_width": null,
            "object_fit": null,
            "object_position": null,
            "order": null,
            "overflow": null,
            "overflow_x": null,
            "overflow_y": null,
            "padding": null,
            "right": null,
            "top": null,
            "visibility": null,
            "width": null
          }
        },
        "5f3fcb748140404999755099c893403c": {
          "model_module": "@jupyter-widgets/controls",
          "model_name": "DescriptionStyleModel",
          "model_module_version": "1.5.0",
          "state": {
            "_model_module": "@jupyter-widgets/controls",
            "_model_module_version": "1.5.0",
            "_model_name": "DescriptionStyleModel",
            "_view_count": null,
            "_view_module": "@jupyter-widgets/base",
            "_view_module_version": "1.2.0",
            "_view_name": "StyleView",
            "description_width": ""
          }
        },
        "d4e62a8d13f94a8cb8b10e8939807606": {
          "model_module": "@jupyter-widgets/base",
          "model_name": "LayoutModel",
          "model_module_version": "1.2.0",
          "state": {
            "_model_module": "@jupyter-widgets/base",
            "_model_module_version": "1.2.0",
            "_model_name": "LayoutModel",
            "_view_count": null,
            "_view_module": "@jupyter-widgets/base",
            "_view_module_version": "1.2.0",
            "_view_name": "LayoutView",
            "align_content": null,
            "align_items": null,
            "align_self": null,
            "border": null,
            "bottom": null,
            "display": null,
            "flex": null,
            "flex_flow": null,
            "grid_area": null,
            "grid_auto_columns": null,
            "grid_auto_flow": null,
            "grid_auto_rows": null,
            "grid_column": null,
            "grid_gap": null,
            "grid_row": null,
            "grid_template_areas": null,
            "grid_template_columns": null,
            "grid_template_rows": null,
            "height": null,
            "justify_content": null,
            "justify_items": null,
            "left": null,
            "margin": null,
            "max_height": null,
            "max_width": null,
            "min_height": null,
            "min_width": null,
            "object_fit": null,
            "object_position": null,
            "order": null,
            "overflow": null,
            "overflow_x": null,
            "overflow_y": null,
            "padding": null,
            "right": null,
            "top": null,
            "visibility": null,
            "width": null
          }
        },
        "80905fa59d164f1fbb10785e3ec30b0c": {
          "model_module": "@jupyter-widgets/controls",
          "model_name": "ProgressStyleModel",
          "model_module_version": "1.5.0",
          "state": {
            "_model_module": "@jupyter-widgets/controls",
            "_model_module_version": "1.5.0",
            "_model_name": "ProgressStyleModel",
            "_view_count": null,
            "_view_module": "@jupyter-widgets/base",
            "_view_module_version": "1.2.0",
            "_view_name": "StyleView",
            "bar_color": null,
            "description_width": ""
          }
        },
        "edfbbe0dc361469c8c36f4465cbd54f3": {
          "model_module": "@jupyter-widgets/base",
          "model_name": "LayoutModel",
          "model_module_version": "1.2.0",
          "state": {
            "_model_module": "@jupyter-widgets/base",
            "_model_module_version": "1.2.0",
            "_model_name": "LayoutModel",
            "_view_count": null,
            "_view_module": "@jupyter-widgets/base",
            "_view_module_version": "1.2.0",
            "_view_name": "LayoutView",
            "align_content": null,
            "align_items": null,
            "align_self": null,
            "border": null,
            "bottom": null,
            "display": null,
            "flex": null,
            "flex_flow": null,
            "grid_area": null,
            "grid_auto_columns": null,
            "grid_auto_flow": null,
            "grid_auto_rows": null,
            "grid_column": null,
            "grid_gap": null,
            "grid_row": null,
            "grid_template_areas": null,
            "grid_template_columns": null,
            "grid_template_rows": null,
            "height": null,
            "justify_content": null,
            "justify_items": null,
            "left": null,
            "margin": null,
            "max_height": null,
            "max_width": null,
            "min_height": null,
            "min_width": null,
            "object_fit": null,
            "object_position": null,
            "order": null,
            "overflow": null,
            "overflow_x": null,
            "overflow_y": null,
            "padding": null,
            "right": null,
            "top": null,
            "visibility": null,
            "width": null
          }
        },
        "c251a16e292f4e04870f8b5fe5993a1b": {
          "model_module": "@jupyter-widgets/controls",
          "model_name": "DescriptionStyleModel",
          "model_module_version": "1.5.0",
          "state": {
            "_model_module": "@jupyter-widgets/controls",
            "_model_module_version": "1.5.0",
            "_model_name": "DescriptionStyleModel",
            "_view_count": null,
            "_view_module": "@jupyter-widgets/base",
            "_view_module_version": "1.2.0",
            "_view_name": "StyleView",
            "description_width": ""
          }
        },
        "37e1416a78934bde82c4ed6656f71056": {
          "model_module": "@jupyter-widgets/controls",
          "model_name": "HBoxModel",
          "model_module_version": "1.5.0",
          "state": {
            "_dom_classes": [],
            "_model_module": "@jupyter-widgets/controls",
            "_model_module_version": "1.5.0",
            "_model_name": "HBoxModel",
            "_view_count": null,
            "_view_module": "@jupyter-widgets/controls",
            "_view_module_version": "1.5.0",
            "_view_name": "HBoxView",
            "box_style": "",
            "children": [
              "IPY_MODEL_2d48a1f1b96c4790bdb7974bca5d215e",
              "IPY_MODEL_38b5046e77a34103a773db1049330714",
              "IPY_MODEL_cfb5019386c042a093aed8bc4d6e6c0a"
            ],
            "layout": "IPY_MODEL_34a6de148a2941598be1e4b65b261703"
          }
        },
        "2d48a1f1b96c4790bdb7974bca5d215e": {
          "model_module": "@jupyter-widgets/controls",
          "model_name": "HTMLModel",
          "model_module_version": "1.5.0",
          "state": {
            "_dom_classes": [],
            "_model_module": "@jupyter-widgets/controls",
            "_model_module_version": "1.5.0",
            "_model_name": "HTMLModel",
            "_view_count": null,
            "_view_module": "@jupyter-widgets/controls",
            "_view_module_version": "1.5.0",
            "_view_name": "HTMLView",
            "description": "",
            "description_tooltip": null,
            "layout": "IPY_MODEL_243a0eb025b746caa3961ab3cd4e4430",
            "placeholder": "​",
            "style": "IPY_MODEL_837524576eb04c7082b014721260964d",
            "value": "Converting train dataset to ChatML: 100%"
          }
        },
        "38b5046e77a34103a773db1049330714": {
          "model_module": "@jupyter-widgets/controls",
          "model_name": "FloatProgressModel",
          "model_module_version": "1.5.0",
          "state": {
            "_dom_classes": [],
            "_model_module": "@jupyter-widgets/controls",
            "_model_module_version": "1.5.0",
            "_model_name": "FloatProgressModel",
            "_view_count": null,
            "_view_module": "@jupyter-widgets/controls",
            "_view_module_version": "1.5.0",
            "_view_name": "ProgressView",
            "bar_style": "success",
            "description": "",
            "description_tooltip": null,
            "layout": "IPY_MODEL_410175a1e4134eb1925e6d24e3def202",
            "max": 14732,
            "min": 0,
            "orientation": "horizontal",
            "style": "IPY_MODEL_d25feb3d07db401ebfa54c0ddbdf0622",
            "value": 14732
          }
        },
        "cfb5019386c042a093aed8bc4d6e6c0a": {
          "model_module": "@jupyter-widgets/controls",
          "model_name": "HTMLModel",
          "model_module_version": "1.5.0",
          "state": {
            "_dom_classes": [],
            "_model_module": "@jupyter-widgets/controls",
            "_model_module_version": "1.5.0",
            "_model_name": "HTMLModel",
            "_view_count": null,
            "_view_module": "@jupyter-widgets/controls",
            "_view_module_version": "1.5.0",
            "_view_name": "HTMLView",
            "description": "",
            "description_tooltip": null,
            "layout": "IPY_MODEL_2e2fd6931f534138baf81c811eaf5b98",
            "placeholder": "​",
            "style": "IPY_MODEL_f31e5cb5687948b0854e543b72f28687",
            "value": " 14732/14732 [00:01&lt;00:00, 11329.15 examples/s]"
          }
        },
        "34a6de148a2941598be1e4b65b261703": {
          "model_module": "@jupyter-widgets/base",
          "model_name": "LayoutModel",
          "model_module_version": "1.2.0",
          "state": {
            "_model_module": "@jupyter-widgets/base",
            "_model_module_version": "1.2.0",
            "_model_name": "LayoutModel",
            "_view_count": null,
            "_view_module": "@jupyter-widgets/base",
            "_view_module_version": "1.2.0",
            "_view_name": "LayoutView",
            "align_content": null,
            "align_items": null,
            "align_self": null,
            "border": null,
            "bottom": null,
            "display": null,
            "flex": null,
            "flex_flow": null,
            "grid_area": null,
            "grid_auto_columns": null,
            "grid_auto_flow": null,
            "grid_auto_rows": null,
            "grid_column": null,
            "grid_gap": null,
            "grid_row": null,
            "grid_template_areas": null,
            "grid_template_columns": null,
            "grid_template_rows": null,
            "height": null,
            "justify_content": null,
            "justify_items": null,
            "left": null,
            "margin": null,
            "max_height": null,
            "max_width": null,
            "min_height": null,
            "min_width": null,
            "object_fit": null,
            "object_position": null,
            "order": null,
            "overflow": null,
            "overflow_x": null,
            "overflow_y": null,
            "padding": null,
            "right": null,
            "top": null,
            "visibility": null,
            "width": null
          }
        },
        "243a0eb025b746caa3961ab3cd4e4430": {
          "model_module": "@jupyter-widgets/base",
          "model_name": "LayoutModel",
          "model_module_version": "1.2.0",
          "state": {
            "_model_module": "@jupyter-widgets/base",
            "_model_module_version": "1.2.0",
            "_model_name": "LayoutModel",
            "_view_count": null,
            "_view_module": "@jupyter-widgets/base",
            "_view_module_version": "1.2.0",
            "_view_name": "LayoutView",
            "align_content": null,
            "align_items": null,
            "align_self": null,
            "border": null,
            "bottom": null,
            "display": null,
            "flex": null,
            "flex_flow": null,
            "grid_area": null,
            "grid_auto_columns": null,
            "grid_auto_flow": null,
            "grid_auto_rows": null,
            "grid_column": null,
            "grid_gap": null,
            "grid_row": null,
            "grid_template_areas": null,
            "grid_template_columns": null,
            "grid_template_rows": null,
            "height": null,
            "justify_content": null,
            "justify_items": null,
            "left": null,
            "margin": null,
            "max_height": null,
            "max_width": null,
            "min_height": null,
            "min_width": null,
            "object_fit": null,
            "object_position": null,
            "order": null,
            "overflow": null,
            "overflow_x": null,
            "overflow_y": null,
            "padding": null,
            "right": null,
            "top": null,
            "visibility": null,
            "width": null
          }
        },
        "837524576eb04c7082b014721260964d": {
          "model_module": "@jupyter-widgets/controls",
          "model_name": "DescriptionStyleModel",
          "model_module_version": "1.5.0",
          "state": {
            "_model_module": "@jupyter-widgets/controls",
            "_model_module_version": "1.5.0",
            "_model_name": "DescriptionStyleModel",
            "_view_count": null,
            "_view_module": "@jupyter-widgets/base",
            "_view_module_version": "1.2.0",
            "_view_name": "StyleView",
            "description_width": ""
          }
        },
        "410175a1e4134eb1925e6d24e3def202": {
          "model_module": "@jupyter-widgets/base",
          "model_name": "LayoutModel",
          "model_module_version": "1.2.0",
          "state": {
            "_model_module": "@jupyter-widgets/base",
            "_model_module_version": "1.2.0",
            "_model_name": "LayoutModel",
            "_view_count": null,
            "_view_module": "@jupyter-widgets/base",
            "_view_module_version": "1.2.0",
            "_view_name": "LayoutView",
            "align_content": null,
            "align_items": null,
            "align_self": null,
            "border": null,
            "bottom": null,
            "display": null,
            "flex": null,
            "flex_flow": null,
            "grid_area": null,
            "grid_auto_columns": null,
            "grid_auto_flow": null,
            "grid_auto_rows": null,
            "grid_column": null,
            "grid_gap": null,
            "grid_row": null,
            "grid_template_areas": null,
            "grid_template_columns": null,
            "grid_template_rows": null,
            "height": null,
            "justify_content": null,
            "justify_items": null,
            "left": null,
            "margin": null,
            "max_height": null,
            "max_width": null,
            "min_height": null,
            "min_width": null,
            "object_fit": null,
            "object_position": null,
            "order": null,
            "overflow": null,
            "overflow_x": null,
            "overflow_y": null,
            "padding": null,
            "right": null,
            "top": null,
            "visibility": null,
            "width": null
          }
        },
        "d25feb3d07db401ebfa54c0ddbdf0622": {
          "model_module": "@jupyter-widgets/controls",
          "model_name": "ProgressStyleModel",
          "model_module_version": "1.5.0",
          "state": {
            "_model_module": "@jupyter-widgets/controls",
            "_model_module_version": "1.5.0",
            "_model_name": "ProgressStyleModel",
            "_view_count": null,
            "_view_module": "@jupyter-widgets/base",
            "_view_module_version": "1.2.0",
            "_view_name": "StyleView",
            "bar_color": null,
            "description_width": ""
          }
        },
        "2e2fd6931f534138baf81c811eaf5b98": {
          "model_module": "@jupyter-widgets/base",
          "model_name": "LayoutModel",
          "model_module_version": "1.2.0",
          "state": {
            "_model_module": "@jupyter-widgets/base",
            "_model_module_version": "1.2.0",
            "_model_name": "LayoutModel",
            "_view_count": null,
            "_view_module": "@jupyter-widgets/base",
            "_view_module_version": "1.2.0",
            "_view_name": "LayoutView",
            "align_content": null,
            "align_items": null,
            "align_self": null,
            "border": null,
            "bottom": null,
            "display": null,
            "flex": null,
            "flex_flow": null,
            "grid_area": null,
            "grid_auto_columns": null,
            "grid_auto_flow": null,
            "grid_auto_rows": null,
            "grid_column": null,
            "grid_gap": null,
            "grid_row": null,
            "grid_template_areas": null,
            "grid_template_columns": null,
            "grid_template_rows": null,
            "height": null,
            "justify_content": null,
            "justify_items": null,
            "left": null,
            "margin": null,
            "max_height": null,
            "max_width": null,
            "min_height": null,
            "min_width": null,
            "object_fit": null,
            "object_position": null,
            "order": null,
            "overflow": null,
            "overflow_x": null,
            "overflow_y": null,
            "padding": null,
            "right": null,
            "top": null,
            "visibility": null,
            "width": null
          }
        },
        "f31e5cb5687948b0854e543b72f28687": {
          "model_module": "@jupyter-widgets/controls",
          "model_name": "DescriptionStyleModel",
          "model_module_version": "1.5.0",
          "state": {
            "_model_module": "@jupyter-widgets/controls",
            "_model_module_version": "1.5.0",
            "_model_name": "DescriptionStyleModel",
            "_view_count": null,
            "_view_module": "@jupyter-widgets/base",
            "_view_module_version": "1.2.0",
            "_view_name": "StyleView",
            "description_width": ""
          }
        },
        "cc5b0c02427f49e6b3254ca15991bfee": {
          "model_module": "@jupyter-widgets/controls",
          "model_name": "HBoxModel",
          "model_module_version": "1.5.0",
          "state": {
            "_dom_classes": [],
            "_model_module": "@jupyter-widgets/controls",
            "_model_module_version": "1.5.0",
            "_model_name": "HBoxModel",
            "_view_count": null,
            "_view_module": "@jupyter-widgets/controls",
            "_view_module_version": "1.5.0",
            "_view_name": "HBoxView",
            "box_style": "",
            "children": [
              "IPY_MODEL_092fbb8384ea4a7282c40449b59a2791",
              "IPY_MODEL_24b21cbe547a4187a0e3c5715218932c",
              "IPY_MODEL_2514aea8902142c9aaa3348012fadf52"
            ],
            "layout": "IPY_MODEL_79df972113084a1ebd7c9b6771cc9060"
          }
        },
        "092fbb8384ea4a7282c40449b59a2791": {
          "model_module": "@jupyter-widgets/controls",
          "model_name": "HTMLModel",
          "model_module_version": "1.5.0",
          "state": {
            "_dom_classes": [],
            "_model_module": "@jupyter-widgets/controls",
            "_model_module_version": "1.5.0",
            "_model_name": "HTMLModel",
            "_view_count": null,
            "_view_module": "@jupyter-widgets/controls",
            "_view_module_version": "1.5.0",
            "_view_name": "HTMLView",
            "description": "",
            "description_tooltip": null,
            "layout": "IPY_MODEL_9170e67acb4749aa9ec6b5b0a09e9505",
            "placeholder": "​",
            "style": "IPY_MODEL_66213834dbed4cacbaafd7ee5d3f44a5",
            "value": "Applying chat template to train dataset: 100%"
          }
        },
        "24b21cbe547a4187a0e3c5715218932c": {
          "model_module": "@jupyter-widgets/controls",
          "model_name": "FloatProgressModel",
          "model_module_version": "1.5.0",
          "state": {
            "_dom_classes": [],
            "_model_module": "@jupyter-widgets/controls",
            "_model_module_version": "1.5.0",
            "_model_name": "FloatProgressModel",
            "_view_count": null,
            "_view_module": "@jupyter-widgets/controls",
            "_view_module_version": "1.5.0",
            "_view_name": "ProgressView",
            "bar_style": "success",
            "description": "",
            "description_tooltip": null,
            "layout": "IPY_MODEL_8bfac090257c47b1b38dc458910b34d5",
            "max": 14732,
            "min": 0,
            "orientation": "horizontal",
            "style": "IPY_MODEL_083463f5e7c3497fb16c678dc89d020c",
            "value": 14732
          }
        },
        "2514aea8902142c9aaa3348012fadf52": {
          "model_module": "@jupyter-widgets/controls",
          "model_name": "HTMLModel",
          "model_module_version": "1.5.0",
          "state": {
            "_dom_classes": [],
            "_model_module": "@jupyter-widgets/controls",
            "_model_module_version": "1.5.0",
            "_model_name": "HTMLModel",
            "_view_count": null,
            "_view_module": "@jupyter-widgets/controls",
            "_view_module_version": "1.5.0",
            "_view_name": "HTMLView",
            "description": "",
            "description_tooltip": null,
            "layout": "IPY_MODEL_60a3ecdc8ee04c1eabc226489a439091",
            "placeholder": "​",
            "style": "IPY_MODEL_ac51dfa9c9fe46fd89f5b8872a96101c",
            "value": " 14732/14732 [00:01&lt;00:00, 13374.50 examples/s]"
          }
        },
        "79df972113084a1ebd7c9b6771cc9060": {
          "model_module": "@jupyter-widgets/base",
          "model_name": "LayoutModel",
          "model_module_version": "1.2.0",
          "state": {
            "_model_module": "@jupyter-widgets/base",
            "_model_module_version": "1.2.0",
            "_model_name": "LayoutModel",
            "_view_count": null,
            "_view_module": "@jupyter-widgets/base",
            "_view_module_version": "1.2.0",
            "_view_name": "LayoutView",
            "align_content": null,
            "align_items": null,
            "align_self": null,
            "border": null,
            "bottom": null,
            "display": null,
            "flex": null,
            "flex_flow": null,
            "grid_area": null,
            "grid_auto_columns": null,
            "grid_auto_flow": null,
            "grid_auto_rows": null,
            "grid_column": null,
            "grid_gap": null,
            "grid_row": null,
            "grid_template_areas": null,
            "grid_template_columns": null,
            "grid_template_rows": null,
            "height": null,
            "justify_content": null,
            "justify_items": null,
            "left": null,
            "margin": null,
            "max_height": null,
            "max_width": null,
            "min_height": null,
            "min_width": null,
            "object_fit": null,
            "object_position": null,
            "order": null,
            "overflow": null,
            "overflow_x": null,
            "overflow_y": null,
            "padding": null,
            "right": null,
            "top": null,
            "visibility": null,
            "width": null
          }
        },
        "9170e67acb4749aa9ec6b5b0a09e9505": {
          "model_module": "@jupyter-widgets/base",
          "model_name": "LayoutModel",
          "model_module_version": "1.2.0",
          "state": {
            "_model_module": "@jupyter-widgets/base",
            "_model_module_version": "1.2.0",
            "_model_name": "LayoutModel",
            "_view_count": null,
            "_view_module": "@jupyter-widgets/base",
            "_view_module_version": "1.2.0",
            "_view_name": "LayoutView",
            "align_content": null,
            "align_items": null,
            "align_self": null,
            "border": null,
            "bottom": null,
            "display": null,
            "flex": null,
            "flex_flow": null,
            "grid_area": null,
            "grid_auto_columns": null,
            "grid_auto_flow": null,
            "grid_auto_rows": null,
            "grid_column": null,
            "grid_gap": null,
            "grid_row": null,
            "grid_template_areas": null,
            "grid_template_columns": null,
            "grid_template_rows": null,
            "height": null,
            "justify_content": null,
            "justify_items": null,
            "left": null,
            "margin": null,
            "max_height": null,
            "max_width": null,
            "min_height": null,
            "min_width": null,
            "object_fit": null,
            "object_position": null,
            "order": null,
            "overflow": null,
            "overflow_x": null,
            "overflow_y": null,
            "padding": null,
            "right": null,
            "top": null,
            "visibility": null,
            "width": null
          }
        },
        "66213834dbed4cacbaafd7ee5d3f44a5": {
          "model_module": "@jupyter-widgets/controls",
          "model_name": "DescriptionStyleModel",
          "model_module_version": "1.5.0",
          "state": {
            "_model_module": "@jupyter-widgets/controls",
            "_model_module_version": "1.5.0",
            "_model_name": "DescriptionStyleModel",
            "_view_count": null,
            "_view_module": "@jupyter-widgets/base",
            "_view_module_version": "1.2.0",
            "_view_name": "StyleView",
            "description_width": ""
          }
        },
        "8bfac090257c47b1b38dc458910b34d5": {
          "model_module": "@jupyter-widgets/base",
          "model_name": "LayoutModel",
          "model_module_version": "1.2.0",
          "state": {
            "_model_module": "@jupyter-widgets/base",
            "_model_module_version": "1.2.0",
            "_model_name": "LayoutModel",
            "_view_count": null,
            "_view_module": "@jupyter-widgets/base",
            "_view_module_version": "1.2.0",
            "_view_name": "LayoutView",
            "align_content": null,
            "align_items": null,
            "align_self": null,
            "border": null,
            "bottom": null,
            "display": null,
            "flex": null,
            "flex_flow": null,
            "grid_area": null,
            "grid_auto_columns": null,
            "grid_auto_flow": null,
            "grid_auto_rows": null,
            "grid_column": null,
            "grid_gap": null,
            "grid_row": null,
            "grid_template_areas": null,
            "grid_template_columns": null,
            "grid_template_rows": null,
            "height": null,
            "justify_content": null,
            "justify_items": null,
            "left": null,
            "margin": null,
            "max_height": null,
            "max_width": null,
            "min_height": null,
            "min_width": null,
            "object_fit": null,
            "object_position": null,
            "order": null,
            "overflow": null,
            "overflow_x": null,
            "overflow_y": null,
            "padding": null,
            "right": null,
            "top": null,
            "visibility": null,
            "width": null
          }
        },
        "083463f5e7c3497fb16c678dc89d020c": {
          "model_module": "@jupyter-widgets/controls",
          "model_name": "ProgressStyleModel",
          "model_module_version": "1.5.0",
          "state": {
            "_model_module": "@jupyter-widgets/controls",
            "_model_module_version": "1.5.0",
            "_model_name": "ProgressStyleModel",
            "_view_count": null,
            "_view_module": "@jupyter-widgets/base",
            "_view_module_version": "1.2.0",
            "_view_name": "StyleView",
            "bar_color": null,
            "description_width": ""
          }
        },
        "60a3ecdc8ee04c1eabc226489a439091": {
          "model_module": "@jupyter-widgets/base",
          "model_name": "LayoutModel",
          "model_module_version": "1.2.0",
          "state": {
            "_model_module": "@jupyter-widgets/base",
            "_model_module_version": "1.2.0",
            "_model_name": "LayoutModel",
            "_view_count": null,
            "_view_module": "@jupyter-widgets/base",
            "_view_module_version": "1.2.0",
            "_view_name": "LayoutView",
            "align_content": null,
            "align_items": null,
            "align_self": null,
            "border": null,
            "bottom": null,
            "display": null,
            "flex": null,
            "flex_flow": null,
            "grid_area": null,
            "grid_auto_columns": null,
            "grid_auto_flow": null,
            "grid_auto_rows": null,
            "grid_column": null,
            "grid_gap": null,
            "grid_row": null,
            "grid_template_areas": null,
            "grid_template_columns": null,
            "grid_template_rows": null,
            "height": null,
            "justify_content": null,
            "justify_items": null,
            "left": null,
            "margin": null,
            "max_height": null,
            "max_width": null,
            "min_height": null,
            "min_width": null,
            "object_fit": null,
            "object_position": null,
            "order": null,
            "overflow": null,
            "overflow_x": null,
            "overflow_y": null,
            "padding": null,
            "right": null,
            "top": null,
            "visibility": null,
            "width": null
          }
        },
        "ac51dfa9c9fe46fd89f5b8872a96101c": {
          "model_module": "@jupyter-widgets/controls",
          "model_name": "DescriptionStyleModel",
          "model_module_version": "1.5.0",
          "state": {
            "_model_module": "@jupyter-widgets/controls",
            "_model_module_version": "1.5.0",
            "_model_name": "DescriptionStyleModel",
            "_view_count": null,
            "_view_module": "@jupyter-widgets/base",
            "_view_module_version": "1.2.0",
            "_view_name": "StyleView",
            "description_width": ""
          }
        },
        "b785ec46dde54fa0a025544886fc25ae": {
          "model_module": "@jupyter-widgets/controls",
          "model_name": "HBoxModel",
          "model_module_version": "1.5.0",
          "state": {
            "_dom_classes": [],
            "_model_module": "@jupyter-widgets/controls",
            "_model_module_version": "1.5.0",
            "_model_name": "HBoxModel",
            "_view_count": null,
            "_view_module": "@jupyter-widgets/controls",
            "_view_module_version": "1.5.0",
            "_view_name": "HBoxView",
            "box_style": "",
            "children": [
              "IPY_MODEL_681f3a3406f243a1aa32bbd342a2ba6f",
              "IPY_MODEL_c88f07f415254b57b2ca1cfb6cb29bc0",
              "IPY_MODEL_9aff044b2c83478d84fbf4a5a38c7442"
            ],
            "layout": "IPY_MODEL_d541a473cbd241b8b7dff00005de48c1"
          }
        },
        "681f3a3406f243a1aa32bbd342a2ba6f": {
          "model_module": "@jupyter-widgets/controls",
          "model_name": "HTMLModel",
          "model_module_version": "1.5.0",
          "state": {
            "_dom_classes": [],
            "_model_module": "@jupyter-widgets/controls",
            "_model_module_version": "1.5.0",
            "_model_name": "HTMLModel",
            "_view_count": null,
            "_view_module": "@jupyter-widgets/controls",
            "_view_module_version": "1.5.0",
            "_view_name": "HTMLView",
            "description": "",
            "description_tooltip": null,
            "layout": "IPY_MODEL_d4f3a336fca24a329c59cd387d7e0659",
            "placeholder": "​",
            "style": "IPY_MODEL_f18cf72ae6b24a498f0aa70a47205200",
            "value": "Tokenizing train dataset: 100%"
          }
        },
        "c88f07f415254b57b2ca1cfb6cb29bc0": {
          "model_module": "@jupyter-widgets/controls",
          "model_name": "FloatProgressModel",
          "model_module_version": "1.5.0",
          "state": {
            "_dom_classes": [],
            "_model_module": "@jupyter-widgets/controls",
            "_model_module_version": "1.5.0",
            "_model_name": "FloatProgressModel",
            "_view_count": null,
            "_view_module": "@jupyter-widgets/controls",
            "_view_module_version": "1.5.0",
            "_view_name": "ProgressView",
            "bar_style": "success",
            "description": "",
            "description_tooltip": null,
            "layout": "IPY_MODEL_5251d8809552477285a71460afec12d0",
            "max": 14732,
            "min": 0,
            "orientation": "horizontal",
            "style": "IPY_MODEL_180a30c509a54d4fb9fdaae00a1d32e6",
            "value": 14732
          }
        },
        "9aff044b2c83478d84fbf4a5a38c7442": {
          "model_module": "@jupyter-widgets/controls",
          "model_name": "HTMLModel",
          "model_module_version": "1.5.0",
          "state": {
            "_dom_classes": [],
            "_model_module": "@jupyter-widgets/controls",
            "_model_module_version": "1.5.0",
            "_model_name": "HTMLModel",
            "_view_count": null,
            "_view_module": "@jupyter-widgets/controls",
            "_view_module_version": "1.5.0",
            "_view_name": "HTMLView",
            "description": "",
            "description_tooltip": null,
            "layout": "IPY_MODEL_2d33c3094e8a45f58f2bbd368ce73312",
            "placeholder": "​",
            "style": "IPY_MODEL_6399b9473d624ae5bd59f5d5af9c97de",
            "value": " 14732/14732 [00:14&lt;00:00, 1267.37 examples/s]"
          }
        },
        "d541a473cbd241b8b7dff00005de48c1": {
          "model_module": "@jupyter-widgets/base",
          "model_name": "LayoutModel",
          "model_module_version": "1.2.0",
          "state": {
            "_model_module": "@jupyter-widgets/base",
            "_model_module_version": "1.2.0",
            "_model_name": "LayoutModel",
            "_view_count": null,
            "_view_module": "@jupyter-widgets/base",
            "_view_module_version": "1.2.0",
            "_view_name": "LayoutView",
            "align_content": null,
            "align_items": null,
            "align_self": null,
            "border": null,
            "bottom": null,
            "display": null,
            "flex": null,
            "flex_flow": null,
            "grid_area": null,
            "grid_auto_columns": null,
            "grid_auto_flow": null,
            "grid_auto_rows": null,
            "grid_column": null,
            "grid_gap": null,
            "grid_row": null,
            "grid_template_areas": null,
            "grid_template_columns": null,
            "grid_template_rows": null,
            "height": null,
            "justify_content": null,
            "justify_items": null,
            "left": null,
            "margin": null,
            "max_height": null,
            "max_width": null,
            "min_height": null,
            "min_width": null,
            "object_fit": null,
            "object_position": null,
            "order": null,
            "overflow": null,
            "overflow_x": null,
            "overflow_y": null,
            "padding": null,
            "right": null,
            "top": null,
            "visibility": null,
            "width": null
          }
        },
        "d4f3a336fca24a329c59cd387d7e0659": {
          "model_module": "@jupyter-widgets/base",
          "model_name": "LayoutModel",
          "model_module_version": "1.2.0",
          "state": {
            "_model_module": "@jupyter-widgets/base",
            "_model_module_version": "1.2.0",
            "_model_name": "LayoutModel",
            "_view_count": null,
            "_view_module": "@jupyter-widgets/base",
            "_view_module_version": "1.2.0",
            "_view_name": "LayoutView",
            "align_content": null,
            "align_items": null,
            "align_self": null,
            "border": null,
            "bottom": null,
            "display": null,
            "flex": null,
            "flex_flow": null,
            "grid_area": null,
            "grid_auto_columns": null,
            "grid_auto_flow": null,
            "grid_auto_rows": null,
            "grid_column": null,
            "grid_gap": null,
            "grid_row": null,
            "grid_template_areas": null,
            "grid_template_columns": null,
            "grid_template_rows": null,
            "height": null,
            "justify_content": null,
            "justify_items": null,
            "left": null,
            "margin": null,
            "max_height": null,
            "max_width": null,
            "min_height": null,
            "min_width": null,
            "object_fit": null,
            "object_position": null,
            "order": null,
            "overflow": null,
            "overflow_x": null,
            "overflow_y": null,
            "padding": null,
            "right": null,
            "top": null,
            "visibility": null,
            "width": null
          }
        },
        "f18cf72ae6b24a498f0aa70a47205200": {
          "model_module": "@jupyter-widgets/controls",
          "model_name": "DescriptionStyleModel",
          "model_module_version": "1.5.0",
          "state": {
            "_model_module": "@jupyter-widgets/controls",
            "_model_module_version": "1.5.0",
            "_model_name": "DescriptionStyleModel",
            "_view_count": null,
            "_view_module": "@jupyter-widgets/base",
            "_view_module_version": "1.2.0",
            "_view_name": "StyleView",
            "description_width": ""
          }
        },
        "5251d8809552477285a71460afec12d0": {
          "model_module": "@jupyter-widgets/base",
          "model_name": "LayoutModel",
          "model_module_version": "1.2.0",
          "state": {
            "_model_module": "@jupyter-widgets/base",
            "_model_module_version": "1.2.0",
            "_model_name": "LayoutModel",
            "_view_count": null,
            "_view_module": "@jupyter-widgets/base",
            "_view_module_version": "1.2.0",
            "_view_name": "LayoutView",
            "align_content": null,
            "align_items": null,
            "align_self": null,
            "border": null,
            "bottom": null,
            "display": null,
            "flex": null,
            "flex_flow": null,
            "grid_area": null,
            "grid_auto_columns": null,
            "grid_auto_flow": null,
            "grid_auto_rows": null,
            "grid_column": null,
            "grid_gap": null,
            "grid_row": null,
            "grid_template_areas": null,
            "grid_template_columns": null,
            "grid_template_rows": null,
            "height": null,
            "justify_content": null,
            "justify_items": null,
            "left": null,
            "margin": null,
            "max_height": null,
            "max_width": null,
            "min_height": null,
            "min_width": null,
            "object_fit": null,
            "object_position": null,
            "order": null,
            "overflow": null,
            "overflow_x": null,
            "overflow_y": null,
            "padding": null,
            "right": null,
            "top": null,
            "visibility": null,
            "width": null
          }
        },
        "180a30c509a54d4fb9fdaae00a1d32e6": {
          "model_module": "@jupyter-widgets/controls",
          "model_name": "ProgressStyleModel",
          "model_module_version": "1.5.0",
          "state": {
            "_model_module": "@jupyter-widgets/controls",
            "_model_module_version": "1.5.0",
            "_model_name": "ProgressStyleModel",
            "_view_count": null,
            "_view_module": "@jupyter-widgets/base",
            "_view_module_version": "1.2.0",
            "_view_name": "StyleView",
            "bar_color": null,
            "description_width": ""
          }
        },
        "2d33c3094e8a45f58f2bbd368ce73312": {
          "model_module": "@jupyter-widgets/base",
          "model_name": "LayoutModel",
          "model_module_version": "1.2.0",
          "state": {
            "_model_module": "@jupyter-widgets/base",
            "_model_module_version": "1.2.0",
            "_model_name": "LayoutModel",
            "_view_count": null,
            "_view_module": "@jupyter-widgets/base",
            "_view_module_version": "1.2.0",
            "_view_name": "LayoutView",
            "align_content": null,
            "align_items": null,
            "align_self": null,
            "border": null,
            "bottom": null,
            "display": null,
            "flex": null,
            "flex_flow": null,
            "grid_area": null,
            "grid_auto_columns": null,
            "grid_auto_flow": null,
            "grid_auto_rows": null,
            "grid_column": null,
            "grid_gap": null,
            "grid_row": null,
            "grid_template_areas": null,
            "grid_template_columns": null,
            "grid_template_rows": null,
            "height": null,
            "justify_content": null,
            "justify_items": null,
            "left": null,
            "margin": null,
            "max_height": null,
            "max_width": null,
            "min_height": null,
            "min_width": null,
            "object_fit": null,
            "object_position": null,
            "order": null,
            "overflow": null,
            "overflow_x": null,
            "overflow_y": null,
            "padding": null,
            "right": null,
            "top": null,
            "visibility": null,
            "width": null
          }
        },
        "6399b9473d624ae5bd59f5d5af9c97de": {
          "model_module": "@jupyter-widgets/controls",
          "model_name": "DescriptionStyleModel",
          "model_module_version": "1.5.0",
          "state": {
            "_model_module": "@jupyter-widgets/controls",
            "_model_module_version": "1.5.0",
            "_model_name": "DescriptionStyleModel",
            "_view_count": null,
            "_view_module": "@jupyter-widgets/base",
            "_view_module_version": "1.2.0",
            "_view_name": "StyleView",
            "description_width": ""
          }
        },
        "3653c648e8724a59b6a5cd77e017e8e3": {
          "model_module": "@jupyter-widgets/controls",
          "model_name": "HBoxModel",
          "model_module_version": "1.5.0",
          "state": {
            "_dom_classes": [],
            "_model_module": "@jupyter-widgets/controls",
            "_model_module_version": "1.5.0",
            "_model_name": "HBoxModel",
            "_view_count": null,
            "_view_module": "@jupyter-widgets/controls",
            "_view_module_version": "1.5.0",
            "_view_name": "HBoxView",
            "box_style": "",
            "children": [
              "IPY_MODEL_8135cd9677a94d629db94558a7c0d4cc",
              "IPY_MODEL_51c98389149f4ddf8ba6e4617e59d05e",
              "IPY_MODEL_45fd1d1808204be2899fe359de905223"
            ],
            "layout": "IPY_MODEL_ef9beddf4cd948968d9452f2f9d4c63b"
          }
        },
        "8135cd9677a94d629db94558a7c0d4cc": {
          "model_module": "@jupyter-widgets/controls",
          "model_name": "HTMLModel",
          "model_module_version": "1.5.0",
          "state": {
            "_dom_classes": [],
            "_model_module": "@jupyter-widgets/controls",
            "_model_module_version": "1.5.0",
            "_model_name": "HTMLModel",
            "_view_count": null,
            "_view_module": "@jupyter-widgets/controls",
            "_view_module_version": "1.5.0",
            "_view_name": "HTMLView",
            "description": "",
            "description_tooltip": null,
            "layout": "IPY_MODEL_ad2d862f84b5482fb225db8a7f86ba6b",
            "placeholder": "​",
            "style": "IPY_MODEL_5d2b3e9a1d8f447ba489c5f5a55b9999",
            "value": "Truncating train dataset: 100%"
          }
        },
        "51c98389149f4ddf8ba6e4617e59d05e": {
          "model_module": "@jupyter-widgets/controls",
          "model_name": "FloatProgressModel",
          "model_module_version": "1.5.0",
          "state": {
            "_dom_classes": [],
            "_model_module": "@jupyter-widgets/controls",
            "_model_module_version": "1.5.0",
            "_model_name": "FloatProgressModel",
            "_view_count": null,
            "_view_module": "@jupyter-widgets/controls",
            "_view_module_version": "1.5.0",
            "_view_name": "ProgressView",
            "bar_style": "success",
            "description": "",
            "description_tooltip": null,
            "layout": "IPY_MODEL_53a6b4b62b3c4430874796264ba7f317",
            "max": 14732,
            "min": 0,
            "orientation": "horizontal",
            "style": "IPY_MODEL_d047682f89ba4cf7b93f9bfbe7ffe878",
            "value": 14732
          }
        },
        "45fd1d1808204be2899fe359de905223": {
          "model_module": "@jupyter-widgets/controls",
          "model_name": "HTMLModel",
          "model_module_version": "1.5.0",
          "state": {
            "_dom_classes": [],
            "_model_module": "@jupyter-widgets/controls",
            "_model_module_version": "1.5.0",
            "_model_name": "HTMLModel",
            "_view_count": null,
            "_view_module": "@jupyter-widgets/controls",
            "_view_module_version": "1.5.0",
            "_view_name": "HTMLView",
            "description": "",
            "description_tooltip": null,
            "layout": "IPY_MODEL_a3a1b5f0c7d54004ad152211739385bb",
            "placeholder": "​",
            "style": "IPY_MODEL_bd10cc44880244279085eb062fd87f1c",
            "value": " 14732/14732 [00:06&lt;00:00, 2473.58 examples/s]"
          }
        },
        "ef9beddf4cd948968d9452f2f9d4c63b": {
          "model_module": "@jupyter-widgets/base",
          "model_name": "LayoutModel",
          "model_module_version": "1.2.0",
          "state": {
            "_model_module": "@jupyter-widgets/base",
            "_model_module_version": "1.2.0",
            "_model_name": "LayoutModel",
            "_view_count": null,
            "_view_module": "@jupyter-widgets/base",
            "_view_module_version": "1.2.0",
            "_view_name": "LayoutView",
            "align_content": null,
            "align_items": null,
            "align_self": null,
            "border": null,
            "bottom": null,
            "display": null,
            "flex": null,
            "flex_flow": null,
            "grid_area": null,
            "grid_auto_columns": null,
            "grid_auto_flow": null,
            "grid_auto_rows": null,
            "grid_column": null,
            "grid_gap": null,
            "grid_row": null,
            "grid_template_areas": null,
            "grid_template_columns": null,
            "grid_template_rows": null,
            "height": null,
            "justify_content": null,
            "justify_items": null,
            "left": null,
            "margin": null,
            "max_height": null,
            "max_width": null,
            "min_height": null,
            "min_width": null,
            "object_fit": null,
            "object_position": null,
            "order": null,
            "overflow": null,
            "overflow_x": null,
            "overflow_y": null,
            "padding": null,
            "right": null,
            "top": null,
            "visibility": null,
            "width": null
          }
        },
        "ad2d862f84b5482fb225db8a7f86ba6b": {
          "model_module": "@jupyter-widgets/base",
          "model_name": "LayoutModel",
          "model_module_version": "1.2.0",
          "state": {
            "_model_module": "@jupyter-widgets/base",
            "_model_module_version": "1.2.0",
            "_model_name": "LayoutModel",
            "_view_count": null,
            "_view_module": "@jupyter-widgets/base",
            "_view_module_version": "1.2.0",
            "_view_name": "LayoutView",
            "align_content": null,
            "align_items": null,
            "align_self": null,
            "border": null,
            "bottom": null,
            "display": null,
            "flex": null,
            "flex_flow": null,
            "grid_area": null,
            "grid_auto_columns": null,
            "grid_auto_flow": null,
            "grid_auto_rows": null,
            "grid_column": null,
            "grid_gap": null,
            "grid_row": null,
            "grid_template_areas": null,
            "grid_template_columns": null,
            "grid_template_rows": null,
            "height": null,
            "justify_content": null,
            "justify_items": null,
            "left": null,
            "margin": null,
            "max_height": null,
            "max_width": null,
            "min_height": null,
            "min_width": null,
            "object_fit": null,
            "object_position": null,
            "order": null,
            "overflow": null,
            "overflow_x": null,
            "overflow_y": null,
            "padding": null,
            "right": null,
            "top": null,
            "visibility": null,
            "width": null
          }
        },
        "5d2b3e9a1d8f447ba489c5f5a55b9999": {
          "model_module": "@jupyter-widgets/controls",
          "model_name": "DescriptionStyleModel",
          "model_module_version": "1.5.0",
          "state": {
            "_model_module": "@jupyter-widgets/controls",
            "_model_module_version": "1.5.0",
            "_model_name": "DescriptionStyleModel",
            "_view_count": null,
            "_view_module": "@jupyter-widgets/base",
            "_view_module_version": "1.2.0",
            "_view_name": "StyleView",
            "description_width": ""
          }
        },
        "53a6b4b62b3c4430874796264ba7f317": {
          "model_module": "@jupyter-widgets/base",
          "model_name": "LayoutModel",
          "model_module_version": "1.2.0",
          "state": {
            "_model_module": "@jupyter-widgets/base",
            "_model_module_version": "1.2.0",
            "_model_name": "LayoutModel",
            "_view_count": null,
            "_view_module": "@jupyter-widgets/base",
            "_view_module_version": "1.2.0",
            "_view_name": "LayoutView",
            "align_content": null,
            "align_items": null,
            "align_self": null,
            "border": null,
            "bottom": null,
            "display": null,
            "flex": null,
            "flex_flow": null,
            "grid_area": null,
            "grid_auto_columns": null,
            "grid_auto_flow": null,
            "grid_auto_rows": null,
            "grid_column": null,
            "grid_gap": null,
            "grid_row": null,
            "grid_template_areas": null,
            "grid_template_columns": null,
            "grid_template_rows": null,
            "height": null,
            "justify_content": null,
            "justify_items": null,
            "left": null,
            "margin": null,
            "max_height": null,
            "max_width": null,
            "min_height": null,
            "min_width": null,
            "object_fit": null,
            "object_position": null,
            "order": null,
            "overflow": null,
            "overflow_x": null,
            "overflow_y": null,
            "padding": null,
            "right": null,
            "top": null,
            "visibility": null,
            "width": null
          }
        },
        "d047682f89ba4cf7b93f9bfbe7ffe878": {
          "model_module": "@jupyter-widgets/controls",
          "model_name": "ProgressStyleModel",
          "model_module_version": "1.5.0",
          "state": {
            "_model_module": "@jupyter-widgets/controls",
            "_model_module_version": "1.5.0",
            "_model_name": "ProgressStyleModel",
            "_view_count": null,
            "_view_module": "@jupyter-widgets/base",
            "_view_module_version": "1.2.0",
            "_view_name": "StyleView",
            "bar_color": null,
            "description_width": ""
          }
        },
        "a3a1b5f0c7d54004ad152211739385bb": {
          "model_module": "@jupyter-widgets/base",
          "model_name": "LayoutModel",
          "model_module_version": "1.2.0",
          "state": {
            "_model_module": "@jupyter-widgets/base",
            "_model_module_version": "1.2.0",
            "_model_name": "LayoutModel",
            "_view_count": null,
            "_view_module": "@jupyter-widgets/base",
            "_view_module_version": "1.2.0",
            "_view_name": "LayoutView",
            "align_content": null,
            "align_items": null,
            "align_self": null,
            "border": null,
            "bottom": null,
            "display": null,
            "flex": null,
            "flex_flow": null,
            "grid_area": null,
            "grid_auto_columns": null,
            "grid_auto_flow": null,
            "grid_auto_rows": null,
            "grid_column": null,
            "grid_gap": null,
            "grid_row": null,
            "grid_template_areas": null,
            "grid_template_columns": null,
            "grid_template_rows": null,
            "height": null,
            "justify_content": null,
            "justify_items": null,
            "left": null,
            "margin": null,
            "max_height": null,
            "max_width": null,
            "min_height": null,
            "min_width": null,
            "object_fit": null,
            "object_position": null,
            "order": null,
            "overflow": null,
            "overflow_x": null,
            "overflow_y": null,
            "padding": null,
            "right": null,
            "top": null,
            "visibility": null,
            "width": null
          }
        },
        "bd10cc44880244279085eb062fd87f1c": {
          "model_module": "@jupyter-widgets/controls",
          "model_name": "DescriptionStyleModel",
          "model_module_version": "1.5.0",
          "state": {
            "_model_module": "@jupyter-widgets/controls",
            "_model_module_version": "1.5.0",
            "_model_name": "DescriptionStyleModel",
            "_view_count": null,
            "_view_module": "@jupyter-widgets/base",
            "_view_module_version": "1.2.0",
            "_view_name": "StyleView",
            "description_width": ""
          }
        }
      }
    }
  },
  "cells": [
    {
      "cell_type": "code",
      "execution_count": null,
      "metadata": {
        "id": "78DGgJVLPAew"
      },
      "outputs": [],
      "source": []
    },
    {
      "cell_type": "code",
      "source": [
        "!pip install accelerate peft bitsandbytes trl py7zr auto-gptq optimum"
      ],
      "metadata": {
        "colab": {
          "base_uri": "https://localhost:8080/"
        },
        "id": "_iB-EuzePA-b",
        "outputId": "a253ed85-472e-45f3-cbde-4d835df9f3c5",
        "collapsed": true
      },
      "execution_count": null,
      "outputs": [
        {
          "output_type": "stream",
          "name": "stdout",
          "text": [
            "Requirement already satisfied: accelerate in /usr/local/lib/python3.11/dist-packages (1.3.0)\n",
            "Requirement already satisfied: peft in /usr/local/lib/python3.11/dist-packages (0.14.0)\n",
            "Requirement already satisfied: bitsandbytes in /usr/local/lib/python3.11/dist-packages (0.45.3)\n",
            "Requirement already satisfied: trl in /usr/local/lib/python3.11/dist-packages (0.15.2)\n",
            "Requirement already satisfied: py7zr in /usr/local/lib/python3.11/dist-packages (0.22.0)\n",
            "Requirement already satisfied: auto-gptq in /usr/local/lib/python3.11/dist-packages (0.7.1)\n",
            "Requirement already satisfied: optimum in /usr/local/lib/python3.11/dist-packages (1.24.0)\n",
            "Requirement already satisfied: numpy<3.0.0,>=1.17 in /usr/local/lib/python3.11/dist-packages (from accelerate) (1.26.4)\n",
            "Requirement already satisfied: packaging>=20.0 in /usr/local/lib/python3.11/dist-packages (from accelerate) (24.2)\n",
            "Requirement already satisfied: psutil in /usr/local/lib/python3.11/dist-packages (from accelerate) (5.9.5)\n",
            "Requirement already satisfied: pyyaml in /usr/local/lib/python3.11/dist-packages (from accelerate) (6.0.2)\n",
            "Requirement already satisfied: torch>=2.0.0 in /usr/local/lib/python3.11/dist-packages (from accelerate) (2.5.1+cu124)\n",
            "Requirement already satisfied: huggingface-hub>=0.21.0 in /usr/local/lib/python3.11/dist-packages (from accelerate) (0.28.1)\n",
            "Requirement already satisfied: safetensors>=0.4.3 in /usr/local/lib/python3.11/dist-packages (from accelerate) (0.5.3)\n",
            "Requirement already satisfied: transformers in /usr/local/lib/python3.11/dist-packages (from peft) (4.48.3)\n",
            "Requirement already satisfied: tqdm in /usr/local/lib/python3.11/dist-packages (from peft) (4.67.1)\n",
            "Requirement already satisfied: datasets>=2.21.0 in /usr/local/lib/python3.11/dist-packages (from trl) (3.3.2)\n",
            "Requirement already satisfied: rich in /usr/local/lib/python3.11/dist-packages (from trl) (13.9.4)\n",
            "Requirement already satisfied: texttable in /usr/local/lib/python3.11/dist-packages (from py7zr) (1.7.0)\n",
            "Requirement already satisfied: pycryptodomex>=3.16.0 in /usr/local/lib/python3.11/dist-packages (from py7zr) (3.21.0)\n",
            "Requirement already satisfied: pyzstd>=0.15.9 in /usr/local/lib/python3.11/dist-packages (from py7zr) (0.16.2)\n",
            "Requirement already satisfied: pyppmd<1.2.0,>=1.1.0 in /usr/local/lib/python3.11/dist-packages (from py7zr) (1.1.1)\n",
            "Requirement already satisfied: pybcj<1.1.0,>=1.0.0 in /usr/local/lib/python3.11/dist-packages (from py7zr) (1.0.3)\n",
            "Requirement already satisfied: multivolumefile>=0.2.3 in /usr/local/lib/python3.11/dist-packages (from py7zr) (0.2.3)\n",
            "Requirement already satisfied: inflate64<1.1.0,>=1.0.0 in /usr/local/lib/python3.11/dist-packages (from py7zr) (1.0.1)\n",
            "Requirement already satisfied: brotli>=1.1.0 in /usr/local/lib/python3.11/dist-packages (from py7zr) (1.1.0)\n",
            "Requirement already satisfied: sentencepiece in /usr/local/lib/python3.11/dist-packages (from auto-gptq) (0.2.0)\n",
            "Requirement already satisfied: rouge in /usr/local/lib/python3.11/dist-packages (from auto-gptq) (1.0.1)\n",
            "Requirement already satisfied: gekko in /usr/local/lib/python3.11/dist-packages (from auto-gptq) (1.2.1)\n",
            "Requirement already satisfied: filelock in /usr/local/lib/python3.11/dist-packages (from datasets>=2.21.0->trl) (3.17.0)\n",
            "Requirement already satisfied: pyarrow>=15.0.0 in /usr/local/lib/python3.11/dist-packages (from datasets>=2.21.0->trl) (18.1.0)\n",
            "Requirement already satisfied: dill<0.3.9,>=0.3.0 in /usr/local/lib/python3.11/dist-packages (from datasets>=2.21.0->trl) (0.3.8)\n",
            "Requirement already satisfied: pandas in /usr/local/lib/python3.11/dist-packages (from datasets>=2.21.0->trl) (2.2.2)\n",
            "Requirement already satisfied: requests>=2.32.2 in /usr/local/lib/python3.11/dist-packages (from datasets>=2.21.0->trl) (2.32.3)\n",
            "Requirement already satisfied: xxhash in /usr/local/lib/python3.11/dist-packages (from datasets>=2.21.0->trl) (3.5.0)\n",
            "Requirement already satisfied: multiprocess<0.70.17 in /usr/local/lib/python3.11/dist-packages (from datasets>=2.21.0->trl) (0.70.16)\n",
            "Requirement already satisfied: fsspec<=2024.12.0,>=2023.1.0 in /usr/local/lib/python3.11/dist-packages (from fsspec[http]<=2024.12.0,>=2023.1.0->datasets>=2.21.0->trl) (2024.10.0)\n",
            "Requirement already satisfied: aiohttp in /usr/local/lib/python3.11/dist-packages (from datasets>=2.21.0->trl) (3.11.13)\n",
            "Requirement already satisfied: typing-extensions>=3.7.4.3 in /usr/local/lib/python3.11/dist-packages (from huggingface-hub>=0.21.0->accelerate) (4.12.2)\n",
            "Requirement already satisfied: networkx in /usr/local/lib/python3.11/dist-packages (from torch>=2.0.0->accelerate) (3.4.2)\n",
            "Requirement already satisfied: jinja2 in /usr/local/lib/python3.11/dist-packages (from torch>=2.0.0->accelerate) (3.1.5)\n",
            "Requirement already satisfied: nvidia-cuda-nvrtc-cu12==12.4.127 in /usr/local/lib/python3.11/dist-packages (from torch>=2.0.0->accelerate) (12.4.127)\n",
            "Requirement already satisfied: nvidia-cuda-runtime-cu12==12.4.127 in /usr/local/lib/python3.11/dist-packages (from torch>=2.0.0->accelerate) (12.4.127)\n",
            "Requirement already satisfied: nvidia-cuda-cupti-cu12==12.4.127 in /usr/local/lib/python3.11/dist-packages (from torch>=2.0.0->accelerate) (12.4.127)\n",
            "Requirement already satisfied: nvidia-cudnn-cu12==9.1.0.70 in /usr/local/lib/python3.11/dist-packages (from torch>=2.0.0->accelerate) (9.1.0.70)\n",
            "Requirement already satisfied: nvidia-cublas-cu12==12.4.5.8 in /usr/local/lib/python3.11/dist-packages (from torch>=2.0.0->accelerate) (12.4.5.8)\n",
            "Requirement already satisfied: nvidia-cufft-cu12==11.2.1.3 in /usr/local/lib/python3.11/dist-packages (from torch>=2.0.0->accelerate) (11.2.1.3)\n",
            "Requirement already satisfied: nvidia-curand-cu12==10.3.5.147 in /usr/local/lib/python3.11/dist-packages (from torch>=2.0.0->accelerate) (10.3.5.147)\n",
            "Requirement already satisfied: nvidia-cusolver-cu12==11.6.1.9 in /usr/local/lib/python3.11/dist-packages (from torch>=2.0.0->accelerate) (11.6.1.9)\n",
            "Requirement already satisfied: nvidia-cusparse-cu12==12.3.1.170 in /usr/local/lib/python3.11/dist-packages (from torch>=2.0.0->accelerate) (12.3.1.170)\n",
            "Requirement already satisfied: nvidia-nccl-cu12==2.21.5 in /usr/local/lib/python3.11/dist-packages (from torch>=2.0.0->accelerate) (2.21.5)\n",
            "Requirement already satisfied: nvidia-nvtx-cu12==12.4.127 in /usr/local/lib/python3.11/dist-packages (from torch>=2.0.0->accelerate) (12.4.127)\n",
            "Requirement already satisfied: nvidia-nvjitlink-cu12==12.4.127 in /usr/local/lib/python3.11/dist-packages (from torch>=2.0.0->accelerate) (12.4.127)\n",
            "Requirement already satisfied: triton==3.1.0 in /usr/local/lib/python3.11/dist-packages (from torch>=2.0.0->accelerate) (3.1.0)\n",
            "Requirement already satisfied: sympy==1.13.1 in /usr/local/lib/python3.11/dist-packages (from torch>=2.0.0->accelerate) (1.13.1)\n",
            "Requirement already satisfied: mpmath<1.4,>=1.1.0 in /usr/local/lib/python3.11/dist-packages (from sympy==1.13.1->torch>=2.0.0->accelerate) (1.3.0)\n",
            "Requirement already satisfied: regex!=2019.12.17 in /usr/local/lib/python3.11/dist-packages (from transformers->peft) (2024.11.6)\n",
            "Requirement already satisfied: tokenizers<0.22,>=0.21 in /usr/local/lib/python3.11/dist-packages (from transformers->peft) (0.21.0)\n",
            "Requirement already satisfied: markdown-it-py>=2.2.0 in /usr/local/lib/python3.11/dist-packages (from rich->trl) (3.0.0)\n",
            "Requirement already satisfied: pygments<3.0.0,>=2.13.0 in /usr/local/lib/python3.11/dist-packages (from rich->trl) (2.18.0)\n",
            "Requirement already satisfied: six in /usr/local/lib/python3.11/dist-packages (from rouge->auto-gptq) (1.17.0)\n",
            "Requirement already satisfied: aiohappyeyeballs>=2.3.0 in /usr/local/lib/python3.11/dist-packages (from aiohttp->datasets>=2.21.0->trl) (2.4.6)\n",
            "Requirement already satisfied: aiosignal>=1.1.2 in /usr/local/lib/python3.11/dist-packages (from aiohttp->datasets>=2.21.0->trl) (1.3.2)\n",
            "Requirement already satisfied: attrs>=17.3.0 in /usr/local/lib/python3.11/dist-packages (from aiohttp->datasets>=2.21.0->trl) (25.1.0)\n",
            "Requirement already satisfied: frozenlist>=1.1.1 in /usr/local/lib/python3.11/dist-packages (from aiohttp->datasets>=2.21.0->trl) (1.5.0)\n",
            "Requirement already satisfied: multidict<7.0,>=4.5 in /usr/local/lib/python3.11/dist-packages (from aiohttp->datasets>=2.21.0->trl) (6.1.0)\n",
            "Requirement already satisfied: propcache>=0.2.0 in /usr/local/lib/python3.11/dist-packages (from aiohttp->datasets>=2.21.0->trl) (0.3.0)\n",
            "Requirement already satisfied: yarl<2.0,>=1.17.0 in /usr/local/lib/python3.11/dist-packages (from aiohttp->datasets>=2.21.0->trl) (1.18.3)\n",
            "Requirement already satisfied: mdurl~=0.1 in /usr/local/lib/python3.11/dist-packages (from markdown-it-py>=2.2.0->rich->trl) (0.1.2)\n",
            "Requirement already satisfied: charset-normalizer<4,>=2 in /usr/local/lib/python3.11/dist-packages (from requests>=2.32.2->datasets>=2.21.0->trl) (3.4.1)\n",
            "Requirement already satisfied: idna<4,>=2.5 in /usr/local/lib/python3.11/dist-packages (from requests>=2.32.2->datasets>=2.21.0->trl) (3.10)\n",
            "Requirement already satisfied: urllib3<3,>=1.21.1 in /usr/local/lib/python3.11/dist-packages (from requests>=2.32.2->datasets>=2.21.0->trl) (2.3.0)\n",
            "Requirement already satisfied: certifi>=2017.4.17 in /usr/local/lib/python3.11/dist-packages (from requests>=2.32.2->datasets>=2.21.0->trl) (2025.1.31)\n",
            "Requirement already satisfied: MarkupSafe>=2.0 in /usr/local/lib/python3.11/dist-packages (from jinja2->torch>=2.0.0->accelerate) (3.0.2)\n",
            "Requirement already satisfied: python-dateutil>=2.8.2 in /usr/local/lib/python3.11/dist-packages (from pandas->datasets>=2.21.0->trl) (2.8.2)\n",
            "Requirement already satisfied: pytz>=2020.1 in /usr/local/lib/python3.11/dist-packages (from pandas->datasets>=2.21.0->trl) (2025.1)\n",
            "Requirement already satisfied: tzdata>=2022.7 in /usr/local/lib/python3.11/dist-packages (from pandas->datasets>=2.21.0->trl) (2025.1)\n"
          ]
        }
      ]
    },
    {
      "cell_type": "code",
      "source": [
        "import torch\n",
        "import os\n",
        "from datasets import load_dataset,Dataset\n",
        "from transformers import AutoModelForCausalLM, AutoTokenizer, BitsAndBytesConfig, TrainingArguments,GPTQConfig\n",
        "from peft import LoraConfig,AutoPeftModelForCausalLM,prepare_model_for_kbit_training,get_peft_model\n",
        "from trl import SFTTrainer"
      ],
      "metadata": {
        "id": "kohLuKupR0So"
      },
      "execution_count": null,
      "outputs": []
    },
    {
      "cell_type": "code",
      "source": [
        "data  = load_dataset('samsum',split='train')"
      ],
      "metadata": {
        "id": "Y__A7UPwSRaC"
      },
      "execution_count": null,
      "outputs": []
    },
    {
      "cell_type": "code",
      "source": [
        "data\n"
      ],
      "metadata": {
        "colab": {
          "base_uri": "https://localhost:8080/"
        },
        "id": "uEs1gPYXSRdb",
        "outputId": "19af0d02-b7a6-434c-d3c7-6e3c056792ac"
      },
      "execution_count": null,
      "outputs": [
        {
          "output_type": "execute_result",
          "data": {
            "text/plain": [
              "Dataset({\n",
              "    features: ['id', 'dialogue', 'summary'],\n",
              "    num_rows: 14732\n",
              "})"
            ]
          },
          "metadata": {},
          "execution_count": 61
        }
      ]
    },
    {
      "cell_type": "code",
      "source": [
        "data.to_pandas()\n"
      ],
      "metadata": {
        "colab": {
          "base_uri": "https://localhost:8080/",
          "height": 423
        },
        "id": "5gI9cVPHVwsi",
        "outputId": "e2530d0f-6174-4407-bcfd-792f838a2b53"
      },
      "execution_count": null,
      "outputs": [
        {
          "output_type": "execute_result",
          "data": {
            "text/plain": [
              "             id                                           dialogue  \\\n",
              "0      13818513  Amanda: I baked  cookies. Do you want some?\\r\\...   \n",
              "1      13728867  Olivia: Who are you voting for in this electio...   \n",
              "2      13681000  Tim: Hi, what's up?\\r\\nKim: Bad mood tbh, I wa...   \n",
              "3      13730747  Edward: Rachel, I think I'm in ove with Bella....   \n",
              "4      13728094  Sam: hey  overheard rick say something\\r\\nSam:...   \n",
              "...         ...                                                ...   \n",
              "14727  13863028  Romeo: You are on my ‘People you may know’ lis...   \n",
              "14728  13828570  Theresa: <file_photo>\\r\\nTheresa: <file_photo>...   \n",
              "14729  13819050  John: Every day some bad news. Japan will hunt...   \n",
              "14730  13828395  Jennifer: Dear Celia! How are you doing?\\r\\nJe...   \n",
              "14731  13729017  Georgia: are you ready for hotel hunting? We n...   \n",
              "\n",
              "                                                 summary  \n",
              "0      Amanda baked cookies and will bring Jerry some...  \n",
              "1      Olivia and Olivier are voting for liberals in ...  \n",
              "2      Kim may try the pomodoro technique recommended...  \n",
              "3      Edward thinks he is in love with Bella. Rachel...  \n",
              "4      Sam is confused, because he overheard Rick com...  \n",
              "...                                                  ...  \n",
              "14727  Romeo is trying to get Greta to add him to her...  \n",
              "14728  Theresa is at work. She gets free food and fre...  \n",
              "14729  Japan is going to hunt whales again. Island an...  \n",
              "14730  Celia couldn't make it to the afternoon with t...  \n",
              "14731  Georgia and Juliette are looking for a hotel i...  \n",
              "\n",
              "[14732 rows x 3 columns]"
            ],
            "text/html": [
              "\n",
              "  <div id=\"df-dfe74175-0e5e-471c-8440-3f2679d4f63e\" class=\"colab-df-container\">\n",
              "    <div>\n",
              "<style scoped>\n",
              "    .dataframe tbody tr th:only-of-type {\n",
              "        vertical-align: middle;\n",
              "    }\n",
              "\n",
              "    .dataframe tbody tr th {\n",
              "        vertical-align: top;\n",
              "    }\n",
              "\n",
              "    .dataframe thead th {\n",
              "        text-align: right;\n",
              "    }\n",
              "</style>\n",
              "<table border=\"1\" class=\"dataframe\">\n",
              "  <thead>\n",
              "    <tr style=\"text-align: right;\">\n",
              "      <th></th>\n",
              "      <th>id</th>\n",
              "      <th>dialogue</th>\n",
              "      <th>summary</th>\n",
              "    </tr>\n",
              "  </thead>\n",
              "  <tbody>\n",
              "    <tr>\n",
              "      <th>0</th>\n",
              "      <td>13818513</td>\n",
              "      <td>Amanda: I baked  cookies. Do you want some?\\r\\...</td>\n",
              "      <td>Amanda baked cookies and will bring Jerry some...</td>\n",
              "    </tr>\n",
              "    <tr>\n",
              "      <th>1</th>\n",
              "      <td>13728867</td>\n",
              "      <td>Olivia: Who are you voting for in this electio...</td>\n",
              "      <td>Olivia and Olivier are voting for liberals in ...</td>\n",
              "    </tr>\n",
              "    <tr>\n",
              "      <th>2</th>\n",
              "      <td>13681000</td>\n",
              "      <td>Tim: Hi, what's up?\\r\\nKim: Bad mood tbh, I wa...</td>\n",
              "      <td>Kim may try the pomodoro technique recommended...</td>\n",
              "    </tr>\n",
              "    <tr>\n",
              "      <th>3</th>\n",
              "      <td>13730747</td>\n",
              "      <td>Edward: Rachel, I think I'm in ove with Bella....</td>\n",
              "      <td>Edward thinks he is in love with Bella. Rachel...</td>\n",
              "    </tr>\n",
              "    <tr>\n",
              "      <th>4</th>\n",
              "      <td>13728094</td>\n",
              "      <td>Sam: hey  overheard rick say something\\r\\nSam:...</td>\n",
              "      <td>Sam is confused, because he overheard Rick com...</td>\n",
              "    </tr>\n",
              "    <tr>\n",
              "      <th>...</th>\n",
              "      <td>...</td>\n",
              "      <td>...</td>\n",
              "      <td>...</td>\n",
              "    </tr>\n",
              "    <tr>\n",
              "      <th>14727</th>\n",
              "      <td>13863028</td>\n",
              "      <td>Romeo: You are on my ‘People you may know’ lis...</td>\n",
              "      <td>Romeo is trying to get Greta to add him to her...</td>\n",
              "    </tr>\n",
              "    <tr>\n",
              "      <th>14728</th>\n",
              "      <td>13828570</td>\n",
              "      <td>Theresa: &lt;file_photo&gt;\\r\\nTheresa: &lt;file_photo&gt;...</td>\n",
              "      <td>Theresa is at work. She gets free food and fre...</td>\n",
              "    </tr>\n",
              "    <tr>\n",
              "      <th>14729</th>\n",
              "      <td>13819050</td>\n",
              "      <td>John: Every day some bad news. Japan will hunt...</td>\n",
              "      <td>Japan is going to hunt whales again. Island an...</td>\n",
              "    </tr>\n",
              "    <tr>\n",
              "      <th>14730</th>\n",
              "      <td>13828395</td>\n",
              "      <td>Jennifer: Dear Celia! How are you doing?\\r\\nJe...</td>\n",
              "      <td>Celia couldn't make it to the afternoon with t...</td>\n",
              "    </tr>\n",
              "    <tr>\n",
              "      <th>14731</th>\n",
              "      <td>13729017</td>\n",
              "      <td>Georgia: are you ready for hotel hunting? We n...</td>\n",
              "      <td>Georgia and Juliette are looking for a hotel i...</td>\n",
              "    </tr>\n",
              "  </tbody>\n",
              "</table>\n",
              "<p>14732 rows × 3 columns</p>\n",
              "</div>\n",
              "    <div class=\"colab-df-buttons\">\n",
              "\n",
              "  <div class=\"colab-df-container\">\n",
              "    <button class=\"colab-df-convert\" onclick=\"convertToInteractive('df-dfe74175-0e5e-471c-8440-3f2679d4f63e')\"\n",
              "            title=\"Convert this dataframe to an interactive table.\"\n",
              "            style=\"display:none;\">\n",
              "\n",
              "  <svg xmlns=\"http://www.w3.org/2000/svg\" height=\"24px\" viewBox=\"0 -960 960 960\">\n",
              "    <path d=\"M120-120v-720h720v720H120Zm60-500h600v-160H180v160Zm220 220h160v-160H400v160Zm0 220h160v-160H400v160ZM180-400h160v-160H180v160Zm440 0h160v-160H620v160ZM180-180h160v-160H180v160Zm440 0h160v-160H620v160Z\"/>\n",
              "  </svg>\n",
              "    </button>\n",
              "\n",
              "  <style>\n",
              "    .colab-df-container {\n",
              "      display:flex;\n",
              "      gap: 12px;\n",
              "    }\n",
              "\n",
              "    .colab-df-convert {\n",
              "      background-color: #E8F0FE;\n",
              "      border: none;\n",
              "      border-radius: 50%;\n",
              "      cursor: pointer;\n",
              "      display: none;\n",
              "      fill: #1967D2;\n",
              "      height: 32px;\n",
              "      padding: 0 0 0 0;\n",
              "      width: 32px;\n",
              "    }\n",
              "\n",
              "    .colab-df-convert:hover {\n",
              "      background-color: #E2EBFA;\n",
              "      box-shadow: 0px 1px 2px rgba(60, 64, 67, 0.3), 0px 1px 3px 1px rgba(60, 64, 67, 0.15);\n",
              "      fill: #174EA6;\n",
              "    }\n",
              "\n",
              "    .colab-df-buttons div {\n",
              "      margin-bottom: 4px;\n",
              "    }\n",
              "\n",
              "    [theme=dark] .colab-df-convert {\n",
              "      background-color: #3B4455;\n",
              "      fill: #D2E3FC;\n",
              "    }\n",
              "\n",
              "    [theme=dark] .colab-df-convert:hover {\n",
              "      background-color: #434B5C;\n",
              "      box-shadow: 0px 1px 3px 1px rgba(0, 0, 0, 0.15);\n",
              "      filter: drop-shadow(0px 1px 2px rgba(0, 0, 0, 0.3));\n",
              "      fill: #FFFFFF;\n",
              "    }\n",
              "  </style>\n",
              "\n",
              "    <script>\n",
              "      const buttonEl =\n",
              "        document.querySelector('#df-dfe74175-0e5e-471c-8440-3f2679d4f63e button.colab-df-convert');\n",
              "      buttonEl.style.display =\n",
              "        google.colab.kernel.accessAllowed ? 'block' : 'none';\n",
              "\n",
              "      async function convertToInteractive(key) {\n",
              "        const element = document.querySelector('#df-dfe74175-0e5e-471c-8440-3f2679d4f63e');\n",
              "        const dataTable =\n",
              "          await google.colab.kernel.invokeFunction('convertToInteractive',\n",
              "                                                    [key], {});\n",
              "        if (!dataTable) return;\n",
              "\n",
              "        const docLinkHtml = 'Like what you see? Visit the ' +\n",
              "          '<a target=\"_blank\" href=https://colab.research.google.com/notebooks/data_table.ipynb>data table notebook</a>'\n",
              "          + ' to learn more about interactive tables.';\n",
              "        element.innerHTML = '';\n",
              "        dataTable['output_type'] = 'display_data';\n",
              "        await google.colab.output.renderOutput(dataTable, element);\n",
              "        const docLink = document.createElement('div');\n",
              "        docLink.innerHTML = docLinkHtml;\n",
              "        element.appendChild(docLink);\n",
              "      }\n",
              "    </script>\n",
              "  </div>\n",
              "\n",
              "\n",
              "<div id=\"df-aca6b715-4592-4e2c-b399-b9fcdbca61cc\">\n",
              "  <button class=\"colab-df-quickchart\" onclick=\"quickchart('df-aca6b715-4592-4e2c-b399-b9fcdbca61cc')\"\n",
              "            title=\"Suggest charts\"\n",
              "            style=\"display:none;\">\n",
              "\n",
              "<svg xmlns=\"http://www.w3.org/2000/svg\" height=\"24px\"viewBox=\"0 0 24 24\"\n",
              "     width=\"24px\">\n",
              "    <g>\n",
              "        <path d=\"M19 3H5c-1.1 0-2 .9-2 2v14c0 1.1.9 2 2 2h14c1.1 0 2-.9 2-2V5c0-1.1-.9-2-2-2zM9 17H7v-7h2v7zm4 0h-2V7h2v10zm4 0h-2v-4h2v4z\"/>\n",
              "    </g>\n",
              "</svg>\n",
              "  </button>\n",
              "\n",
              "<style>\n",
              "  .colab-df-quickchart {\n",
              "      --bg-color: #E8F0FE;\n",
              "      --fill-color: #1967D2;\n",
              "      --hover-bg-color: #E2EBFA;\n",
              "      --hover-fill-color: #174EA6;\n",
              "      --disabled-fill-color: #AAA;\n",
              "      --disabled-bg-color: #DDD;\n",
              "  }\n",
              "\n",
              "  [theme=dark] .colab-df-quickchart {\n",
              "      --bg-color: #3B4455;\n",
              "      --fill-color: #D2E3FC;\n",
              "      --hover-bg-color: #434B5C;\n",
              "      --hover-fill-color: #FFFFFF;\n",
              "      --disabled-bg-color: #3B4455;\n",
              "      --disabled-fill-color: #666;\n",
              "  }\n",
              "\n",
              "  .colab-df-quickchart {\n",
              "    background-color: var(--bg-color);\n",
              "    border: none;\n",
              "    border-radius: 50%;\n",
              "    cursor: pointer;\n",
              "    display: none;\n",
              "    fill: var(--fill-color);\n",
              "    height: 32px;\n",
              "    padding: 0;\n",
              "    width: 32px;\n",
              "  }\n",
              "\n",
              "  .colab-df-quickchart:hover {\n",
              "    background-color: var(--hover-bg-color);\n",
              "    box-shadow: 0 1px 2px rgba(60, 64, 67, 0.3), 0 1px 3px 1px rgba(60, 64, 67, 0.15);\n",
              "    fill: var(--button-hover-fill-color);\n",
              "  }\n",
              "\n",
              "  .colab-df-quickchart-complete:disabled,\n",
              "  .colab-df-quickchart-complete:disabled:hover {\n",
              "    background-color: var(--disabled-bg-color);\n",
              "    fill: var(--disabled-fill-color);\n",
              "    box-shadow: none;\n",
              "  }\n",
              "\n",
              "  .colab-df-spinner {\n",
              "    border: 2px solid var(--fill-color);\n",
              "    border-color: transparent;\n",
              "    border-bottom-color: var(--fill-color);\n",
              "    animation:\n",
              "      spin 1s steps(1) infinite;\n",
              "  }\n",
              "\n",
              "  @keyframes spin {\n",
              "    0% {\n",
              "      border-color: transparent;\n",
              "      border-bottom-color: var(--fill-color);\n",
              "      border-left-color: var(--fill-color);\n",
              "    }\n",
              "    20% {\n",
              "      border-color: transparent;\n",
              "      border-left-color: var(--fill-color);\n",
              "      border-top-color: var(--fill-color);\n",
              "    }\n",
              "    30% {\n",
              "      border-color: transparent;\n",
              "      border-left-color: var(--fill-color);\n",
              "      border-top-color: var(--fill-color);\n",
              "      border-right-color: var(--fill-color);\n",
              "    }\n",
              "    40% {\n",
              "      border-color: transparent;\n",
              "      border-right-color: var(--fill-color);\n",
              "      border-top-color: var(--fill-color);\n",
              "    }\n",
              "    60% {\n",
              "      border-color: transparent;\n",
              "      border-right-color: var(--fill-color);\n",
              "    }\n",
              "    80% {\n",
              "      border-color: transparent;\n",
              "      border-right-color: var(--fill-color);\n",
              "      border-bottom-color: var(--fill-color);\n",
              "    }\n",
              "    90% {\n",
              "      border-color: transparent;\n",
              "      border-bottom-color: var(--fill-color);\n",
              "    }\n",
              "  }\n",
              "</style>\n",
              "\n",
              "  <script>\n",
              "    async function quickchart(key) {\n",
              "      const quickchartButtonEl =\n",
              "        document.querySelector('#' + key + ' button');\n",
              "      quickchartButtonEl.disabled = true;  // To prevent multiple clicks.\n",
              "      quickchartButtonEl.classList.add('colab-df-spinner');\n",
              "      try {\n",
              "        const charts = await google.colab.kernel.invokeFunction(\n",
              "            'suggestCharts', [key], {});\n",
              "      } catch (error) {\n",
              "        console.error('Error during call to suggestCharts:', error);\n",
              "      }\n",
              "      quickchartButtonEl.classList.remove('colab-df-spinner');\n",
              "      quickchartButtonEl.classList.add('colab-df-quickchart-complete');\n",
              "    }\n",
              "    (() => {\n",
              "      let quickchartButtonEl =\n",
              "        document.querySelector('#df-aca6b715-4592-4e2c-b399-b9fcdbca61cc button');\n",
              "      quickchartButtonEl.style.display =\n",
              "        google.colab.kernel.accessAllowed ? 'block' : 'none';\n",
              "    })();\n",
              "  </script>\n",
              "</div>\n",
              "\n",
              "    </div>\n",
              "  </div>\n"
            ],
            "application/vnd.google.colaboratory.intrinsic+json": {
              "type": "dataframe",
              "summary": "{\n  \"name\": \"data\",\n  \"rows\": 14732,\n  \"fields\": [\n    {\n      \"column\": \"id\",\n      \"properties\": {\n        \"dtype\": \"string\",\n        \"num_unique_values\": 14732,\n        \"samples\": [\n          \"13811908\",\n          \"13716431\",\n          \"13810214\"\n        ],\n        \"semantic_type\": \"\",\n        \"description\": \"\"\n      }\n    },\n    {\n      \"column\": \"dialogue\",\n      \"properties\": {\n        \"dtype\": \"string\",\n        \"num_unique_values\": 14265,\n        \"samples\": [\n          \"Charles: <file_other>\\r\\nCharles: It seems that the govt decided to fuck us even harder\\r\\nCharles: Every year prices go up\\r\\nCharles: Maybe raising taxes is a source of pleasure for those so called 'politicians'?\\r\\nMike: Dude...\\r\\nMike: I don't mind people interested in kinky stuff\\r\\nMike: But have never expected such political perversion in my own country\\r\\nCharles: Neither have I. It makes me think\\r\\nCharles: That wouldn't be a big deal if only the earnings would go up as well\\r\\nCharles: No wonder people resort to going abroad\\r\\nMike: Actually I've been considering working somewhere abroad lately\\r\\nMike: I've been looking for a job since May here and there's a few offers available\\r\\nMike: Mainly physical, hard work...\\r\\nCharles: This system sucks!\\r\\nCharles: You're wasting the best years of your life on education, then it turns out there's no job for you in your profession...\\r\\nMike: Yeah, it's true. But complaining rarely changes anything\\r\\nMike: It's better to take some action\\r\\nMike: Going abroad is not that bad, I think I'll give it a try. Wanna join me?\\r\\nCharles: And where would you like to go?\\r\\nMike: The Netherlands for starters, the perspectives are decent and it'd be a chance to visit Amsterdam, the city of freedom! :D\\r\\nCharles: Damn, you're pulling me in!\\r\\nCharles: And actually... besides earning some money it can serve as a good adventure\\r\\nMike: So? R U in?\\r\\nCharles: Give me a few days, I'll ask around and let you know soon\\r\\nMike: Fine, remember that I'm going anyway :p\\r\\nCharles: Sure, I feel I've already decided too! :D\\r\\nCharles: Talk to you soon\\r\\nMike: All right\",\n          \"Finn: I heard that Britney got expelled.\\r\\nTerry: why?\\r\\nOswald: what for?\\r\\nFinn: you know her general behavior\\r\\nOswald: and she's absent a lot\\r\\nFinn: so yeah, that accumulated kinda, but now she's been accused of making that blue graffiti that popped up 3 days ago\\r\\nTerry: I was wondering if this might have anything to do with that graffiti\\r\\nFinn: apparently it does\\r\\nOswald: you think she did it?\\r\\nFinn: who knows? She certainly likes to draw\\r\\nTerry: maybe they just needed an excuse to finally kick her out\\r\\nFinn: maybe\\r\\nOswald: too bad, though, I kinda liked her\\r\\nFinn: liked her liked her? ;)\\r\\nOswald: no, ofc not, but she's pretty cool\\r\\nFinn: true that\",\n          \"Darren: Look! 10am!\\r\\nFrank: Whoa! They're awesome knockers.\\r\\nDarren: Stop staring or she'll notice us! LOL\"\n        ],\n        \"semantic_type\": \"\",\n        \"description\": \"\"\n      }\n    },\n    {\n      \"column\": \"summary\",\n      \"properties\": {\n        \"dtype\": \"string\",\n        \"num_unique_values\": 14730,\n        \"samples\": [\n          \"Violet sent Claire Austin's article.\",\n          \"Michael, Tom and Chris tease Mark because he has a new girlfriend.\",\n          \"Leo just had a very good time with his parents in Spain. Granny will be happy if he came round and told her about his holidays. He could also see flowers blooming in her and Daddy's garden.\"\n        ],\n        \"semantic_type\": \"\",\n        \"description\": \"\"\n      }\n    }\n  ]\n}"
            }
          },
          "metadata": {},
          "execution_count": 62
        }
      ]
    },
    {
      "cell_type": "code",
      "source": [
        "data_df = data.to_pandas()"
      ],
      "metadata": {
        "id": "4IVmupyvV0pB"
      },
      "execution_count": null,
      "outputs": []
    },
    {
      "cell_type": "code",
      "source": [
        "data_df.head()"
      ],
      "metadata": {
        "colab": {
          "base_uri": "https://localhost:8080/",
          "height": 206
        },
        "id": "SFiL6cmkXAqu",
        "outputId": "43f51bd9-b478-4321-b5d8-43ebf9e98836"
      },
      "execution_count": null,
      "outputs": [
        {
          "output_type": "execute_result",
          "data": {
            "text/plain": [
              "         id                                           dialogue  \\\n",
              "0  13818513  Amanda: I baked  cookies. Do you want some?\\r\\...   \n",
              "1  13728867  Olivia: Who are you voting for in this electio...   \n",
              "2  13681000  Tim: Hi, what's up?\\r\\nKim: Bad mood tbh, I wa...   \n",
              "3  13730747  Edward: Rachel, I think I'm in ove with Bella....   \n",
              "4  13728094  Sam: hey  overheard rick say something\\r\\nSam:...   \n",
              "\n",
              "                                             summary  \n",
              "0  Amanda baked cookies and will bring Jerry some...  \n",
              "1  Olivia and Olivier are voting for liberals in ...  \n",
              "2  Kim may try the pomodoro technique recommended...  \n",
              "3  Edward thinks he is in love with Bella. Rachel...  \n",
              "4  Sam is confused, because he overheard Rick com...  "
            ],
            "text/html": [
              "\n",
              "  <div id=\"df-e10faf19-e80e-43e5-bba2-401782991abe\" class=\"colab-df-container\">\n",
              "    <div>\n",
              "<style scoped>\n",
              "    .dataframe tbody tr th:only-of-type {\n",
              "        vertical-align: middle;\n",
              "    }\n",
              "\n",
              "    .dataframe tbody tr th {\n",
              "        vertical-align: top;\n",
              "    }\n",
              "\n",
              "    .dataframe thead th {\n",
              "        text-align: right;\n",
              "    }\n",
              "</style>\n",
              "<table border=\"1\" class=\"dataframe\">\n",
              "  <thead>\n",
              "    <tr style=\"text-align: right;\">\n",
              "      <th></th>\n",
              "      <th>id</th>\n",
              "      <th>dialogue</th>\n",
              "      <th>summary</th>\n",
              "    </tr>\n",
              "  </thead>\n",
              "  <tbody>\n",
              "    <tr>\n",
              "      <th>0</th>\n",
              "      <td>13818513</td>\n",
              "      <td>Amanda: I baked  cookies. Do you want some?\\r\\...</td>\n",
              "      <td>Amanda baked cookies and will bring Jerry some...</td>\n",
              "    </tr>\n",
              "    <tr>\n",
              "      <th>1</th>\n",
              "      <td>13728867</td>\n",
              "      <td>Olivia: Who are you voting for in this electio...</td>\n",
              "      <td>Olivia and Olivier are voting for liberals in ...</td>\n",
              "    </tr>\n",
              "    <tr>\n",
              "      <th>2</th>\n",
              "      <td>13681000</td>\n",
              "      <td>Tim: Hi, what's up?\\r\\nKim: Bad mood tbh, I wa...</td>\n",
              "      <td>Kim may try the pomodoro technique recommended...</td>\n",
              "    </tr>\n",
              "    <tr>\n",
              "      <th>3</th>\n",
              "      <td>13730747</td>\n",
              "      <td>Edward: Rachel, I think I'm in ove with Bella....</td>\n",
              "      <td>Edward thinks he is in love with Bella. Rachel...</td>\n",
              "    </tr>\n",
              "    <tr>\n",
              "      <th>4</th>\n",
              "      <td>13728094</td>\n",
              "      <td>Sam: hey  overheard rick say something\\r\\nSam:...</td>\n",
              "      <td>Sam is confused, because he overheard Rick com...</td>\n",
              "    </tr>\n",
              "  </tbody>\n",
              "</table>\n",
              "</div>\n",
              "    <div class=\"colab-df-buttons\">\n",
              "\n",
              "  <div class=\"colab-df-container\">\n",
              "    <button class=\"colab-df-convert\" onclick=\"convertToInteractive('df-e10faf19-e80e-43e5-bba2-401782991abe')\"\n",
              "            title=\"Convert this dataframe to an interactive table.\"\n",
              "            style=\"display:none;\">\n",
              "\n",
              "  <svg xmlns=\"http://www.w3.org/2000/svg\" height=\"24px\" viewBox=\"0 -960 960 960\">\n",
              "    <path d=\"M120-120v-720h720v720H120Zm60-500h600v-160H180v160Zm220 220h160v-160H400v160Zm0 220h160v-160H400v160ZM180-400h160v-160H180v160Zm440 0h160v-160H620v160ZM180-180h160v-160H180v160Zm440 0h160v-160H620v160Z\"/>\n",
              "  </svg>\n",
              "    </button>\n",
              "\n",
              "  <style>\n",
              "    .colab-df-container {\n",
              "      display:flex;\n",
              "      gap: 12px;\n",
              "    }\n",
              "\n",
              "    .colab-df-convert {\n",
              "      background-color: #E8F0FE;\n",
              "      border: none;\n",
              "      border-radius: 50%;\n",
              "      cursor: pointer;\n",
              "      display: none;\n",
              "      fill: #1967D2;\n",
              "      height: 32px;\n",
              "      padding: 0 0 0 0;\n",
              "      width: 32px;\n",
              "    }\n",
              "\n",
              "    .colab-df-convert:hover {\n",
              "      background-color: #E2EBFA;\n",
              "      box-shadow: 0px 1px 2px rgba(60, 64, 67, 0.3), 0px 1px 3px 1px rgba(60, 64, 67, 0.15);\n",
              "      fill: #174EA6;\n",
              "    }\n",
              "\n",
              "    .colab-df-buttons div {\n",
              "      margin-bottom: 4px;\n",
              "    }\n",
              "\n",
              "    [theme=dark] .colab-df-convert {\n",
              "      background-color: #3B4455;\n",
              "      fill: #D2E3FC;\n",
              "    }\n",
              "\n",
              "    [theme=dark] .colab-df-convert:hover {\n",
              "      background-color: #434B5C;\n",
              "      box-shadow: 0px 1px 3px 1px rgba(0, 0, 0, 0.15);\n",
              "      filter: drop-shadow(0px 1px 2px rgba(0, 0, 0, 0.3));\n",
              "      fill: #FFFFFF;\n",
              "    }\n",
              "  </style>\n",
              "\n",
              "    <script>\n",
              "      const buttonEl =\n",
              "        document.querySelector('#df-e10faf19-e80e-43e5-bba2-401782991abe button.colab-df-convert');\n",
              "      buttonEl.style.display =\n",
              "        google.colab.kernel.accessAllowed ? 'block' : 'none';\n",
              "\n",
              "      async function convertToInteractive(key) {\n",
              "        const element = document.querySelector('#df-e10faf19-e80e-43e5-bba2-401782991abe');\n",
              "        const dataTable =\n",
              "          await google.colab.kernel.invokeFunction('convertToInteractive',\n",
              "                                                    [key], {});\n",
              "        if (!dataTable) return;\n",
              "\n",
              "        const docLinkHtml = 'Like what you see? Visit the ' +\n",
              "          '<a target=\"_blank\" href=https://colab.research.google.com/notebooks/data_table.ipynb>data table notebook</a>'\n",
              "          + ' to learn more about interactive tables.';\n",
              "        element.innerHTML = '';\n",
              "        dataTable['output_type'] = 'display_data';\n",
              "        await google.colab.output.renderOutput(dataTable, element);\n",
              "        const docLink = document.createElement('div');\n",
              "        docLink.innerHTML = docLinkHtml;\n",
              "        element.appendChild(docLink);\n",
              "      }\n",
              "    </script>\n",
              "  </div>\n",
              "\n",
              "\n",
              "<div id=\"df-f4a55144-53d0-454c-9272-3227cb821b13\">\n",
              "  <button class=\"colab-df-quickchart\" onclick=\"quickchart('df-f4a55144-53d0-454c-9272-3227cb821b13')\"\n",
              "            title=\"Suggest charts\"\n",
              "            style=\"display:none;\">\n",
              "\n",
              "<svg xmlns=\"http://www.w3.org/2000/svg\" height=\"24px\"viewBox=\"0 0 24 24\"\n",
              "     width=\"24px\">\n",
              "    <g>\n",
              "        <path d=\"M19 3H5c-1.1 0-2 .9-2 2v14c0 1.1.9 2 2 2h14c1.1 0 2-.9 2-2V5c0-1.1-.9-2-2-2zM9 17H7v-7h2v7zm4 0h-2V7h2v10zm4 0h-2v-4h2v4z\"/>\n",
              "    </g>\n",
              "</svg>\n",
              "  </button>\n",
              "\n",
              "<style>\n",
              "  .colab-df-quickchart {\n",
              "      --bg-color: #E8F0FE;\n",
              "      --fill-color: #1967D2;\n",
              "      --hover-bg-color: #E2EBFA;\n",
              "      --hover-fill-color: #174EA6;\n",
              "      --disabled-fill-color: #AAA;\n",
              "      --disabled-bg-color: #DDD;\n",
              "  }\n",
              "\n",
              "  [theme=dark] .colab-df-quickchart {\n",
              "      --bg-color: #3B4455;\n",
              "      --fill-color: #D2E3FC;\n",
              "      --hover-bg-color: #434B5C;\n",
              "      --hover-fill-color: #FFFFFF;\n",
              "      --disabled-bg-color: #3B4455;\n",
              "      --disabled-fill-color: #666;\n",
              "  }\n",
              "\n",
              "  .colab-df-quickchart {\n",
              "    background-color: var(--bg-color);\n",
              "    border: none;\n",
              "    border-radius: 50%;\n",
              "    cursor: pointer;\n",
              "    display: none;\n",
              "    fill: var(--fill-color);\n",
              "    height: 32px;\n",
              "    padding: 0;\n",
              "    width: 32px;\n",
              "  }\n",
              "\n",
              "  .colab-df-quickchart:hover {\n",
              "    background-color: var(--hover-bg-color);\n",
              "    box-shadow: 0 1px 2px rgba(60, 64, 67, 0.3), 0 1px 3px 1px rgba(60, 64, 67, 0.15);\n",
              "    fill: var(--button-hover-fill-color);\n",
              "  }\n",
              "\n",
              "  .colab-df-quickchart-complete:disabled,\n",
              "  .colab-df-quickchart-complete:disabled:hover {\n",
              "    background-color: var(--disabled-bg-color);\n",
              "    fill: var(--disabled-fill-color);\n",
              "    box-shadow: none;\n",
              "  }\n",
              "\n",
              "  .colab-df-spinner {\n",
              "    border: 2px solid var(--fill-color);\n",
              "    border-color: transparent;\n",
              "    border-bottom-color: var(--fill-color);\n",
              "    animation:\n",
              "      spin 1s steps(1) infinite;\n",
              "  }\n",
              "\n",
              "  @keyframes spin {\n",
              "    0% {\n",
              "      border-color: transparent;\n",
              "      border-bottom-color: var(--fill-color);\n",
              "      border-left-color: var(--fill-color);\n",
              "    }\n",
              "    20% {\n",
              "      border-color: transparent;\n",
              "      border-left-color: var(--fill-color);\n",
              "      border-top-color: var(--fill-color);\n",
              "    }\n",
              "    30% {\n",
              "      border-color: transparent;\n",
              "      border-left-color: var(--fill-color);\n",
              "      border-top-color: var(--fill-color);\n",
              "      border-right-color: var(--fill-color);\n",
              "    }\n",
              "    40% {\n",
              "      border-color: transparent;\n",
              "      border-right-color: var(--fill-color);\n",
              "      border-top-color: var(--fill-color);\n",
              "    }\n",
              "    60% {\n",
              "      border-color: transparent;\n",
              "      border-right-color: var(--fill-color);\n",
              "    }\n",
              "    80% {\n",
              "      border-color: transparent;\n",
              "      border-right-color: var(--fill-color);\n",
              "      border-bottom-color: var(--fill-color);\n",
              "    }\n",
              "    90% {\n",
              "      border-color: transparent;\n",
              "      border-bottom-color: var(--fill-color);\n",
              "    }\n",
              "  }\n",
              "</style>\n",
              "\n",
              "  <script>\n",
              "    async function quickchart(key) {\n",
              "      const quickchartButtonEl =\n",
              "        document.querySelector('#' + key + ' button');\n",
              "      quickchartButtonEl.disabled = true;  // To prevent multiple clicks.\n",
              "      quickchartButtonEl.classList.add('colab-df-spinner');\n",
              "      try {\n",
              "        const charts = await google.colab.kernel.invokeFunction(\n",
              "            'suggestCharts', [key], {});\n",
              "      } catch (error) {\n",
              "        console.error('Error during call to suggestCharts:', error);\n",
              "      }\n",
              "      quickchartButtonEl.classList.remove('colab-df-spinner');\n",
              "      quickchartButtonEl.classList.add('colab-df-quickchart-complete');\n",
              "    }\n",
              "    (() => {\n",
              "      let quickchartButtonEl =\n",
              "        document.querySelector('#df-f4a55144-53d0-454c-9272-3227cb821b13 button');\n",
              "      quickchartButtonEl.style.display =\n",
              "        google.colab.kernel.accessAllowed ? 'block' : 'none';\n",
              "    })();\n",
              "  </script>\n",
              "</div>\n",
              "\n",
              "    </div>\n",
              "  </div>\n"
            ],
            "application/vnd.google.colaboratory.intrinsic+json": {
              "type": "dataframe",
              "variable_name": "data_df",
              "summary": "{\n  \"name\": \"data_df\",\n  \"rows\": 14732,\n  \"fields\": [\n    {\n      \"column\": \"id\",\n      \"properties\": {\n        \"dtype\": \"string\",\n        \"num_unique_values\": 14732,\n        \"samples\": [\n          \"13811908\",\n          \"13716431\",\n          \"13810214\"\n        ],\n        \"semantic_type\": \"\",\n        \"description\": \"\"\n      }\n    },\n    {\n      \"column\": \"dialogue\",\n      \"properties\": {\n        \"dtype\": \"string\",\n        \"num_unique_values\": 14265,\n        \"samples\": [\n          \"Charles: <file_other>\\r\\nCharles: It seems that the govt decided to fuck us even harder\\r\\nCharles: Every year prices go up\\r\\nCharles: Maybe raising taxes is a source of pleasure for those so called 'politicians'?\\r\\nMike: Dude...\\r\\nMike: I don't mind people interested in kinky stuff\\r\\nMike: But have never expected such political perversion in my own country\\r\\nCharles: Neither have I. It makes me think\\r\\nCharles: That wouldn't be a big deal if only the earnings would go up as well\\r\\nCharles: No wonder people resort to going abroad\\r\\nMike: Actually I've been considering working somewhere abroad lately\\r\\nMike: I've been looking for a job since May here and there's a few offers available\\r\\nMike: Mainly physical, hard work...\\r\\nCharles: This system sucks!\\r\\nCharles: You're wasting the best years of your life on education, then it turns out there's no job for you in your profession...\\r\\nMike: Yeah, it's true. But complaining rarely changes anything\\r\\nMike: It's better to take some action\\r\\nMike: Going abroad is not that bad, I think I'll give it a try. Wanna join me?\\r\\nCharles: And where would you like to go?\\r\\nMike: The Netherlands for starters, the perspectives are decent and it'd be a chance to visit Amsterdam, the city of freedom! :D\\r\\nCharles: Damn, you're pulling me in!\\r\\nCharles: And actually... besides earning some money it can serve as a good adventure\\r\\nMike: So? R U in?\\r\\nCharles: Give me a few days, I'll ask around and let you know soon\\r\\nMike: Fine, remember that I'm going anyway :p\\r\\nCharles: Sure, I feel I've already decided too! :D\\r\\nCharles: Talk to you soon\\r\\nMike: All right\",\n          \"Finn: I heard that Britney got expelled.\\r\\nTerry: why?\\r\\nOswald: what for?\\r\\nFinn: you know her general behavior\\r\\nOswald: and she's absent a lot\\r\\nFinn: so yeah, that accumulated kinda, but now she's been accused of making that blue graffiti that popped up 3 days ago\\r\\nTerry: I was wondering if this might have anything to do with that graffiti\\r\\nFinn: apparently it does\\r\\nOswald: you think she did it?\\r\\nFinn: who knows? She certainly likes to draw\\r\\nTerry: maybe they just needed an excuse to finally kick her out\\r\\nFinn: maybe\\r\\nOswald: too bad, though, I kinda liked her\\r\\nFinn: liked her liked her? ;)\\r\\nOswald: no, ofc not, but she's pretty cool\\r\\nFinn: true that\",\n          \"Darren: Look! 10am!\\r\\nFrank: Whoa! They're awesome knockers.\\r\\nDarren: Stop staring or she'll notice us! LOL\"\n        ],\n        \"semantic_type\": \"\",\n        \"description\": \"\"\n      }\n    },\n    {\n      \"column\": \"summary\",\n      \"properties\": {\n        \"dtype\": \"string\",\n        \"num_unique_values\": 14730,\n        \"samples\": [\n          \"Violet sent Claire Austin's article.\",\n          \"Michael, Tom and Chris tease Mark because he has a new girlfriend.\",\n          \"Leo just had a very good time with his parents in Spain. Granny will be happy if he came round and told her about his holidays. He could also see flowers blooming in her and Daddy's garden.\"\n        ],\n        \"semantic_type\": \"\",\n        \"description\": \"\"\n      }\n    }\n  ]\n}"
            }
          },
          "metadata": {},
          "execution_count": 64
        }
      ]
    },
    {
      "cell_type": "code",
      "source": [
        "data_df[['dialogue','summary']]"
      ],
      "metadata": {
        "colab": {
          "base_uri": "https://localhost:8080/",
          "height": 423
        },
        "id": "oIofMT_JXEpN",
        "outputId": "1f7c8052-dc4c-4999-ed4c-c1772a7f8752"
      },
      "execution_count": null,
      "outputs": [
        {
          "output_type": "execute_result",
          "data": {
            "text/plain": [
              "                                                dialogue  \\\n",
              "0      Amanda: I baked  cookies. Do you want some?\\r\\...   \n",
              "1      Olivia: Who are you voting for in this electio...   \n",
              "2      Tim: Hi, what's up?\\r\\nKim: Bad mood tbh, I wa...   \n",
              "3      Edward: Rachel, I think I'm in ove with Bella....   \n",
              "4      Sam: hey  overheard rick say something\\r\\nSam:...   \n",
              "...                                                  ...   \n",
              "14727  Romeo: You are on my ‘People you may know’ lis...   \n",
              "14728  Theresa: <file_photo>\\r\\nTheresa: <file_photo>...   \n",
              "14729  John: Every day some bad news. Japan will hunt...   \n",
              "14730  Jennifer: Dear Celia! How are you doing?\\r\\nJe...   \n",
              "14731  Georgia: are you ready for hotel hunting? We n...   \n",
              "\n",
              "                                                 summary  \n",
              "0      Amanda baked cookies and will bring Jerry some...  \n",
              "1      Olivia and Olivier are voting for liberals in ...  \n",
              "2      Kim may try the pomodoro technique recommended...  \n",
              "3      Edward thinks he is in love with Bella. Rachel...  \n",
              "4      Sam is confused, because he overheard Rick com...  \n",
              "...                                                  ...  \n",
              "14727  Romeo is trying to get Greta to add him to her...  \n",
              "14728  Theresa is at work. She gets free food and fre...  \n",
              "14729  Japan is going to hunt whales again. Island an...  \n",
              "14730  Celia couldn't make it to the afternoon with t...  \n",
              "14731  Georgia and Juliette are looking for a hotel i...  \n",
              "\n",
              "[14732 rows x 2 columns]"
            ],
            "text/html": [
              "\n",
              "  <div id=\"df-b809748c-d4e9-406a-a96b-203ecdaf3132\" class=\"colab-df-container\">\n",
              "    <div>\n",
              "<style scoped>\n",
              "    .dataframe tbody tr th:only-of-type {\n",
              "        vertical-align: middle;\n",
              "    }\n",
              "\n",
              "    .dataframe tbody tr th {\n",
              "        vertical-align: top;\n",
              "    }\n",
              "\n",
              "    .dataframe thead th {\n",
              "        text-align: right;\n",
              "    }\n",
              "</style>\n",
              "<table border=\"1\" class=\"dataframe\">\n",
              "  <thead>\n",
              "    <tr style=\"text-align: right;\">\n",
              "      <th></th>\n",
              "      <th>dialogue</th>\n",
              "      <th>summary</th>\n",
              "    </tr>\n",
              "  </thead>\n",
              "  <tbody>\n",
              "    <tr>\n",
              "      <th>0</th>\n",
              "      <td>Amanda: I baked  cookies. Do you want some?\\r\\...</td>\n",
              "      <td>Amanda baked cookies and will bring Jerry some...</td>\n",
              "    </tr>\n",
              "    <tr>\n",
              "      <th>1</th>\n",
              "      <td>Olivia: Who are you voting for in this electio...</td>\n",
              "      <td>Olivia and Olivier are voting for liberals in ...</td>\n",
              "    </tr>\n",
              "    <tr>\n",
              "      <th>2</th>\n",
              "      <td>Tim: Hi, what's up?\\r\\nKim: Bad mood tbh, I wa...</td>\n",
              "      <td>Kim may try the pomodoro technique recommended...</td>\n",
              "    </tr>\n",
              "    <tr>\n",
              "      <th>3</th>\n",
              "      <td>Edward: Rachel, I think I'm in ove with Bella....</td>\n",
              "      <td>Edward thinks he is in love with Bella. Rachel...</td>\n",
              "    </tr>\n",
              "    <tr>\n",
              "      <th>4</th>\n",
              "      <td>Sam: hey  overheard rick say something\\r\\nSam:...</td>\n",
              "      <td>Sam is confused, because he overheard Rick com...</td>\n",
              "    </tr>\n",
              "    <tr>\n",
              "      <th>...</th>\n",
              "      <td>...</td>\n",
              "      <td>...</td>\n",
              "    </tr>\n",
              "    <tr>\n",
              "      <th>14727</th>\n",
              "      <td>Romeo: You are on my ‘People you may know’ lis...</td>\n",
              "      <td>Romeo is trying to get Greta to add him to her...</td>\n",
              "    </tr>\n",
              "    <tr>\n",
              "      <th>14728</th>\n",
              "      <td>Theresa: &lt;file_photo&gt;\\r\\nTheresa: &lt;file_photo&gt;...</td>\n",
              "      <td>Theresa is at work. She gets free food and fre...</td>\n",
              "    </tr>\n",
              "    <tr>\n",
              "      <th>14729</th>\n",
              "      <td>John: Every day some bad news. Japan will hunt...</td>\n",
              "      <td>Japan is going to hunt whales again. Island an...</td>\n",
              "    </tr>\n",
              "    <tr>\n",
              "      <th>14730</th>\n",
              "      <td>Jennifer: Dear Celia! How are you doing?\\r\\nJe...</td>\n",
              "      <td>Celia couldn't make it to the afternoon with t...</td>\n",
              "    </tr>\n",
              "    <tr>\n",
              "      <th>14731</th>\n",
              "      <td>Georgia: are you ready for hotel hunting? We n...</td>\n",
              "      <td>Georgia and Juliette are looking for a hotel i...</td>\n",
              "    </tr>\n",
              "  </tbody>\n",
              "</table>\n",
              "<p>14732 rows × 2 columns</p>\n",
              "</div>\n",
              "    <div class=\"colab-df-buttons\">\n",
              "\n",
              "  <div class=\"colab-df-container\">\n",
              "    <button class=\"colab-df-convert\" onclick=\"convertToInteractive('df-b809748c-d4e9-406a-a96b-203ecdaf3132')\"\n",
              "            title=\"Convert this dataframe to an interactive table.\"\n",
              "            style=\"display:none;\">\n",
              "\n",
              "  <svg xmlns=\"http://www.w3.org/2000/svg\" height=\"24px\" viewBox=\"0 -960 960 960\">\n",
              "    <path d=\"M120-120v-720h720v720H120Zm60-500h600v-160H180v160Zm220 220h160v-160H400v160Zm0 220h160v-160H400v160ZM180-400h160v-160H180v160Zm440 0h160v-160H620v160ZM180-180h160v-160H180v160Zm440 0h160v-160H620v160Z\"/>\n",
              "  </svg>\n",
              "    </button>\n",
              "\n",
              "  <style>\n",
              "    .colab-df-container {\n",
              "      display:flex;\n",
              "      gap: 12px;\n",
              "    }\n",
              "\n",
              "    .colab-df-convert {\n",
              "      background-color: #E8F0FE;\n",
              "      border: none;\n",
              "      border-radius: 50%;\n",
              "      cursor: pointer;\n",
              "      display: none;\n",
              "      fill: #1967D2;\n",
              "      height: 32px;\n",
              "      padding: 0 0 0 0;\n",
              "      width: 32px;\n",
              "    }\n",
              "\n",
              "    .colab-df-convert:hover {\n",
              "      background-color: #E2EBFA;\n",
              "      box-shadow: 0px 1px 2px rgba(60, 64, 67, 0.3), 0px 1px 3px 1px rgba(60, 64, 67, 0.15);\n",
              "      fill: #174EA6;\n",
              "    }\n",
              "\n",
              "    .colab-df-buttons div {\n",
              "      margin-bottom: 4px;\n",
              "    }\n",
              "\n",
              "    [theme=dark] .colab-df-convert {\n",
              "      background-color: #3B4455;\n",
              "      fill: #D2E3FC;\n",
              "    }\n",
              "\n",
              "    [theme=dark] .colab-df-convert:hover {\n",
              "      background-color: #434B5C;\n",
              "      box-shadow: 0px 1px 3px 1px rgba(0, 0, 0, 0.15);\n",
              "      filter: drop-shadow(0px 1px 2px rgba(0, 0, 0, 0.3));\n",
              "      fill: #FFFFFF;\n",
              "    }\n",
              "  </style>\n",
              "\n",
              "    <script>\n",
              "      const buttonEl =\n",
              "        document.querySelector('#df-b809748c-d4e9-406a-a96b-203ecdaf3132 button.colab-df-convert');\n",
              "      buttonEl.style.display =\n",
              "        google.colab.kernel.accessAllowed ? 'block' : 'none';\n",
              "\n",
              "      async function convertToInteractive(key) {\n",
              "        const element = document.querySelector('#df-b809748c-d4e9-406a-a96b-203ecdaf3132');\n",
              "        const dataTable =\n",
              "          await google.colab.kernel.invokeFunction('convertToInteractive',\n",
              "                                                    [key], {});\n",
              "        if (!dataTable) return;\n",
              "\n",
              "        const docLinkHtml = 'Like what you see? Visit the ' +\n",
              "          '<a target=\"_blank\" href=https://colab.research.google.com/notebooks/data_table.ipynb>data table notebook</a>'\n",
              "          + ' to learn more about interactive tables.';\n",
              "        element.innerHTML = '';\n",
              "        dataTable['output_type'] = 'display_data';\n",
              "        await google.colab.output.renderOutput(dataTable, element);\n",
              "        const docLink = document.createElement('div');\n",
              "        docLink.innerHTML = docLinkHtml;\n",
              "        element.appendChild(docLink);\n",
              "      }\n",
              "    </script>\n",
              "  </div>\n",
              "\n",
              "\n",
              "<div id=\"df-024ce13b-5f4a-4079-a2e3-b85ecba29667\">\n",
              "  <button class=\"colab-df-quickchart\" onclick=\"quickchart('df-024ce13b-5f4a-4079-a2e3-b85ecba29667')\"\n",
              "            title=\"Suggest charts\"\n",
              "            style=\"display:none;\">\n",
              "\n",
              "<svg xmlns=\"http://www.w3.org/2000/svg\" height=\"24px\"viewBox=\"0 0 24 24\"\n",
              "     width=\"24px\">\n",
              "    <g>\n",
              "        <path d=\"M19 3H5c-1.1 0-2 .9-2 2v14c0 1.1.9 2 2 2h14c1.1 0 2-.9 2-2V5c0-1.1-.9-2-2-2zM9 17H7v-7h2v7zm4 0h-2V7h2v10zm4 0h-2v-4h2v4z\"/>\n",
              "    </g>\n",
              "</svg>\n",
              "  </button>\n",
              "\n",
              "<style>\n",
              "  .colab-df-quickchart {\n",
              "      --bg-color: #E8F0FE;\n",
              "      --fill-color: #1967D2;\n",
              "      --hover-bg-color: #E2EBFA;\n",
              "      --hover-fill-color: #174EA6;\n",
              "      --disabled-fill-color: #AAA;\n",
              "      --disabled-bg-color: #DDD;\n",
              "  }\n",
              "\n",
              "  [theme=dark] .colab-df-quickchart {\n",
              "      --bg-color: #3B4455;\n",
              "      --fill-color: #D2E3FC;\n",
              "      --hover-bg-color: #434B5C;\n",
              "      --hover-fill-color: #FFFFFF;\n",
              "      --disabled-bg-color: #3B4455;\n",
              "      --disabled-fill-color: #666;\n",
              "  }\n",
              "\n",
              "  .colab-df-quickchart {\n",
              "    background-color: var(--bg-color);\n",
              "    border: none;\n",
              "    border-radius: 50%;\n",
              "    cursor: pointer;\n",
              "    display: none;\n",
              "    fill: var(--fill-color);\n",
              "    height: 32px;\n",
              "    padding: 0;\n",
              "    width: 32px;\n",
              "  }\n",
              "\n",
              "  .colab-df-quickchart:hover {\n",
              "    background-color: var(--hover-bg-color);\n",
              "    box-shadow: 0 1px 2px rgba(60, 64, 67, 0.3), 0 1px 3px 1px rgba(60, 64, 67, 0.15);\n",
              "    fill: var(--button-hover-fill-color);\n",
              "  }\n",
              "\n",
              "  .colab-df-quickchart-complete:disabled,\n",
              "  .colab-df-quickchart-complete:disabled:hover {\n",
              "    background-color: var(--disabled-bg-color);\n",
              "    fill: var(--disabled-fill-color);\n",
              "    box-shadow: none;\n",
              "  }\n",
              "\n",
              "  .colab-df-spinner {\n",
              "    border: 2px solid var(--fill-color);\n",
              "    border-color: transparent;\n",
              "    border-bottom-color: var(--fill-color);\n",
              "    animation:\n",
              "      spin 1s steps(1) infinite;\n",
              "  }\n",
              "\n",
              "  @keyframes spin {\n",
              "    0% {\n",
              "      border-color: transparent;\n",
              "      border-bottom-color: var(--fill-color);\n",
              "      border-left-color: var(--fill-color);\n",
              "    }\n",
              "    20% {\n",
              "      border-color: transparent;\n",
              "      border-left-color: var(--fill-color);\n",
              "      border-top-color: var(--fill-color);\n",
              "    }\n",
              "    30% {\n",
              "      border-color: transparent;\n",
              "      border-left-color: var(--fill-color);\n",
              "      border-top-color: var(--fill-color);\n",
              "      border-right-color: var(--fill-color);\n",
              "    }\n",
              "    40% {\n",
              "      border-color: transparent;\n",
              "      border-right-color: var(--fill-color);\n",
              "      border-top-color: var(--fill-color);\n",
              "    }\n",
              "    60% {\n",
              "      border-color: transparent;\n",
              "      border-right-color: var(--fill-color);\n",
              "    }\n",
              "    80% {\n",
              "      border-color: transparent;\n",
              "      border-right-color: var(--fill-color);\n",
              "      border-bottom-color: var(--fill-color);\n",
              "    }\n",
              "    90% {\n",
              "      border-color: transparent;\n",
              "      border-bottom-color: var(--fill-color);\n",
              "    }\n",
              "  }\n",
              "</style>\n",
              "\n",
              "  <script>\n",
              "    async function quickchart(key) {\n",
              "      const quickchartButtonEl =\n",
              "        document.querySelector('#' + key + ' button');\n",
              "      quickchartButtonEl.disabled = true;  // To prevent multiple clicks.\n",
              "      quickchartButtonEl.classList.add('colab-df-spinner');\n",
              "      try {\n",
              "        const charts = await google.colab.kernel.invokeFunction(\n",
              "            'suggestCharts', [key], {});\n",
              "      } catch (error) {\n",
              "        console.error('Error during call to suggestCharts:', error);\n",
              "      }\n",
              "      quickchartButtonEl.classList.remove('colab-df-spinner');\n",
              "      quickchartButtonEl.classList.add('colab-df-quickchart-complete');\n",
              "    }\n",
              "    (() => {\n",
              "      let quickchartButtonEl =\n",
              "        document.querySelector('#df-024ce13b-5f4a-4079-a2e3-b85ecba29667 button');\n",
              "      quickchartButtonEl.style.display =\n",
              "        google.colab.kernel.accessAllowed ? 'block' : 'none';\n",
              "    })();\n",
              "  </script>\n",
              "</div>\n",
              "\n",
              "    </div>\n",
              "  </div>\n"
            ],
            "application/vnd.google.colaboratory.intrinsic+json": {
              "type": "dataframe",
              "summary": "{\n  \"name\": \"data_df[['dialogue','summary']]\",\n  \"rows\": 14732,\n  \"fields\": [\n    {\n      \"column\": \"dialogue\",\n      \"properties\": {\n        \"dtype\": \"string\",\n        \"num_unique_values\": 14265,\n        \"samples\": [\n          \"Charles: <file_other>\\r\\nCharles: It seems that the govt decided to fuck us even harder\\r\\nCharles: Every year prices go up\\r\\nCharles: Maybe raising taxes is a source of pleasure for those so called 'politicians'?\\r\\nMike: Dude...\\r\\nMike: I don't mind people interested in kinky stuff\\r\\nMike: But have never expected such political perversion in my own country\\r\\nCharles: Neither have I. It makes me think\\r\\nCharles: That wouldn't be a big deal if only the earnings would go up as well\\r\\nCharles: No wonder people resort to going abroad\\r\\nMike: Actually I've been considering working somewhere abroad lately\\r\\nMike: I've been looking for a job since May here and there's a few offers available\\r\\nMike: Mainly physical, hard work...\\r\\nCharles: This system sucks!\\r\\nCharles: You're wasting the best years of your life on education, then it turns out there's no job for you in your profession...\\r\\nMike: Yeah, it's true. But complaining rarely changes anything\\r\\nMike: It's better to take some action\\r\\nMike: Going abroad is not that bad, I think I'll give it a try. Wanna join me?\\r\\nCharles: And where would you like to go?\\r\\nMike: The Netherlands for starters, the perspectives are decent and it'd be a chance to visit Amsterdam, the city of freedom! :D\\r\\nCharles: Damn, you're pulling me in!\\r\\nCharles: And actually... besides earning some money it can serve as a good adventure\\r\\nMike: So? R U in?\\r\\nCharles: Give me a few days, I'll ask around and let you know soon\\r\\nMike: Fine, remember that I'm going anyway :p\\r\\nCharles: Sure, I feel I've already decided too! :D\\r\\nCharles: Talk to you soon\\r\\nMike: All right\",\n          \"Finn: I heard that Britney got expelled.\\r\\nTerry: why?\\r\\nOswald: what for?\\r\\nFinn: you know her general behavior\\r\\nOswald: and she's absent a lot\\r\\nFinn: so yeah, that accumulated kinda, but now she's been accused of making that blue graffiti that popped up 3 days ago\\r\\nTerry: I was wondering if this might have anything to do with that graffiti\\r\\nFinn: apparently it does\\r\\nOswald: you think she did it?\\r\\nFinn: who knows? She certainly likes to draw\\r\\nTerry: maybe they just needed an excuse to finally kick her out\\r\\nFinn: maybe\\r\\nOswald: too bad, though, I kinda liked her\\r\\nFinn: liked her liked her? ;)\\r\\nOswald: no, ofc not, but she's pretty cool\\r\\nFinn: true that\",\n          \"Darren: Look! 10am!\\r\\nFrank: Whoa! They're awesome knockers.\\r\\nDarren: Stop staring or she'll notice us! LOL\"\n        ],\n        \"semantic_type\": \"\",\n        \"description\": \"\"\n      }\n    },\n    {\n      \"column\": \"summary\",\n      \"properties\": {\n        \"dtype\": \"string\",\n        \"num_unique_values\": 14730,\n        \"samples\": [\n          \"Violet sent Claire Austin's article.\",\n          \"Michael, Tom and Chris tease Mark because he has a new girlfriend.\",\n          \"Leo just had a very good time with his parents in Spain. Granny will be happy if he came round and told her about his holidays. He could also see flowers blooming in her and Daddy's garden.\"\n        ],\n        \"semantic_type\": \"\",\n        \"description\": \"\"\n      }\n    }\n  ]\n}"
            }
          },
          "metadata": {},
          "execution_count": 65
        }
      ]
    },
    {
      "cell_type": "code",
      "source": [
        "data_df[\"text\"] = data_df[[\"dialogue\", \"summary\"]].apply(lambda x: \"###Human: Summarize this following dialogue: \" + x[\"dialogue\"] + \"\\n###Assistant: \" +x[\"summary\"], axis=1)"
      ],
      "metadata": {
        "id": "avTzbpEMXpRu"
      },
      "execution_count": null,
      "outputs": []
    },
    {
      "cell_type": "code",
      "source": [
        "data_df.head()"
      ],
      "metadata": {
        "colab": {
          "base_uri": "https://localhost:8080/",
          "height": 206
        },
        "id": "bteZEhTHYhZV",
        "outputId": "9a68c544-cb2b-4c2b-d0ae-9ab76a5aeff9"
      },
      "execution_count": null,
      "outputs": [
        {
          "output_type": "execute_result",
          "data": {
            "text/plain": [
              "         id                                           dialogue  \\\n",
              "0  13818513  Amanda: I baked  cookies. Do you want some?\\r\\...   \n",
              "1  13728867  Olivia: Who are you voting for in this electio...   \n",
              "2  13681000  Tim: Hi, what's up?\\r\\nKim: Bad mood tbh, I wa...   \n",
              "3  13730747  Edward: Rachel, I think I'm in ove with Bella....   \n",
              "4  13728094  Sam: hey  overheard rick say something\\r\\nSam:...   \n",
              "\n",
              "                                             summary  \\\n",
              "0  Amanda baked cookies and will bring Jerry some...   \n",
              "1  Olivia and Olivier are voting for liberals in ...   \n",
              "2  Kim may try the pomodoro technique recommended...   \n",
              "3  Edward thinks he is in love with Bella. Rachel...   \n",
              "4  Sam is confused, because he overheard Rick com...   \n",
              "\n",
              "                                                text  \n",
              "0  ###Human: Summarize this following dialogue: A...  \n",
              "1  ###Human: Summarize this following dialogue: O...  \n",
              "2  ###Human: Summarize this following dialogue: T...  \n",
              "3  ###Human: Summarize this following dialogue: E...  \n",
              "4  ###Human: Summarize this following dialogue: S...  "
            ],
            "text/html": [
              "\n",
              "  <div id=\"df-d917743a-3e21-409b-9436-7cf25b3612cb\" class=\"colab-df-container\">\n",
              "    <div>\n",
              "<style scoped>\n",
              "    .dataframe tbody tr th:only-of-type {\n",
              "        vertical-align: middle;\n",
              "    }\n",
              "\n",
              "    .dataframe tbody tr th {\n",
              "        vertical-align: top;\n",
              "    }\n",
              "\n",
              "    .dataframe thead th {\n",
              "        text-align: right;\n",
              "    }\n",
              "</style>\n",
              "<table border=\"1\" class=\"dataframe\">\n",
              "  <thead>\n",
              "    <tr style=\"text-align: right;\">\n",
              "      <th></th>\n",
              "      <th>id</th>\n",
              "      <th>dialogue</th>\n",
              "      <th>summary</th>\n",
              "      <th>text</th>\n",
              "    </tr>\n",
              "  </thead>\n",
              "  <tbody>\n",
              "    <tr>\n",
              "      <th>0</th>\n",
              "      <td>13818513</td>\n",
              "      <td>Amanda: I baked  cookies. Do you want some?\\r\\...</td>\n",
              "      <td>Amanda baked cookies and will bring Jerry some...</td>\n",
              "      <td>###Human: Summarize this following dialogue: A...</td>\n",
              "    </tr>\n",
              "    <tr>\n",
              "      <th>1</th>\n",
              "      <td>13728867</td>\n",
              "      <td>Olivia: Who are you voting for in this electio...</td>\n",
              "      <td>Olivia and Olivier are voting for liberals in ...</td>\n",
              "      <td>###Human: Summarize this following dialogue: O...</td>\n",
              "    </tr>\n",
              "    <tr>\n",
              "      <th>2</th>\n",
              "      <td>13681000</td>\n",
              "      <td>Tim: Hi, what's up?\\r\\nKim: Bad mood tbh, I wa...</td>\n",
              "      <td>Kim may try the pomodoro technique recommended...</td>\n",
              "      <td>###Human: Summarize this following dialogue: T...</td>\n",
              "    </tr>\n",
              "    <tr>\n",
              "      <th>3</th>\n",
              "      <td>13730747</td>\n",
              "      <td>Edward: Rachel, I think I'm in ove with Bella....</td>\n",
              "      <td>Edward thinks he is in love with Bella. Rachel...</td>\n",
              "      <td>###Human: Summarize this following dialogue: E...</td>\n",
              "    </tr>\n",
              "    <tr>\n",
              "      <th>4</th>\n",
              "      <td>13728094</td>\n",
              "      <td>Sam: hey  overheard rick say something\\r\\nSam:...</td>\n",
              "      <td>Sam is confused, because he overheard Rick com...</td>\n",
              "      <td>###Human: Summarize this following dialogue: S...</td>\n",
              "    </tr>\n",
              "  </tbody>\n",
              "</table>\n",
              "</div>\n",
              "    <div class=\"colab-df-buttons\">\n",
              "\n",
              "  <div class=\"colab-df-container\">\n",
              "    <button class=\"colab-df-convert\" onclick=\"convertToInteractive('df-d917743a-3e21-409b-9436-7cf25b3612cb')\"\n",
              "            title=\"Convert this dataframe to an interactive table.\"\n",
              "            style=\"display:none;\">\n",
              "\n",
              "  <svg xmlns=\"http://www.w3.org/2000/svg\" height=\"24px\" viewBox=\"0 -960 960 960\">\n",
              "    <path d=\"M120-120v-720h720v720H120Zm60-500h600v-160H180v160Zm220 220h160v-160H400v160Zm0 220h160v-160H400v160ZM180-400h160v-160H180v160Zm440 0h160v-160H620v160ZM180-180h160v-160H180v160Zm440 0h160v-160H620v160Z\"/>\n",
              "  </svg>\n",
              "    </button>\n",
              "\n",
              "  <style>\n",
              "    .colab-df-container {\n",
              "      display:flex;\n",
              "      gap: 12px;\n",
              "    }\n",
              "\n",
              "    .colab-df-convert {\n",
              "      background-color: #E8F0FE;\n",
              "      border: none;\n",
              "      border-radius: 50%;\n",
              "      cursor: pointer;\n",
              "      display: none;\n",
              "      fill: #1967D2;\n",
              "      height: 32px;\n",
              "      padding: 0 0 0 0;\n",
              "      width: 32px;\n",
              "    }\n",
              "\n",
              "    .colab-df-convert:hover {\n",
              "      background-color: #E2EBFA;\n",
              "      box-shadow: 0px 1px 2px rgba(60, 64, 67, 0.3), 0px 1px 3px 1px rgba(60, 64, 67, 0.15);\n",
              "      fill: #174EA6;\n",
              "    }\n",
              "\n",
              "    .colab-df-buttons div {\n",
              "      margin-bottom: 4px;\n",
              "    }\n",
              "\n",
              "    [theme=dark] .colab-df-convert {\n",
              "      background-color: #3B4455;\n",
              "      fill: #D2E3FC;\n",
              "    }\n",
              "\n",
              "    [theme=dark] .colab-df-convert:hover {\n",
              "      background-color: #434B5C;\n",
              "      box-shadow: 0px 1px 3px 1px rgba(0, 0, 0, 0.15);\n",
              "      filter: drop-shadow(0px 1px 2px rgba(0, 0, 0, 0.3));\n",
              "      fill: #FFFFFF;\n",
              "    }\n",
              "  </style>\n",
              "\n",
              "    <script>\n",
              "      const buttonEl =\n",
              "        document.querySelector('#df-d917743a-3e21-409b-9436-7cf25b3612cb button.colab-df-convert');\n",
              "      buttonEl.style.display =\n",
              "        google.colab.kernel.accessAllowed ? 'block' : 'none';\n",
              "\n",
              "      async function convertToInteractive(key) {\n",
              "        const element = document.querySelector('#df-d917743a-3e21-409b-9436-7cf25b3612cb');\n",
              "        const dataTable =\n",
              "          await google.colab.kernel.invokeFunction('convertToInteractive',\n",
              "                                                    [key], {});\n",
              "        if (!dataTable) return;\n",
              "\n",
              "        const docLinkHtml = 'Like what you see? Visit the ' +\n",
              "          '<a target=\"_blank\" href=https://colab.research.google.com/notebooks/data_table.ipynb>data table notebook</a>'\n",
              "          + ' to learn more about interactive tables.';\n",
              "        element.innerHTML = '';\n",
              "        dataTable['output_type'] = 'display_data';\n",
              "        await google.colab.output.renderOutput(dataTable, element);\n",
              "        const docLink = document.createElement('div');\n",
              "        docLink.innerHTML = docLinkHtml;\n",
              "        element.appendChild(docLink);\n",
              "      }\n",
              "    </script>\n",
              "  </div>\n",
              "\n",
              "\n",
              "<div id=\"df-553a6af0-57b0-429e-93df-d9d0f2f54c8e\">\n",
              "  <button class=\"colab-df-quickchart\" onclick=\"quickchart('df-553a6af0-57b0-429e-93df-d9d0f2f54c8e')\"\n",
              "            title=\"Suggest charts\"\n",
              "            style=\"display:none;\">\n",
              "\n",
              "<svg xmlns=\"http://www.w3.org/2000/svg\" height=\"24px\"viewBox=\"0 0 24 24\"\n",
              "     width=\"24px\">\n",
              "    <g>\n",
              "        <path d=\"M19 3H5c-1.1 0-2 .9-2 2v14c0 1.1.9 2 2 2h14c1.1 0 2-.9 2-2V5c0-1.1-.9-2-2-2zM9 17H7v-7h2v7zm4 0h-2V7h2v10zm4 0h-2v-4h2v4z\"/>\n",
              "    </g>\n",
              "</svg>\n",
              "  </button>\n",
              "\n",
              "<style>\n",
              "  .colab-df-quickchart {\n",
              "      --bg-color: #E8F0FE;\n",
              "      --fill-color: #1967D2;\n",
              "      --hover-bg-color: #E2EBFA;\n",
              "      --hover-fill-color: #174EA6;\n",
              "      --disabled-fill-color: #AAA;\n",
              "      --disabled-bg-color: #DDD;\n",
              "  }\n",
              "\n",
              "  [theme=dark] .colab-df-quickchart {\n",
              "      --bg-color: #3B4455;\n",
              "      --fill-color: #D2E3FC;\n",
              "      --hover-bg-color: #434B5C;\n",
              "      --hover-fill-color: #FFFFFF;\n",
              "      --disabled-bg-color: #3B4455;\n",
              "      --disabled-fill-color: #666;\n",
              "  }\n",
              "\n",
              "  .colab-df-quickchart {\n",
              "    background-color: var(--bg-color);\n",
              "    border: none;\n",
              "    border-radius: 50%;\n",
              "    cursor: pointer;\n",
              "    display: none;\n",
              "    fill: var(--fill-color);\n",
              "    height: 32px;\n",
              "    padding: 0;\n",
              "    width: 32px;\n",
              "  }\n",
              "\n",
              "  .colab-df-quickchart:hover {\n",
              "    background-color: var(--hover-bg-color);\n",
              "    box-shadow: 0 1px 2px rgba(60, 64, 67, 0.3), 0 1px 3px 1px rgba(60, 64, 67, 0.15);\n",
              "    fill: var(--button-hover-fill-color);\n",
              "  }\n",
              "\n",
              "  .colab-df-quickchart-complete:disabled,\n",
              "  .colab-df-quickchart-complete:disabled:hover {\n",
              "    background-color: var(--disabled-bg-color);\n",
              "    fill: var(--disabled-fill-color);\n",
              "    box-shadow: none;\n",
              "  }\n",
              "\n",
              "  .colab-df-spinner {\n",
              "    border: 2px solid var(--fill-color);\n",
              "    border-color: transparent;\n",
              "    border-bottom-color: var(--fill-color);\n",
              "    animation:\n",
              "      spin 1s steps(1) infinite;\n",
              "  }\n",
              "\n",
              "  @keyframes spin {\n",
              "    0% {\n",
              "      border-color: transparent;\n",
              "      border-bottom-color: var(--fill-color);\n",
              "      border-left-color: var(--fill-color);\n",
              "    }\n",
              "    20% {\n",
              "      border-color: transparent;\n",
              "      border-left-color: var(--fill-color);\n",
              "      border-top-color: var(--fill-color);\n",
              "    }\n",
              "    30% {\n",
              "      border-color: transparent;\n",
              "      border-left-color: var(--fill-color);\n",
              "      border-top-color: var(--fill-color);\n",
              "      border-right-color: var(--fill-color);\n",
              "    }\n",
              "    40% {\n",
              "      border-color: transparent;\n",
              "      border-right-color: var(--fill-color);\n",
              "      border-top-color: var(--fill-color);\n",
              "    }\n",
              "    60% {\n",
              "      border-color: transparent;\n",
              "      border-right-color: var(--fill-color);\n",
              "    }\n",
              "    80% {\n",
              "      border-color: transparent;\n",
              "      border-right-color: var(--fill-color);\n",
              "      border-bottom-color: var(--fill-color);\n",
              "    }\n",
              "    90% {\n",
              "      border-color: transparent;\n",
              "      border-bottom-color: var(--fill-color);\n",
              "    }\n",
              "  }\n",
              "</style>\n",
              "\n",
              "  <script>\n",
              "    async function quickchart(key) {\n",
              "      const quickchartButtonEl =\n",
              "        document.querySelector('#' + key + ' button');\n",
              "      quickchartButtonEl.disabled = true;  // To prevent multiple clicks.\n",
              "      quickchartButtonEl.classList.add('colab-df-spinner');\n",
              "      try {\n",
              "        const charts = await google.colab.kernel.invokeFunction(\n",
              "            'suggestCharts', [key], {});\n",
              "      } catch (error) {\n",
              "        console.error('Error during call to suggestCharts:', error);\n",
              "      }\n",
              "      quickchartButtonEl.classList.remove('colab-df-spinner');\n",
              "      quickchartButtonEl.classList.add('colab-df-quickchart-complete');\n",
              "    }\n",
              "    (() => {\n",
              "      let quickchartButtonEl =\n",
              "        document.querySelector('#df-553a6af0-57b0-429e-93df-d9d0f2f54c8e button');\n",
              "      quickchartButtonEl.style.display =\n",
              "        google.colab.kernel.accessAllowed ? 'block' : 'none';\n",
              "    })();\n",
              "  </script>\n",
              "</div>\n",
              "\n",
              "    </div>\n",
              "  </div>\n"
            ],
            "application/vnd.google.colaboratory.intrinsic+json": {
              "type": "dataframe",
              "variable_name": "data_df",
              "summary": "{\n  \"name\": \"data_df\",\n  \"rows\": 14732,\n  \"fields\": [\n    {\n      \"column\": \"id\",\n      \"properties\": {\n        \"dtype\": \"string\",\n        \"num_unique_values\": 14732,\n        \"samples\": [\n          \"13811908\",\n          \"13716431\",\n          \"13810214\"\n        ],\n        \"semantic_type\": \"\",\n        \"description\": \"\"\n      }\n    },\n    {\n      \"column\": \"dialogue\",\n      \"properties\": {\n        \"dtype\": \"string\",\n        \"num_unique_values\": 14265,\n        \"samples\": [\n          \"Charles: <file_other>\\r\\nCharles: It seems that the govt decided to fuck us even harder\\r\\nCharles: Every year prices go up\\r\\nCharles: Maybe raising taxes is a source of pleasure for those so called 'politicians'?\\r\\nMike: Dude...\\r\\nMike: I don't mind people interested in kinky stuff\\r\\nMike: But have never expected such political perversion in my own country\\r\\nCharles: Neither have I. It makes me think\\r\\nCharles: That wouldn't be a big deal if only the earnings would go up as well\\r\\nCharles: No wonder people resort to going abroad\\r\\nMike: Actually I've been considering working somewhere abroad lately\\r\\nMike: I've been looking for a job since May here and there's a few offers available\\r\\nMike: Mainly physical, hard work...\\r\\nCharles: This system sucks!\\r\\nCharles: You're wasting the best years of your life on education, then it turns out there's no job for you in your profession...\\r\\nMike: Yeah, it's true. But complaining rarely changes anything\\r\\nMike: It's better to take some action\\r\\nMike: Going abroad is not that bad, I think I'll give it a try. Wanna join me?\\r\\nCharles: And where would you like to go?\\r\\nMike: The Netherlands for starters, the perspectives are decent and it'd be a chance to visit Amsterdam, the city of freedom! :D\\r\\nCharles: Damn, you're pulling me in!\\r\\nCharles: And actually... besides earning some money it can serve as a good adventure\\r\\nMike: So? R U in?\\r\\nCharles: Give me a few days, I'll ask around and let you know soon\\r\\nMike: Fine, remember that I'm going anyway :p\\r\\nCharles: Sure, I feel I've already decided too! :D\\r\\nCharles: Talk to you soon\\r\\nMike: All right\",\n          \"Finn: I heard that Britney got expelled.\\r\\nTerry: why?\\r\\nOswald: what for?\\r\\nFinn: you know her general behavior\\r\\nOswald: and she's absent a lot\\r\\nFinn: so yeah, that accumulated kinda, but now she's been accused of making that blue graffiti that popped up 3 days ago\\r\\nTerry: I was wondering if this might have anything to do with that graffiti\\r\\nFinn: apparently it does\\r\\nOswald: you think she did it?\\r\\nFinn: who knows? She certainly likes to draw\\r\\nTerry: maybe they just needed an excuse to finally kick her out\\r\\nFinn: maybe\\r\\nOswald: too bad, though, I kinda liked her\\r\\nFinn: liked her liked her? ;)\\r\\nOswald: no, ofc not, but she's pretty cool\\r\\nFinn: true that\",\n          \"Darren: Look! 10am!\\r\\nFrank: Whoa! They're awesome knockers.\\r\\nDarren: Stop staring or she'll notice us! LOL\"\n        ],\n        \"semantic_type\": \"\",\n        \"description\": \"\"\n      }\n    },\n    {\n      \"column\": \"summary\",\n      \"properties\": {\n        \"dtype\": \"string\",\n        \"num_unique_values\": 14730,\n        \"samples\": [\n          \"Violet sent Claire Austin's article.\",\n          \"Michael, Tom and Chris tease Mark because he has a new girlfriend.\",\n          \"Leo just had a very good time with his parents in Spain. Granny will be happy if he came round and told her about his holidays. He could also see flowers blooming in her and Daddy's garden.\"\n        ],\n        \"semantic_type\": \"\",\n        \"description\": \"\"\n      }\n    },\n    {\n      \"column\": \"text\",\n      \"properties\": {\n        \"dtype\": \"string\",\n        \"num_unique_values\": 14731,\n        \"samples\": [\n          \"###Human: Summarize this following dialogue: Violet: hi! i came across this Austin's article and i thought that you might find it interesting\\r\\nViolet: <file_other>\\r\\nClaire: Hi! :) Thanks, but I've already read it. :)\\r\\nClaire: But thanks for thinking about me :)\\n###Assistant: Violet sent Claire Austin's article.\",\n          \"###Human: Summarize this following dialogue: Pat: So does anyone know when the stream is going to happen?\\r\\nLou: Unfortunately, no, but would really like to.\\r\\nKevin: I don't think I'd be interested in this.\\r\\nPat: Y?\\r\\nKevin: Seeing all the blood and internal organs makes me dizzy.\\r\\nLou: So you're so gentle?\\r\\nPat: C'mon! Srsly?\\r\\nKevin: Yup. Had the same thing since I was a child.\\r\\nLou: Maybe it's time to change it?\\r\\nPat: Yeah! Give it a try!\\n###Assistant: Pat and Lou are waiting for The stream but Kevin is not interested as it makes him dizzy.  \",\n          \"###Human: Summarize this following dialogue: Jane: <gif_file>\\r\\nJane: Whaddya think? \\r\\nShona: This ur tinder profile thing?\\r\\nJane: Yeah, I'm updating my profile tonite. Kinda nervoous though... :( \\r\\nJane: What if i get another guy like John? o.O\\r\\nShona: John was a dickhead\\r\\nJane: preach sistah!\\r\\nShona: anyhoo - this time I've got u :D No slimeballs for you \\r\\nJane: Not again *shudders*\\r\\nJane: You know he forgot my birthday??!!\\r\\nShona: wanker\\n###Assistant: Jane is updating her Tinder profile tonight and together with Shona they don't want to find another guy like John, who forgot Jane's birthday.\"\n        ],\n        \"semantic_type\": \"\",\n        \"description\": \"\"\n      }\n    }\n  ]\n}"
            }
          },
          "metadata": {},
          "execution_count": 67
        }
      ]
    },
    {
      "cell_type": "code",
      "source": [
        "print(data_df.iloc[0][3])"
      ],
      "metadata": {
        "colab": {
          "base_uri": "https://localhost:8080/"
        },
        "id": "y6hKcYaeZEGv",
        "outputId": "40138c69-1d8f-48cb-fe29-21f1ffc0edf3"
      },
      "execution_count": null,
      "outputs": [
        {
          "output_type": "stream",
          "name": "stdout",
          "text": [
            "###Human: Summarize this following dialogue: Amanda: I baked  cookies. Do you want some?\r\n",
            "Jerry: Sure!\r\n",
            "Amanda: I'll bring you tomorrow :-)\n",
            "###Assistant: Amanda baked cookies and will bring Jerry some tomorrow.\n"
          ]
        },
        {
          "output_type": "stream",
          "name": "stderr",
          "text": [
            "<ipython-input-68-101905aafc9b>:1: FutureWarning: Series.__getitem__ treating keys as positions is deprecated. In a future version, integer keys will always be treated as labels (consistent with DataFrame behavior). To access a value by position, use `ser.iloc[pos]`\n",
            "  print(data_df.iloc[0][3])\n"
          ]
        }
      ]
    },
    {
      "cell_type": "code",
      "source": [
        "data = Dataset.from_pandas(data_df)"
      ],
      "metadata": {
        "id": "BYByb8RI9fdq"
      },
      "execution_count": null,
      "outputs": []
    },
    {
      "cell_type": "code",
      "source": [
        "!pip install  huggingface_hub"
      ],
      "metadata": {
        "colab": {
          "base_uri": "https://localhost:8080/"
        },
        "collapsed": true,
        "id": "Oynm1sWkshdq",
        "outputId": "f0f3c622-5ce1-4544-aa65-71134b17483e"
      },
      "execution_count": null,
      "outputs": [
        {
          "output_type": "stream",
          "name": "stdout",
          "text": [
            "Requirement already satisfied: huggingface_hub in /usr/local/lib/python3.11/dist-packages (0.28.1)\n",
            "Requirement already satisfied: filelock in /usr/local/lib/python3.11/dist-packages (from huggingface_hub) (3.17.0)\n",
            "Requirement already satisfied: fsspec>=2023.5.0 in /usr/local/lib/python3.11/dist-packages (from huggingface_hub) (2024.10.0)\n",
            "Requirement already satisfied: packaging>=20.9 in /usr/local/lib/python3.11/dist-packages (from huggingface_hub) (24.2)\n",
            "Requirement already satisfied: pyyaml>=5.1 in /usr/local/lib/python3.11/dist-packages (from huggingface_hub) (6.0.2)\n",
            "Requirement already satisfied: requests in /usr/local/lib/python3.11/dist-packages (from huggingface_hub) (2.32.3)\n",
            "Requirement already satisfied: tqdm>=4.42.1 in /usr/local/lib/python3.11/dist-packages (from huggingface_hub) (4.67.1)\n",
            "Requirement already satisfied: typing-extensions>=3.7.4.3 in /usr/local/lib/python3.11/dist-packages (from huggingface_hub) (4.12.2)\n",
            "Requirement already satisfied: charset-normalizer<4,>=2 in /usr/local/lib/python3.11/dist-packages (from requests->huggingface_hub) (3.4.1)\n",
            "Requirement already satisfied: idna<4,>=2.5 in /usr/local/lib/python3.11/dist-packages (from requests->huggingface_hub) (3.10)\n",
            "Requirement already satisfied: urllib3<3,>=1.21.1 in /usr/local/lib/python3.11/dist-packages (from requests->huggingface_hub) (2.3.0)\n",
            "Requirement already satisfied: certifi>=2017.4.17 in /usr/local/lib/python3.11/dist-packages (from requests->huggingface_hub) (2025.1.31)\n"
          ]
        }
      ]
    },
    {
      "cell_type": "code",
      "source": [
        "tokenizer = AutoTokenizer.from_pretrained('mistralai/Mistral-7B-Instruct-v0.1')"
      ],
      "metadata": {
        "id": "DYyE6P3Z_Cbq"
      },
      "execution_count": null,
      "outputs": []
    },
    {
      "cell_type": "code",
      "source": [
        "tokenizer.eos_token"
      ],
      "metadata": {
        "colab": {
          "base_uri": "https://localhost:8080/",
          "height": 35
        },
        "id": "N8U33-Jx8Pu9",
        "outputId": "649a389a-910c-4dc4-f475-2b7ba0bb9f1f"
      },
      "execution_count": null,
      "outputs": [
        {
          "output_type": "execute_result",
          "data": {
            "text/plain": [
              "'</s>'"
            ],
            "application/vnd.google.colaboratory.intrinsic+json": {
              "type": "string"
            }
          },
          "metadata": {},
          "execution_count": 101
        }
      ]
    },
    {
      "cell_type": "code",
      "source": [
        "tokenizer.pad_token_id"
      ],
      "metadata": {
        "id": "-Spw7c5QQ_YP",
        "colab": {
          "base_uri": "https://localhost:8080/"
        },
        "outputId": "3c77f7fc-1d91-446e-aa98-361e6044cfca"
      },
      "execution_count": null,
      "outputs": [
        {
          "output_type": "execute_result",
          "data": {
            "text/plain": [
              "2"
            ]
          },
          "metadata": {},
          "execution_count": 102
        }
      ]
    },
    {
      "cell_type": "code",
      "source": [
        "tokenizer.pad_token"
      ],
      "metadata": {
        "id": "CKzyhCe-REip",
        "colab": {
          "base_uri": "https://localhost:8080/",
          "height": 35
        },
        "outputId": "a5ee2ae7-ca7a-40fb-a981-1af41f5a40a0"
      },
      "execution_count": null,
      "outputs": [
        {
          "output_type": "execute_result",
          "data": {
            "text/plain": [
              "'</s>'"
            ],
            "application/vnd.google.colaboratory.intrinsic+json": {
              "type": "string"
            }
          },
          "metadata": {},
          "execution_count": 103
        }
      ]
    },
    {
      "cell_type": "code",
      "source": [
        "tokenizer.eos_token_id"
      ],
      "metadata": {
        "id": "JGkvLwOBRMZz",
        "colab": {
          "base_uri": "https://localhost:8080/"
        },
        "outputId": "fcd8ce84-919f-4cbf-88c4-6e3bd5b6d43e"
      },
      "execution_count": null,
      "outputs": [
        {
          "output_type": "execute_result",
          "data": {
            "text/plain": [
              "2"
            ]
          },
          "metadata": {},
          "execution_count": 104
        }
      ]
    },
    {
      "cell_type": "code",
      "source": [
        "tokenizer.eos_token"
      ],
      "metadata": {
        "id": "cr13gnY2RElH",
        "colab": {
          "base_uri": "https://localhost:8080/",
          "height": 35
        },
        "outputId": "77b6a736-823b-4d76-c503-e62abe098826"
      },
      "execution_count": null,
      "outputs": [
        {
          "output_type": "execute_result",
          "data": {
            "text/plain": [
              "'</s>'"
            ],
            "application/vnd.google.colaboratory.intrinsic+json": {
              "type": "string"
            }
          },
          "metadata": {},
          "execution_count": 105
        }
      ]
    },
    {
      "cell_type": "code",
      "source": [
        "tokenizer.pad_token = tokenizer.eos_token"
      ],
      "metadata": {
        "id": "GfMbWarkREom"
      },
      "execution_count": null,
      "outputs": []
    },
    {
      "cell_type": "code",
      "source": [
        "quantization_config = BitsAndBytesConfig(\n",
        "    load_in_4bit=True,\n",
        "    bnb_4bit_use_double_quant=True,\n",
        "    bnb_4bit_compute_dtype=torch.bfloat16\n",
        ")"
      ],
      "metadata": {
        "id": "HHkjLBzx9llQ"
      },
      "execution_count": null,
      "outputs": []
    },
    {
      "cell_type": "code",
      "source": [
        "quantization_config_loading = GPTQConfig(bits=4, disable_exllama=True, tokenizer=tokenizer)"
      ],
      "metadata": {
        "colab": {
          "base_uri": "https://localhost:8080/"
        },
        "id": "a-hfsQ7ltse6",
        "outputId": "103dc656-8239-42a2-8ec1-23684727e2ea"
      },
      "execution_count": null,
      "outputs": [
        {
          "output_type": "stream",
          "name": "stderr",
          "text": [
            "Using `disable_exllama` is deprecated and will be removed in version 4.37. Use `use_exllama` instead and specify the version with `exllama_config`.The value of `use_exllama` will be overwritten by `disable_exllama` passed in `GPTQConfig` or stored in your config file.\n"
          ]
        }
      ]
    },
    {
      "cell_type": "code",
      "source": [
        "model = AutoModelForCausalLM.from_pretrained(\n",
        "                          \"TheBloke/Mistral-7B-Instruct-v0.1-GPTQ\",\n",
        "                          quantization_config=quantization_config_loading,\n",
        "                          device_map=\"auto\")"
      ],
      "metadata": {
        "id": "ZzPZBCbM-Igq",
        "colab": {
          "base_uri": "https://localhost:8080/"
        },
        "outputId": "22cdb356-5dbd-4acc-a399-976a6a1f03cf"
      },
      "execution_count": null,
      "outputs": [
        {
          "output_type": "stream",
          "name": "stderr",
          "text": [
            "/usr/local/lib/python3.11/dist-packages/transformers/quantizers/auto.py:195: UserWarning: You passed `quantization_config` or equivalent parameters to `from_pretrained` but the model you're loading already has a `quantization_config` attribute. The `quantization_config` from the model will be used.However, loading attributes (e.g. ['use_cuda_fp16', 'use_exllama', 'max_input_length', 'exllama_config', 'disable_exllama']) will be overwritten with the one you passed to `from_pretrained`. The rest will be ignored.\n",
            "  warnings.warn(warning_msg)\n",
            "/usr/local/lib/python3.11/dist-packages/accelerate/utils/modeling.py:1536: UserWarning: Current model requires 3630956672 bytes of buffer for offloaded layers, which seems does not fit any GPU's remaining memory. If you are experiencing a OOM later, please consider using offload_buffers=True.\n",
            "  warnings.warn(\n",
            "Some weights of the model checkpoint at TheBloke/Mistral-7B-Instruct-v0.1-GPTQ were not used when initializing MistralForCausalLM: {'model.layers.12.self_attn.v_proj.bias', 'model.layers.10.mlp.gate_proj.bias', 'model.layers.2.self_attn.v_proj.bias', 'model.layers.26.self_attn.k_proj.bias', 'model.layers.19.self_attn.q_proj.bias', 'model.layers.24.self_attn.v_proj.bias', 'model.layers.16.mlp.down_proj.bias', 'model.layers.31.self_attn.v_proj.bias', 'model.layers.9.mlp.gate_proj.bias', 'model.layers.22.mlp.gate_proj.bias', 'model.layers.5.self_attn.v_proj.bias', 'model.layers.30.mlp.up_proj.bias', 'model.layers.11.self_attn.k_proj.bias', 'model.layers.27.self_attn.v_proj.bias', 'model.layers.21.mlp.gate_proj.bias', 'model.layers.26.self_attn.q_proj.bias', 'model.layers.23.mlp.down_proj.bias', 'model.layers.3.self_attn.k_proj.bias', 'model.layers.19.self_attn.k_proj.bias', 'model.layers.2.mlp.up_proj.bias', 'model.layers.7.self_attn.q_proj.bias', 'model.layers.5.self_attn.o_proj.bias', 'model.layers.22.self_attn.v_proj.bias', 'model.layers.1.mlp.up_proj.bias', 'model.layers.25.mlp.down_proj.bias', 'model.layers.19.self_attn.o_proj.bias', 'model.layers.13.mlp.gate_proj.bias', 'model.layers.24.mlp.gate_proj.bias', 'model.layers.27.mlp.down_proj.bias', 'model.layers.9.self_attn.k_proj.bias', 'model.layers.15.self_attn.v_proj.bias', 'model.layers.3.mlp.up_proj.bias', 'model.layers.24.mlp.up_proj.bias', 'model.layers.19.self_attn.v_proj.bias', 'model.layers.12.mlp.up_proj.bias', 'model.layers.24.self_attn.o_proj.bias', 'model.layers.6.self_attn.k_proj.bias', 'model.layers.16.self_attn.k_proj.bias', 'model.layers.20.self_attn.q_proj.bias', 'model.layers.17.self_attn.k_proj.bias', 'model.layers.18.mlp.down_proj.bias', 'model.layers.26.mlp.up_proj.bias', 'model.layers.31.mlp.down_proj.bias', 'model.layers.30.self_attn.o_proj.bias', 'model.layers.20.mlp.up_proj.bias', 'model.layers.17.mlp.gate_proj.bias', 'model.layers.25.mlp.gate_proj.bias', 'model.layers.2.self_attn.q_proj.bias', 'model.layers.10.self_attn.v_proj.bias', 'model.layers.15.mlp.down_proj.bias', 'model.layers.30.mlp.gate_proj.bias', 'model.layers.12.self_attn.q_proj.bias', 'model.layers.27.self_attn.q_proj.bias', 'model.layers.3.self_attn.v_proj.bias', 'model.layers.24.self_attn.q_proj.bias', 'model.layers.18.self_attn.v_proj.bias', 'model.layers.18.self_attn.k_proj.bias', 'model.layers.29.self_attn.k_proj.bias', 'model.layers.1.mlp.gate_proj.bias', 'model.layers.4.self_attn.q_proj.bias', 'model.layers.30.mlp.down_proj.bias', 'model.layers.27.self_attn.o_proj.bias', 'model.layers.27.self_attn.k_proj.bias', 'model.layers.10.self_attn.o_proj.bias', 'model.layers.28.self_attn.q_proj.bias', 'model.layers.7.mlp.up_proj.bias', 'model.layers.10.mlp.up_proj.bias', 'model.layers.17.self_attn.q_proj.bias', 'model.layers.2.self_attn.o_proj.bias', 'model.layers.20.mlp.gate_proj.bias', 'model.layers.26.self_attn.v_proj.bias', 'model.layers.13.self_attn.v_proj.bias', 'model.layers.29.self_attn.q_proj.bias', 'model.layers.28.self_attn.v_proj.bias', 'model.layers.15.self_attn.k_proj.bias', 'model.layers.9.self_attn.q_proj.bias', 'model.layers.4.self_attn.v_proj.bias', 'model.layers.10.mlp.down_proj.bias', 'model.layers.14.self_attn.o_proj.bias', 'model.layers.28.self_attn.k_proj.bias', 'model.layers.23.self_attn.q_proj.bias', 'model.layers.23.mlp.up_proj.bias', 'model.layers.2.mlp.down_proj.bias', 'model.layers.21.mlp.up_proj.bias', 'model.layers.14.mlp.up_proj.bias', 'model.layers.16.self_attn.o_proj.bias', 'model.layers.8.self_attn.k_proj.bias', 'model.layers.17.mlp.down_proj.bias', 'model.layers.25.self_attn.q_proj.bias', 'model.layers.16.mlp.up_proj.bias', 'model.layers.29.self_attn.v_proj.bias', 'model.layers.7.self_attn.v_proj.bias', 'model.layers.6.mlp.up_proj.bias', 'model.layers.4.self_attn.o_proj.bias', 'model.layers.11.self_attn.v_proj.bias', 'model.layers.14.mlp.gate_proj.bias', 'model.layers.3.mlp.gate_proj.bias', 'model.layers.15.mlp.up_proj.bias', 'model.layers.28.mlp.down_proj.bias', 'model.layers.11.mlp.up_proj.bias', 'model.layers.19.mlp.down_proj.bias', 'model.layers.0.self_attn.k_proj.bias', 'model.layers.23.self_attn.v_proj.bias', 'model.layers.17.mlp.up_proj.bias', 'model.layers.12.mlp.gate_proj.bias', 'model.layers.3.self_attn.q_proj.bias', 'model.layers.30.self_attn.k_proj.bias', 'model.layers.24.self_attn.k_proj.bias', 'model.layers.25.self_attn.o_proj.bias', 'model.layers.30.self_attn.q_proj.bias', 'model.layers.9.mlp.down_proj.bias', 'model.layers.21.self_attn.v_proj.bias', 'model.layers.13.mlp.up_proj.bias', 'model.layers.21.mlp.down_proj.bias', 'model.layers.7.self_attn.k_proj.bias', 'model.layers.31.mlp.up_proj.bias', 'model.layers.31.self_attn.k_proj.bias', 'model.layers.15.self_attn.o_proj.bias', 'model.layers.20.self_attn.k_proj.bias', 'model.layers.14.self_attn.k_proj.bias', 'model.layers.7.mlp.gate_proj.bias', 'model.layers.27.mlp.up_proj.bias', 'model.layers.14.self_attn.q_proj.bias', 'model.layers.10.self_attn.k_proj.bias', 'model.layers.0.mlp.up_proj.bias', 'model.layers.13.self_attn.o_proj.bias', 'model.layers.11.mlp.gate_proj.bias', 'model.layers.23.self_attn.o_proj.bias', 'model.layers.19.mlp.gate_proj.bias', 'model.layers.17.self_attn.v_proj.bias', 'model.layers.21.self_attn.o_proj.bias', 'model.layers.5.mlp.down_proj.bias', 'model.layers.18.mlp.gate_proj.bias', 'model.layers.8.self_attn.o_proj.bias', 'model.layers.6.self_attn.v_proj.bias', 'model.layers.6.self_attn.q_proj.bias', 'model.layers.25.mlp.up_proj.bias', 'model.layers.22.self_attn.o_proj.bias', 'model.layers.8.self_attn.v_proj.bias', 'model.layers.1.self_attn.k_proj.bias', 'model.layers.12.self_attn.k_proj.bias', 'model.layers.13.mlp.down_proj.bias', 'model.layers.6.self_attn.o_proj.bias', 'model.layers.31.self_attn.o_proj.bias', 'model.layers.17.self_attn.o_proj.bias', 'model.layers.1.self_attn.q_proj.bias', 'model.layers.1.self_attn.v_proj.bias', 'model.layers.8.mlp.down_proj.bias', 'model.layers.22.self_attn.k_proj.bias', 'model.layers.26.mlp.gate_proj.bias', 'model.layers.5.mlp.up_proj.bias', 'model.layers.6.mlp.down_proj.bias', 'model.layers.29.mlp.down_proj.bias', 'model.layers.3.mlp.down_proj.bias', 'model.layers.18.self_attn.q_proj.bias', 'model.layers.15.self_attn.q_proj.bias', 'model.layers.8.self_attn.q_proj.bias', 'model.layers.5.mlp.gate_proj.bias', 'model.layers.0.self_attn.v_proj.bias', 'model.layers.12.mlp.down_proj.bias', 'model.layers.22.mlp.down_proj.bias', 'model.layers.5.self_attn.k_proj.bias', 'model.layers.7.mlp.down_proj.bias', 'model.layers.11.self_attn.q_proj.bias', 'model.layers.28.self_attn.o_proj.bias', 'model.layers.9.mlp.up_proj.bias', 'model.layers.13.self_attn.q_proj.bias', 'model.layers.9.self_attn.v_proj.bias', 'model.layers.15.mlp.gate_proj.bias', 'model.layers.27.mlp.gate_proj.bias', 'model.layers.4.mlp.up_proj.bias', 'model.layers.0.self_attn.q_proj.bias', 'model.layers.29.mlp.gate_proj.bias', 'model.layers.8.mlp.up_proj.bias', 'model.layers.20.mlp.down_proj.bias', 'model.layers.25.self_attn.v_proj.bias', 'model.layers.31.self_attn.q_proj.bias', 'model.layers.9.self_attn.o_proj.bias', 'model.layers.20.self_attn.o_proj.bias', 'model.layers.5.self_attn.q_proj.bias', 'model.layers.10.self_attn.q_proj.bias', 'model.layers.8.mlp.gate_proj.bias', 'model.layers.16.self_attn.v_proj.bias', 'model.layers.23.self_attn.k_proj.bias', 'model.layers.0.mlp.down_proj.bias', 'model.layers.18.mlp.up_proj.bias', 'model.layers.29.self_attn.o_proj.bias', 'model.layers.7.self_attn.o_proj.bias', 'model.layers.28.mlp.gate_proj.bias', 'model.layers.22.self_attn.q_proj.bias', 'model.layers.31.mlp.gate_proj.bias', 'model.layers.3.self_attn.o_proj.bias', 'model.layers.16.mlp.gate_proj.bias', 'model.layers.14.self_attn.v_proj.bias', 'model.layers.0.mlp.gate_proj.bias', 'model.layers.14.mlp.down_proj.bias', 'model.layers.16.self_attn.q_proj.bias', 'model.layers.20.self_attn.v_proj.bias', 'model.layers.0.self_attn.o_proj.bias', 'model.layers.25.self_attn.k_proj.bias', 'model.layers.23.mlp.gate_proj.bias', 'model.layers.26.self_attn.o_proj.bias', 'model.layers.1.self_attn.o_proj.bias', 'model.layers.2.mlp.gate_proj.bias', 'model.layers.18.self_attn.o_proj.bias', 'model.layers.19.mlp.up_proj.bias', 'model.layers.21.self_attn.q_proj.bias', 'model.layers.12.self_attn.o_proj.bias', 'model.layers.4.self_attn.k_proj.bias', 'model.layers.6.mlp.gate_proj.bias', 'model.layers.28.mlp.up_proj.bias', 'model.layers.4.mlp.down_proj.bias', 'model.layers.26.mlp.down_proj.bias', 'model.layers.1.mlp.down_proj.bias', 'model.layers.30.self_attn.v_proj.bias', 'model.layers.13.self_attn.k_proj.bias', 'model.layers.22.mlp.up_proj.bias', 'model.layers.11.self_attn.o_proj.bias', 'model.layers.21.self_attn.k_proj.bias', 'model.layers.24.mlp.down_proj.bias', 'model.layers.29.mlp.up_proj.bias', 'model.layers.11.mlp.down_proj.bias', 'model.layers.2.self_attn.k_proj.bias', 'model.layers.4.mlp.gate_proj.bias'}\n",
            "- This IS expected if you are initializing MistralForCausalLM from the checkpoint of a model trained on another task or with another architecture (e.g. initializing a BertForSequenceClassification model from a BertForPreTraining model).\n",
            "- This IS NOT expected if you are initializing MistralForCausalLM from the checkpoint of a model that you expect to be exactly identical (initializing a BertForSequenceClassification model from a BertForSequenceClassification model).\n"
          ]
        }
      ]
    },
    {
      "cell_type": "code",
      "source": [
        "print(model)"
      ],
      "metadata": {
        "id": "2-aASEAx-cM4",
        "colab": {
          "base_uri": "https://localhost:8080/"
        },
        "outputId": "521c45e4-49e9-4fb9-f75e-b8632d4ebd59"
      },
      "execution_count": null,
      "outputs": [
        {
          "output_type": "stream",
          "name": "stdout",
          "text": [
            "MistralForCausalLM(\n",
            "  (model): MistralModel(\n",
            "    (embed_tokens): Embedding(32000, 4096, padding_idx=0)\n",
            "    (layers): ModuleList(\n",
            "      (0-31): 32 x MistralDecoderLayer(\n",
            "        (self_attn): MistralAttention(\n",
            "          (k_proj): QuantLinear()\n",
            "          (o_proj): QuantLinear()\n",
            "          (q_proj): QuantLinear()\n",
            "          (v_proj): QuantLinear()\n",
            "        )\n",
            "        (mlp): MistralMLP(\n",
            "          (act_fn): SiLU()\n",
            "          (down_proj): QuantLinear()\n",
            "          (gate_proj): QuantLinear()\n",
            "          (up_proj): QuantLinear()\n",
            "        )\n",
            "        (input_layernorm): MistralRMSNorm((4096,), eps=1e-05)\n",
            "        (post_attention_layernorm): MistralRMSNorm((4096,), eps=1e-05)\n",
            "      )\n",
            "    )\n",
            "    (norm): MistralRMSNorm((4096,), eps=1e-05)\n",
            "    (rotary_emb): MistralRotaryEmbedding()\n",
            "  )\n",
            "  (lm_head): Linear(in_features=4096, out_features=32000, bias=False)\n",
            ")\n"
          ]
        }
      ]
    },
    {
      "cell_type": "code",
      "source": [
        "#used to supress the model\n",
        "model = prepare_model_for_kbit_training(model)"
      ],
      "metadata": {
        "id": "U-BY_59p_KAd"
      },
      "execution_count": null,
      "outputs": []
    },
    {
      "cell_type": "code",
      "source": [
        "peft_config = LoraConfig(\n",
        "    r=16,lora_alpha=16,lora_dropout=0.05,bias=\"none\",task_type=\"CAUSAL_LM\",target_modules=[\"q_proj\",\"k_proj\",\"v_proj\"]\n",
        ")"
      ],
      "metadata": {
        "id": "t45fe05a_KPe"
      },
      "execution_count": null,
      "outputs": []
    },
    {
      "cell_type": "code",
      "source": [
        "model = get_peft_model(model,peft_config)"
      ],
      "metadata": {
        "id": "puarwJAS_KqL"
      },
      "execution_count": null,
      "outputs": []
    },
    {
      "cell_type": "code",
      "source": [
        "print(model)"
      ],
      "metadata": {
        "id": "VDjvHkEX_Kty",
        "colab": {
          "base_uri": "https://localhost:8080/"
        },
        "outputId": "c36b50b7-cb90-4161-d678-30cdb7726200"
      },
      "execution_count": null,
      "outputs": [
        {
          "output_type": "stream",
          "name": "stdout",
          "text": [
            "PeftModelForCausalLM(\n",
            "  (base_model): LoraModel(\n",
            "    (model): MistralForCausalLM(\n",
            "      (model): MistralModel(\n",
            "        (embed_tokens): Embedding(32000, 4096, padding_idx=0)\n",
            "        (layers): ModuleList(\n",
            "          (0-31): 32 x MistralDecoderLayer(\n",
            "            (self_attn): MistralAttention(\n",
            "              (k_proj): lora.QuantLinear(\n",
            "                (base_layer): QuantLinear()\n",
            "                (lora_dropout): ModuleDict(\n",
            "                  (default): Dropout(p=0.05, inplace=False)\n",
            "                )\n",
            "                (lora_A): ModuleDict(\n",
            "                  (default): Linear(in_features=4096, out_features=16, bias=False)\n",
            "                )\n",
            "                (lora_B): ModuleDict(\n",
            "                  (default): Linear(in_features=16, out_features=1024, bias=False)\n",
            "                )\n",
            "                (lora_embedding_A): ParameterDict()\n",
            "                (lora_embedding_B): ParameterDict()\n",
            "                (lora_magnitude_vector): ModuleDict()\n",
            "                (quant_linear_module): QuantLinear()\n",
            "              )\n",
            "              (o_proj): QuantLinear()\n",
            "              (q_proj): lora.QuantLinear(\n",
            "                (base_layer): QuantLinear()\n",
            "                (lora_dropout): ModuleDict(\n",
            "                  (default): Dropout(p=0.05, inplace=False)\n",
            "                )\n",
            "                (lora_A): ModuleDict(\n",
            "                  (default): Linear(in_features=4096, out_features=16, bias=False)\n",
            "                )\n",
            "                (lora_B): ModuleDict(\n",
            "                  (default): Linear(in_features=16, out_features=4096, bias=False)\n",
            "                )\n",
            "                (lora_embedding_A): ParameterDict()\n",
            "                (lora_embedding_B): ParameterDict()\n",
            "                (lora_magnitude_vector): ModuleDict()\n",
            "                (quant_linear_module): QuantLinear()\n",
            "              )\n",
            "              (v_proj): lora.QuantLinear(\n",
            "                (base_layer): QuantLinear()\n",
            "                (lora_dropout): ModuleDict(\n",
            "                  (default): Dropout(p=0.05, inplace=False)\n",
            "                )\n",
            "                (lora_A): ModuleDict(\n",
            "                  (default): Linear(in_features=4096, out_features=16, bias=False)\n",
            "                )\n",
            "                (lora_B): ModuleDict(\n",
            "                  (default): Linear(in_features=16, out_features=1024, bias=False)\n",
            "                )\n",
            "                (lora_embedding_A): ParameterDict()\n",
            "                (lora_embedding_B): ParameterDict()\n",
            "                (lora_magnitude_vector): ModuleDict()\n",
            "                (quant_linear_module): QuantLinear()\n",
            "              )\n",
            "            )\n",
            "            (mlp): MistralMLP(\n",
            "              (act_fn): SiLU()\n",
            "              (down_proj): QuantLinear()\n",
            "              (gate_proj): QuantLinear()\n",
            "              (up_proj): QuantLinear()\n",
            "            )\n",
            "            (input_layernorm): MistralRMSNorm((4096,), eps=1e-05)\n",
            "            (post_attention_layernorm): MistralRMSNorm((4096,), eps=1e-05)\n",
            "          )\n",
            "        )\n",
            "        (norm): MistralRMSNorm((4096,), eps=1e-05)\n",
            "        (rotary_emb): MistralRotaryEmbedding()\n",
            "      )\n",
            "      (lm_head): Linear(in_features=4096, out_features=32000, bias=False)\n",
            "    )\n",
            "  )\n",
            ")\n"
          ]
        }
      ]
    },
    {
      "cell_type": "code",
      "source": [
        "quantization_config = BitsAndBytesConfig(\n",
        "    load_in_4bit=True,    # Enable 4-bit quantization\n",
        "    bnb_4bit_compute_dtype=torch.float16,  # Use fp16 for computation\n",
        "    bnb_4bit_use_double_quant=True,  # Use double quantization for memory efficiency\n",
        ")"
      ],
      "metadata": {
        "id": "_bSbnEtVuqXK"
      },
      "execution_count": null,
      "outputs": []
    },
    {
      "cell_type": "code",
      "source": [
        "model = AutoModelForCausalLM.from_pretrained(\n",
        "    \"mistralai/Mistral-7B-Instruct-v0.1\",\n",
        "    quantization_config=quantization_config,\n",
        "    device_map=\"auto\"  # Automatically assigns layers to available GPUs\n",
        ")"
      ],
      "metadata": {
        "colab": {
          "base_uri": "https://localhost:8080/",
          "height": 49,
          "referenced_widgets": [
            "794aecc0320f44dfbe79c4faa03cc9ad",
            "d1a70142955e4704b5ca2872bc0327d3",
            "189243f8004443519499de140e6f78ef",
            "72792c3fa0be43c98798f912b7160c11",
            "c9aab4fdc39045e4b9527bd735ff738a",
            "0e2029b9180e4e8c8b4e5340541afc12",
            "5f3fcb748140404999755099c893403c",
            "d4e62a8d13f94a8cb8b10e8939807606",
            "80905fa59d164f1fbb10785e3ec30b0c",
            "edfbbe0dc361469c8c36f4465cbd54f3",
            "c251a16e292f4e04870f8b5fe5993a1b"
          ]
        },
        "id": "WuvpgNdfuunq",
        "outputId": "a0c7a9a8-a529-4a98-c871-f9c7c35c4fd6"
      },
      "execution_count": null,
      "outputs": [
        {
          "output_type": "display_data",
          "data": {
            "text/plain": [
              "Loading checkpoint shards:   0%|          | 0/2 [00:00<?, ?it/s]"
            ],
            "application/vnd.jupyter.widget-view+json": {
              "version_major": 2,
              "version_minor": 0,
              "model_id": "794aecc0320f44dfbe79c4faa03cc9ad"
            }
          },
          "metadata": {}
        }
      ]
    },
    {
      "cell_type": "code",
      "source": [
        "model.config.use_cache=False"
      ],
      "metadata": {
        "id": "DRA2hqw2xlMC"
      },
      "execution_count": null,
      "outputs": []
    },
    {
      "cell_type": "code",
      "source": [
        "model.config.pretraining_tp=1"
      ],
      "metadata": {
        "id": "CxnPWgQ8xppD"
      },
      "execution_count": null,
      "outputs": []
    },
    {
      "cell_type": "code",
      "source": [
        "model.gradient_checkpointing_enable()"
      ],
      "metadata": {
        "id": "RlKbhloyxpwT"
      },
      "execution_count": null,
      "outputs": []
    },
    {
      "cell_type": "code",
      "source": [
        "model = prepare_model_for_kbit_training(model)"
      ],
      "metadata": {
        "id": "YTBUdova7tTC"
      },
      "execution_count": null,
      "outputs": []
    },
    {
      "cell_type": "code",
      "source": [
        "peft_config = LoraConfig(\n",
        "        r=16, lora_alpha=16, lora_dropout=0.05, bias=\"none\", task_type=\"CAUSAL_LM\", target_modules=[\"q_proj\", \"v_proj\"]\n",
        "    )"
      ],
      "metadata": {
        "id": "NNirbWdaxydC"
      },
      "execution_count": null,
      "outputs": []
    },
    {
      "cell_type": "code",
      "source": [
        "model = get_peft_model(model, peft_config)"
      ],
      "metadata": {
        "id": "WuYICA7Lx3uV"
      },
      "execution_count": null,
      "outputs": []
    },
    {
      "cell_type": "code",
      "source": [
        "model = prepare_model_for_kbit_training(model)"
      ],
      "metadata": {
        "id": "exlLIkgExp0y"
      },
      "execution_count": null,
      "outputs": []
    },
    {
      "source": [
        "\n",
        "training_arguments = TrainingArguments(\n",
        "    output_dir=\"mistral-finetuned-samsum\",\n",
        "    per_device_train_batch_size=4,  # Reduced batch size\n",
        "    gradient_accumulation_steps=2,  # Increased gradient accumulation steps\n",
        "    optim=\"paged_adamw_32bit\",\n",
        "    learning_rate=2e-4,\n",
        "    lr_scheduler_type=\"cosine\",\n",
        "    save_strategy=\"epoch\",\n",
        "    logging_steps=100,\n",
        "    num_train_epochs=1,\n",
        "    max_steps=250,\n",
        "    fp16=True,\n",
        "    push_to_hub=True,\n",
        "    report_to=\"none\",\n",
        "    max_grad_norm=1.0,\n",
        "    gradient_checkpointing=True,  # Enable gradient checkpointing\n",
        "    # dataloader_num_workers=2,      # Adjust based on your system's CPU cores\n",
        ")\n",
        "\n",
        "# Initialize SFTTrainer\n",
        "trainer = SFTTrainer(\n",
        "    model=model,\n",
        "    train_dataset=data,\n",
        "    peft_config=peft_config,\n",
        "    args=training_arguments,\n",
        "    tokenizer=tokenizer,\n",
        ")\n"
      ],
      "cell_type": "code",
      "metadata": {
        "colab": {
          "base_uri": "https://localhost:8080/",
          "height": 200,
          "referenced_widgets": [
            "37e1416a78934bde82c4ed6656f71056",
            "2d48a1f1b96c4790bdb7974bca5d215e",
            "38b5046e77a34103a773db1049330714",
            "cfb5019386c042a093aed8bc4d6e6c0a",
            "34a6de148a2941598be1e4b65b261703",
            "243a0eb025b746caa3961ab3cd4e4430",
            "837524576eb04c7082b014721260964d",
            "410175a1e4134eb1925e6d24e3def202",
            "d25feb3d07db401ebfa54c0ddbdf0622",
            "2e2fd6931f534138baf81c811eaf5b98",
            "f31e5cb5687948b0854e543b72f28687",
            "cc5b0c02427f49e6b3254ca15991bfee",
            "092fbb8384ea4a7282c40449b59a2791",
            "24b21cbe547a4187a0e3c5715218932c",
            "2514aea8902142c9aaa3348012fadf52",
            "79df972113084a1ebd7c9b6771cc9060",
            "9170e67acb4749aa9ec6b5b0a09e9505",
            "66213834dbed4cacbaafd7ee5d3f44a5",
            "8bfac090257c47b1b38dc458910b34d5",
            "083463f5e7c3497fb16c678dc89d020c",
            "60a3ecdc8ee04c1eabc226489a439091",
            "ac51dfa9c9fe46fd89f5b8872a96101c",
            "b785ec46dde54fa0a025544886fc25ae",
            "681f3a3406f243a1aa32bbd342a2ba6f",
            "c88f07f415254b57b2ca1cfb6cb29bc0",
            "9aff044b2c83478d84fbf4a5a38c7442",
            "d541a473cbd241b8b7dff00005de48c1",
            "d4f3a336fca24a329c59cd387d7e0659",
            "f18cf72ae6b24a498f0aa70a47205200",
            "5251d8809552477285a71460afec12d0",
            "180a30c509a54d4fb9fdaae00a1d32e6",
            "2d33c3094e8a45f58f2bbd368ce73312",
            "6399b9473d624ae5bd59f5d5af9c97de",
            "3653c648e8724a59b6a5cd77e017e8e3",
            "8135cd9677a94d629db94558a7c0d4cc",
            "51c98389149f4ddf8ba6e4617e59d05e",
            "45fd1d1808204be2899fe359de905223",
            "ef9beddf4cd948968d9452f2f9d4c63b",
            "ad2d862f84b5482fb225db8a7f86ba6b",
            "5d2b3e9a1d8f447ba489c5f5a55b9999",
            "53a6b4b62b3c4430874796264ba7f317",
            "d047682f89ba4cf7b93f9bfbe7ffe878",
            "a3a1b5f0c7d54004ad152211739385bb",
            "bd10cc44880244279085eb062fd87f1c"
          ]
        },
        "id": "YPk6gUws-I15",
        "outputId": "bca46828-cd42-4c8f-c0dd-eb4985513c2b"
      },
      "execution_count": null,
      "outputs": [
        {
          "output_type": "stream",
          "name": "stderr",
          "text": [
            "<ipython-input-114-f98954279740>:21: FutureWarning: `tokenizer` is deprecated and removed starting from version 0.16.0 for `SFTTrainer.__init__`. Use `processing_class` instead.\n",
            "  trainer = SFTTrainer(\n"
          ]
        },
        {
          "output_type": "display_data",
          "data": {
            "text/plain": [
              "Converting train dataset to ChatML:   0%|          | 0/14732 [00:00<?, ? examples/s]"
            ],
            "application/vnd.jupyter.widget-view+json": {
              "version_major": 2,
              "version_minor": 0,
              "model_id": "37e1416a78934bde82c4ed6656f71056"
            }
          },
          "metadata": {}
        },
        {
          "output_type": "display_data",
          "data": {
            "text/plain": [
              "Applying chat template to train dataset:   0%|          | 0/14732 [00:00<?, ? examples/s]"
            ],
            "application/vnd.jupyter.widget-view+json": {
              "version_major": 2,
              "version_minor": 0,
              "model_id": "cc5b0c02427f49e6b3254ca15991bfee"
            }
          },
          "metadata": {}
        },
        {
          "output_type": "display_data",
          "data": {
            "text/plain": [
              "Tokenizing train dataset:   0%|          | 0/14732 [00:00<?, ? examples/s]"
            ],
            "application/vnd.jupyter.widget-view+json": {
              "version_major": 2,
              "version_minor": 0,
              "model_id": "b785ec46dde54fa0a025544886fc25ae"
            }
          },
          "metadata": {}
        },
        {
          "output_type": "display_data",
          "data": {
            "text/plain": [
              "Truncating train dataset:   0%|          | 0/14732 [00:00<?, ? examples/s]"
            ],
            "application/vnd.jupyter.widget-view+json": {
              "version_major": 2,
              "version_minor": 0,
              "model_id": "3653c648e8724a59b6a5cd77e017e8e3"
            }
          },
          "metadata": {}
        }
      ]
    },
    {
      "cell_type": "code",
      "source": [
        "trainer.train()"
      ],
      "metadata": {
        "colab": {
          "base_uri": "https://localhost:8080/",
          "height": 172
        },
        "id": "KEVQcq719oge",
        "outputId": "49bff268-96a0-4cd6-b167-588037ac1be1"
      },
      "execution_count": null,
      "outputs": [
        {
          "output_type": "display_data",
          "data": {
            "text/plain": [
              "<IPython.core.display.HTML object>"
            ],
            "text/html": [
              "\n",
              "    <div>\n",
              "      \n",
              "      <progress value='250' max='250' style='width:300px; height:20px; vertical-align: middle;'></progress>\n",
              "      [250/250 44:44, Epoch 0/1]\n",
              "    </div>\n",
              "    <table border=\"1\" class=\"dataframe\">\n",
              "  <thead>\n",
              " <tr style=\"text-align: left;\">\n",
              "      <th>Step</th>\n",
              "      <th>Training Loss</th>\n",
              "    </tr>\n",
              "  </thead>\n",
              "  <tbody>\n",
              "    <tr>\n",
              "      <td>100</td>\n",
              "      <td>1.866400</td>\n",
              "    </tr>\n",
              "    <tr>\n",
              "      <td>200</td>\n",
              "      <td>1.763300</td>\n",
              "    </tr>\n",
              "  </tbody>\n",
              "</table><p>"
            ]
          },
          "metadata": {}
        },
        {
          "output_type": "execute_result",
          "data": {
            "text/plain": [
              "TrainOutput(global_step=250, training_loss=1.8016432189941407, metrics={'train_runtime': 2697.3583, 'train_samples_per_second': 0.741, 'train_steps_per_second': 0.093, 'total_flos': 577958902824960.0, 'train_loss': 1.8016432189941407})"
            ]
          },
          "metadata": {},
          "execution_count": 115
        }
      ]
    },
    {
      "cell_type": "code",
      "source": [
        "! cp -r /content/mistral-finetuned-samsum"
      ],
      "metadata": {
        "colab": {
          "base_uri": "https://localhost:8080/"
        },
        "id": "sAx8yzDvJ7Y9",
        "outputId": "e588ac29-2004-47bc-998d-3cf1adeb0799"
      },
      "execution_count": null,
      "outputs": [
        {
          "output_type": "stream",
          "name": "stdout",
          "text": [
            "cp: missing destination file operand after '/content/mistral-finetuned-samsum'\n",
            "Try 'cp --help' for more information.\n"
          ]
        }
      ]
    },
    {
      "cell_type": "code",
      "source": [
        "trainer.push_to_hub()"
      ],
      "metadata": {
        "colab": {
          "base_uri": "https://localhost:8080/",
          "height": 86
        },
        "id": "e9RX_h5VJ_2s",
        "outputId": "881c81b7-79a0-41f9-b044-d2105f89eb21"
      },
      "execution_count": null,
      "outputs": [
        {
          "output_type": "execute_result",
          "data": {
            "text/plain": [
              "CommitInfo(commit_url='https://huggingface.co/IshtiyaqMarzuq/mistral-finetuned-samsum/commit/acbc5d621f89f736e2d04f5c62ca54edf0d4c5cf', commit_message='End of training', commit_description='', oid='acbc5d621f89f736e2d04f5c62ca54edf0d4c5cf', pr_url=None, repo_url=RepoUrl('https://huggingface.co/IshtiyaqMarzuq/mistral-finetuned-samsum', endpoint='https://huggingface.co', repo_type='model', repo_id='IshtiyaqMarzuq/mistral-finetuned-samsum'), pr_revision=None, pr_num=None)"
            ],
            "application/vnd.google.colaboratory.intrinsic+json": {
              "type": "string"
            }
          },
          "metadata": {},
          "execution_count": 118
        }
      ]
    },
    {
      "cell_type": "code",
      "source": [
        "from peft import AutoPeftModelForCausalLM\n",
        "from transformers import GenerationConfig\n",
        "from transformers import AutoTokenizer\n",
        "import torch\n",
        "tokenizer = AutoTokenizer.from_pretrained(\"/content/mistral-finetuned-samsum\")"
      ],
      "metadata": {
        "id": "llTzyzZHKB0R"
      },
      "execution_count": null,
      "outputs": []
    },
    {
      "cell_type": "code",
      "source": [
        "inputs = tokenizer(\"\"\"\n",
        "###Human: Summarize this following dialogue: Sunny: I'm at the railway station in Chennai Karthik: No problems so far? Sunny: no, everything's going smoothly Karthik: good. lets meet there soon!\n",
        "###Assistant: \"\"\", return_tensors=\"pt\").to(\"cuda\")\n"
      ],
      "metadata": {
        "id": "ibHjy9NRKSUT"
      },
      "execution_count": null,
      "outputs": []
    },
    {
      "cell_type": "code",
      "source": [
        "model = AutoPeftModelForCausalLM.from_pretrained(\n",
        "    \"/content/mistral-finetuned-samsum\",\n",
        "    low_cpu_mem_usage=True,\n",
        "    return_dict=True,\n",
        "    torch_dtype=torch.float16,\n",
        "    device_map=\"cuda\")"
      ],
      "metadata": {
        "colab": {
          "base_uri": "https://localhost:8080/"
        },
        "id": "mMEkoE-oKWl4",
        "outputId": "ffcf5b59-95ad-42dd-fa54-8e894ec71039"
      },
      "execution_count": null,
      "outputs": [
        {
          "output_type": "stream",
          "name": "stderr",
          "text": [
            "Some weights of the model checkpoint at TheBloke/Mistral-7B-Instruct-v0.1-GPTQ were not used when initializing MistralForCausalLM: {'model.layers.12.self_attn.v_proj.bias', 'model.layers.10.mlp.gate_proj.bias', 'model.layers.2.self_attn.v_proj.bias', 'model.layers.26.self_attn.k_proj.bias', 'model.layers.19.self_attn.q_proj.bias', 'model.layers.24.self_attn.v_proj.bias', 'model.layers.16.mlp.down_proj.bias', 'model.layers.31.self_attn.v_proj.bias', 'model.layers.9.mlp.gate_proj.bias', 'model.layers.22.mlp.gate_proj.bias', 'model.layers.5.self_attn.v_proj.bias', 'model.layers.30.mlp.up_proj.bias', 'model.layers.11.self_attn.k_proj.bias', 'model.layers.27.self_attn.v_proj.bias', 'model.layers.21.mlp.gate_proj.bias', 'model.layers.26.self_attn.q_proj.bias', 'model.layers.23.mlp.down_proj.bias', 'model.layers.3.self_attn.k_proj.bias', 'model.layers.19.self_attn.k_proj.bias', 'model.layers.2.mlp.up_proj.bias', 'model.layers.7.self_attn.q_proj.bias', 'model.layers.5.self_attn.o_proj.bias', 'model.layers.22.self_attn.v_proj.bias', 'model.layers.1.mlp.up_proj.bias', 'model.layers.25.mlp.down_proj.bias', 'model.layers.19.self_attn.o_proj.bias', 'model.layers.13.mlp.gate_proj.bias', 'model.layers.24.mlp.gate_proj.bias', 'model.layers.27.mlp.down_proj.bias', 'model.layers.9.self_attn.k_proj.bias', 'model.layers.15.self_attn.v_proj.bias', 'model.layers.3.mlp.up_proj.bias', 'model.layers.24.mlp.up_proj.bias', 'model.layers.19.self_attn.v_proj.bias', 'model.layers.12.mlp.up_proj.bias', 'model.layers.24.self_attn.o_proj.bias', 'model.layers.6.self_attn.k_proj.bias', 'model.layers.16.self_attn.k_proj.bias', 'model.layers.20.self_attn.q_proj.bias', 'model.layers.17.self_attn.k_proj.bias', 'model.layers.18.mlp.down_proj.bias', 'model.layers.26.mlp.up_proj.bias', 'model.layers.31.mlp.down_proj.bias', 'model.layers.30.self_attn.o_proj.bias', 'model.layers.20.mlp.up_proj.bias', 'model.layers.17.mlp.gate_proj.bias', 'model.layers.25.mlp.gate_proj.bias', 'model.layers.2.self_attn.q_proj.bias', 'model.layers.10.self_attn.v_proj.bias', 'model.layers.15.mlp.down_proj.bias', 'model.layers.30.mlp.gate_proj.bias', 'model.layers.12.self_attn.q_proj.bias', 'model.layers.27.self_attn.q_proj.bias', 'model.layers.3.self_attn.v_proj.bias', 'model.layers.24.self_attn.q_proj.bias', 'model.layers.18.self_attn.v_proj.bias', 'model.layers.18.self_attn.k_proj.bias', 'model.layers.29.self_attn.k_proj.bias', 'model.layers.1.mlp.gate_proj.bias', 'model.layers.4.self_attn.q_proj.bias', 'model.layers.30.mlp.down_proj.bias', 'model.layers.27.self_attn.o_proj.bias', 'model.layers.27.self_attn.k_proj.bias', 'model.layers.10.self_attn.o_proj.bias', 'model.layers.28.self_attn.q_proj.bias', 'model.layers.7.mlp.up_proj.bias', 'model.layers.10.mlp.up_proj.bias', 'model.layers.17.self_attn.q_proj.bias', 'model.layers.2.self_attn.o_proj.bias', 'model.layers.20.mlp.gate_proj.bias', 'model.layers.26.self_attn.v_proj.bias', 'model.layers.13.self_attn.v_proj.bias', 'model.layers.29.self_attn.q_proj.bias', 'model.layers.28.self_attn.v_proj.bias', 'model.layers.15.self_attn.k_proj.bias', 'model.layers.9.self_attn.q_proj.bias', 'model.layers.4.self_attn.v_proj.bias', 'model.layers.10.mlp.down_proj.bias', 'model.layers.14.self_attn.o_proj.bias', 'model.layers.28.self_attn.k_proj.bias', 'model.layers.23.self_attn.q_proj.bias', 'model.layers.23.mlp.up_proj.bias', 'model.layers.2.mlp.down_proj.bias', 'model.layers.21.mlp.up_proj.bias', 'model.layers.14.mlp.up_proj.bias', 'model.layers.16.self_attn.o_proj.bias', 'model.layers.8.self_attn.k_proj.bias', 'model.layers.17.mlp.down_proj.bias', 'model.layers.25.self_attn.q_proj.bias', 'model.layers.16.mlp.up_proj.bias', 'model.layers.29.self_attn.v_proj.bias', 'model.layers.7.self_attn.v_proj.bias', 'model.layers.6.mlp.up_proj.bias', 'model.layers.4.self_attn.o_proj.bias', 'model.layers.11.self_attn.v_proj.bias', 'model.layers.14.mlp.gate_proj.bias', 'model.layers.3.mlp.gate_proj.bias', 'model.layers.15.mlp.up_proj.bias', 'model.layers.28.mlp.down_proj.bias', 'model.layers.11.mlp.up_proj.bias', 'model.layers.19.mlp.down_proj.bias', 'model.layers.0.self_attn.k_proj.bias', 'model.layers.23.self_attn.v_proj.bias', 'model.layers.17.mlp.up_proj.bias', 'model.layers.12.mlp.gate_proj.bias', 'model.layers.3.self_attn.q_proj.bias', 'model.layers.30.self_attn.k_proj.bias', 'model.layers.24.self_attn.k_proj.bias', 'model.layers.25.self_attn.o_proj.bias', 'model.layers.30.self_attn.q_proj.bias', 'model.layers.9.mlp.down_proj.bias', 'model.layers.21.self_attn.v_proj.bias', 'model.layers.13.mlp.up_proj.bias', 'model.layers.21.mlp.down_proj.bias', 'model.layers.7.self_attn.k_proj.bias', 'model.layers.31.mlp.up_proj.bias', 'model.layers.31.self_attn.k_proj.bias', 'model.layers.15.self_attn.o_proj.bias', 'model.layers.20.self_attn.k_proj.bias', 'model.layers.14.self_attn.k_proj.bias', 'model.layers.7.mlp.gate_proj.bias', 'model.layers.27.mlp.up_proj.bias', 'model.layers.14.self_attn.q_proj.bias', 'model.layers.10.self_attn.k_proj.bias', 'model.layers.0.mlp.up_proj.bias', 'model.layers.13.self_attn.o_proj.bias', 'model.layers.11.mlp.gate_proj.bias', 'model.layers.23.self_attn.o_proj.bias', 'model.layers.19.mlp.gate_proj.bias', 'model.layers.17.self_attn.v_proj.bias', 'model.layers.21.self_attn.o_proj.bias', 'model.layers.5.mlp.down_proj.bias', 'model.layers.18.mlp.gate_proj.bias', 'model.layers.8.self_attn.o_proj.bias', 'model.layers.6.self_attn.v_proj.bias', 'model.layers.6.self_attn.q_proj.bias', 'model.layers.25.mlp.up_proj.bias', 'model.layers.22.self_attn.o_proj.bias', 'model.layers.8.self_attn.v_proj.bias', 'model.layers.1.self_attn.k_proj.bias', 'model.layers.12.self_attn.k_proj.bias', 'model.layers.13.mlp.down_proj.bias', 'model.layers.6.self_attn.o_proj.bias', 'model.layers.31.self_attn.o_proj.bias', 'model.layers.17.self_attn.o_proj.bias', 'model.layers.1.self_attn.q_proj.bias', 'model.layers.1.self_attn.v_proj.bias', 'model.layers.8.mlp.down_proj.bias', 'model.layers.22.self_attn.k_proj.bias', 'model.layers.26.mlp.gate_proj.bias', 'model.layers.5.mlp.up_proj.bias', 'model.layers.6.mlp.down_proj.bias', 'model.layers.29.mlp.down_proj.bias', 'model.layers.3.mlp.down_proj.bias', 'model.layers.18.self_attn.q_proj.bias', 'model.layers.15.self_attn.q_proj.bias', 'model.layers.8.self_attn.q_proj.bias', 'model.layers.5.mlp.gate_proj.bias', 'model.layers.0.self_attn.v_proj.bias', 'model.layers.12.mlp.down_proj.bias', 'model.layers.22.mlp.down_proj.bias', 'model.layers.5.self_attn.k_proj.bias', 'model.layers.7.mlp.down_proj.bias', 'model.layers.11.self_attn.q_proj.bias', 'model.layers.28.self_attn.o_proj.bias', 'model.layers.9.mlp.up_proj.bias', 'model.layers.13.self_attn.q_proj.bias', 'model.layers.9.self_attn.v_proj.bias', 'model.layers.15.mlp.gate_proj.bias', 'model.layers.27.mlp.gate_proj.bias', 'model.layers.4.mlp.up_proj.bias', 'model.layers.0.self_attn.q_proj.bias', 'model.layers.29.mlp.gate_proj.bias', 'model.layers.8.mlp.up_proj.bias', 'model.layers.20.mlp.down_proj.bias', 'model.layers.25.self_attn.v_proj.bias', 'model.layers.31.self_attn.q_proj.bias', 'model.layers.9.self_attn.o_proj.bias', 'model.layers.20.self_attn.o_proj.bias', 'model.layers.5.self_attn.q_proj.bias', 'model.layers.10.self_attn.q_proj.bias', 'model.layers.8.mlp.gate_proj.bias', 'model.layers.16.self_attn.v_proj.bias', 'model.layers.23.self_attn.k_proj.bias', 'model.layers.0.mlp.down_proj.bias', 'model.layers.18.mlp.up_proj.bias', 'model.layers.29.self_attn.o_proj.bias', 'model.layers.7.self_attn.o_proj.bias', 'model.layers.28.mlp.gate_proj.bias', 'model.layers.22.self_attn.q_proj.bias', 'model.layers.31.mlp.gate_proj.bias', 'model.layers.3.self_attn.o_proj.bias', 'model.layers.16.mlp.gate_proj.bias', 'model.layers.14.self_attn.v_proj.bias', 'model.layers.0.mlp.gate_proj.bias', 'model.layers.14.mlp.down_proj.bias', 'model.layers.16.self_attn.q_proj.bias', 'model.layers.20.self_attn.v_proj.bias', 'model.layers.0.self_attn.o_proj.bias', 'model.layers.25.self_attn.k_proj.bias', 'model.layers.23.mlp.gate_proj.bias', 'model.layers.26.self_attn.o_proj.bias', 'model.layers.1.self_attn.o_proj.bias', 'model.layers.2.mlp.gate_proj.bias', 'model.layers.18.self_attn.o_proj.bias', 'model.layers.19.mlp.up_proj.bias', 'model.layers.21.self_attn.q_proj.bias', 'model.layers.12.self_attn.o_proj.bias', 'model.layers.4.self_attn.k_proj.bias', 'model.layers.6.mlp.gate_proj.bias', 'model.layers.28.mlp.up_proj.bias', 'model.layers.4.mlp.down_proj.bias', 'model.layers.26.mlp.down_proj.bias', 'model.layers.1.mlp.down_proj.bias', 'model.layers.30.self_attn.v_proj.bias', 'model.layers.13.self_attn.k_proj.bias', 'model.layers.22.mlp.up_proj.bias', 'model.layers.11.self_attn.o_proj.bias', 'model.layers.21.self_attn.k_proj.bias', 'model.layers.24.mlp.down_proj.bias', 'model.layers.29.mlp.up_proj.bias', 'model.layers.11.mlp.down_proj.bias', 'model.layers.2.self_attn.k_proj.bias', 'model.layers.4.mlp.gate_proj.bias'}\n",
            "- This IS expected if you are initializing MistralForCausalLM from the checkpoint of a model trained on another task or with another architecture (e.g. initializing a BertForSequenceClassification model from a BertForPreTraining model).\n",
            "- This IS NOT expected if you are initializing MistralForCausalLM from the checkpoint of a model that you expect to be exactly identical (initializing a BertForSequenceClassification model from a BertForSequenceClassification model).\n"
          ]
        }
      ]
    },
    {
      "cell_type": "code",
      "source": [
        "generation_config = GenerationConfig(\n",
        "    do_sample=True,\n",
        "    top_k=1,\n",
        "    temperature=0.1,\n",
        "    max_new_tokens=25,\n",
        "    pad_token_id=tokenizer.eos_token_id\n",
        ")"
      ],
      "metadata": {
        "id": "wBq6B2RUKWod"
      },
      "execution_count": null,
      "outputs": []
    },
    {
      "cell_type": "code",
      "source": [
        "import time\n",
        "st_time = time.time()\n",
        "outputs = model.generate(**inputs, generation_config=generation_config)\n",
        "print(tokenizer.decode(outputs[0], skip_special_tokens=True))\n",
        "print(time.time()-st_time)"
      ],
      "metadata": {
        "colab": {
          "base_uri": "https://localhost:8080/"
        },
        "id": "3Tqe5H5mKWq2",
        "outputId": "c5a003b6-31b8-4110-9d45-e929fbb78a89"
      },
      "execution_count": null,
      "outputs": [
        {
          "output_type": "stream",
          "name": "stdout",
          "text": [
            "\n",
            "###Human: Summarize this following dialogue: Sunny: I'm at the railway station in Chennai Karthik: No problems so far? Sunny: no, everything's going smoothly Karthik: good. lets meet there soon!\n",
            "###Assistant:  Sunny is at the railway station in Chennai. Everything is going smoothly. Karthik will meet him soon.\n",
            "29.265328884124756\n"
          ]
        }
      ]
    },
    {
      "cell_type": "code",
      "source": [
        "inputs = tokenizer(\"\"\"\n",
        "###Human: Summarize this following dialogue:\n",
        "Alice: The presentation is almost ready for the team meeting.\n",
        "Bob: Great, do you need any help with the visuals?\n",
        "Alice: No, I've got that covered. Thanks for checking, though!\n",
        "Bob: Awesome, let me know if you need anything else.\n",
        "\n",
        "###Assistant: \"\"\", return_tensors=\"pt\").to(\"cuda\")\n"
      ],
      "metadata": {
        "id": "-nFZGipdKr_y"
      },
      "execution_count": null,
      "outputs": []
    },
    {
      "cell_type": "code",
      "source": [
        "import time\n",
        "st_time = time.time()\n",
        "outputs = model.generate(**inputs, generation_config=generation_config)\n",
        "print(tokenizer.decode(outputs[0], skip_special_tokens=True))\n",
        "print(time.time()-st_time)"
      ],
      "metadata": {
        "colab": {
          "base_uri": "https://localhost:8080/"
        },
        "id": "bIZ1DA99K1gz",
        "outputId": "87129856-d3e8-4ab3-d4a9-5e8275b95461"
      },
      "execution_count": null,
      "outputs": [
        {
          "output_type": "stream",
          "name": "stdout",
          "text": [
            "\n",
            "###Human: Summarize this following dialogue: Alice: The presentation is almost ready for the team meeting. Bob: Great, do you need any help with the visuals? Alice: No, I've got that covered. Thanks for checking, though! Bob: Awesome, let me know if you need anything else.\n",
            "###Assistant:  Alice is almost ready for the team meeting. Bob will help her with the visuals.  Alice doesn't need anything\n",
            "28.50069499015808\n"
          ]
        }
      ]
    },
    {
      "cell_type": "code",
      "source": [
        "inputs = tokenizer(\"\"\"\n",
        "###Human: Summarize this following dialogue:\n",
        "Ishtiyaq: Today i fine-tuned a mistral model,which can generate a summarization of a conversation between two people.\n",
        "Marzuq: Great,how can i access your model?\n",
        "Ishtiyaq: you can check my git repo or at huggingface where i have pushed it!\n",
        "Marzuq: Awesome.\n",
        "###Assistant: \"\"\", return_tensors=\"pt\").to(\"cuda\")\n"
      ],
      "metadata": {
        "id": "zRy-2QyYK5Et"
      },
      "execution_count": null,
      "outputs": []
    },
    {
      "cell_type": "code",
      "source": [
        "import time\n",
        "st_time = time.time()\n",
        "outputs = model.generate(**inputs, generation_config=generation_config)\n",
        "print(tokenizer.decode(outputs[0], skip_special_tokens=True))\n",
        "print(time.time()-st_time)"
      ],
      "metadata": {
        "colab": {
          "base_uri": "https://localhost:8080/"
        },
        "id": "1BQz2a5jLwVE",
        "outputId": "43d54f94-edba-4523-f6fe-db89856fc51f"
      },
      "execution_count": null,
      "outputs": [
        {
          "output_type": "stream",
          "name": "stdout",
          "text": [
            "\n",
            "###Human: Summarize this following dialogue:\n",
            "Ishtiyaq: Today i fine-tuned a mistral model,which can generate a summarization of a conversation between two people.\n",
            "Marzuq: Great,how can i access your model? \n",
            "Ishtiyaq: you can check my git repo or at huggingface where i have pushed it! \n",
            "Marzuq: Awesome.\n",
            "###Assistant: \n",
            "Ishtiyaq has fine-tuned a mistral model that can generate a summarization of a conversation\n",
            "28.947664260864258\n"
          ]
        }
      ]
    },
    {
      "cell_type": "code",
      "source": [
        "from google.colab import drive\n",
        "drive.mount('/content/drive')\n"
      ],
      "metadata": {
        "colab": {
          "base_uri": "https://localhost:8080/"
        },
        "id": "cDOY-G3_MXMs",
        "outputId": "c890fb18-0f16-4fcf-c6b4-a4c4a1c4eca7"
      },
      "execution_count": null,
      "outputs": [
        {
          "output_type": "stream",
          "name": "stdout",
          "text": [
            "Mounted at /content/drive\n"
          ]
        }
      ]
    },
    {
      "cell_type": "code",
      "source": [
        "import torch\n",
        "\n",
        "# Define the path in Google Drive\n",
        "save_path = '/content/drive/My Drive/Mistral-Model.pth'\n",
        "\n",
        "# Save the model\n",
        "torch.save(model.state_dict(), save_path)\n",
        "print(f\"Model saved to {save_path}\")\n"
      ],
      "metadata": {
        "colab": {
          "base_uri": "https://localhost:8080/"
        },
        "id": "AraScjiqMXPK",
        "outputId": "d26991a7-6301-4680-9242-ec30e630846b"
      },
      "execution_count": null,
      "outputs": [
        {
          "output_type": "stream",
          "name": "stdout",
          "text": [
            "Model saved to /content/drive/My Drive/Mistral-Model.pth\n"
          ]
        }
      ]
    },
    {
      "cell_type": "code",
      "source": [],
      "metadata": {
        "id": "FDqCC0N-MtRZ"
      },
      "execution_count": null,
      "outputs": []
    }
  ]
}