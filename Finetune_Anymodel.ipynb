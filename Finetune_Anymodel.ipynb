{
  "cells": [
    {
      "cell_type": "code",
      "execution_count": null,
      "metadata": {
        "id": "TVXauQ2KTB36"
      },
      "outputs": [],
      "source": []
    },
    {
      "cell_type": "code",
      "execution_count": null,
      "metadata": {
        "colab": {
          "base_uri": "https://localhost:8080/"
        },
        "collapsed": true,
        "id": "0RhwsRPPTCJa",
        "outputId": "581933bb-6491-4c0c-db86-be10f0bf7ef2"
      },
      "outputs": [],
      "source": [
        "!pip install accelerate transformers bitsandbytes peft datasets"
      ]
    },
    {
      "cell_type": "code",
      "execution_count": 2,
      "metadata": {
        "id": "_9dGW8orTN-h"
      },
      "outputs": [],
      "source": [
        "from datasets import load_dataset,Dataset\n",
        "import torch"
      ]
    },
    {
      "cell_type": "code",
      "execution_count": 4,
      "metadata": {
        "id": "iO0GmLePUpZ-"
      },
      "outputs": [],
      "source": [
        "from transformers import(\n",
        "    AutoModelForCausalLM,AutoTokenizer,TrainingArguments,Trainer,BitsAndBytesConfig,DataCollatorForLanguageModeling\n",
        ")"
      ]
    },
    {
      "cell_type": "code",
      "execution_count": 5,
      "metadata": {
        "id": "6f_1rCDPUblF"
      },
      "outputs": [],
      "source": [
        "from peft import LoraConfig,get_peft_model,PeftModel"
      ]
    },
    {
      "cell_type": "code",
      "execution_count": 6,
      "metadata": {
        "id": "ciN-tVcPUw0u"
      },
      "outputs": [],
      "source": [
        "import pandas as pd"
      ]
    },
    {
      "cell_type": "code",
      "execution_count": 15,
      "metadata": {
        "id": "G-fWGVfPafUJ"
      },
      "outputs": [],
      "source": [
        "class LoRAFineTuner:\n",
        "    def __init__(self,model_name,dataset_name,output_dir):\n",
        "      \"\"\"\n",
        "      this is initlization of the class parameter\n",
        "      \"\"\"\n",
        "      print(\"params initlized\")\n",
        "      self.model_name=model_name\n",
        "      self.dataset_name=dataset_name\n",
        "      self.output_dir=output_dir\n",
        "      self.tokenizer=None\n",
        "      self.model=None\n",
        "      self.tokenized_data=None\n",
        "\n",
        "    def load_tokenizer(self):\n",
        "      \"\"\"\n",
        "      this function to define the tokenizer of the model\n",
        "      \"\"\"\n",
        "      self.tokenizer=AutoTokenizer.from_pretrained(self.model_name,trust_remote_code=True)\n",
        "      self.tokenizer.pad_token=self.tokenizer.eos_token\n",
        "\n",
        "    def load_model(self):\n",
        "      \"\"\"\n",
        "      this function to define the model of the model\n",
        "      \"\"\"\n",
        "      bnb_config=BitsAndBytesConfig(\n",
        "          load_in_4bit=True,\n",
        "          bnb_4bit_use_double_quant=True,\n",
        "          bnb_4bit_quant_type=\"nf4\",\n",
        "          bnb_4bit_compute_dtype=torch.float16\n",
        "      )\n",
        "\n",
        "      # quantizatied model\n",
        "      self.model=AutoModelForCausalLM.from_pretrained(\n",
        "          self.model_name,\n",
        "          device_map={\"\": 0},\n",
        "          trust_remote_code=True,\n",
        "          quantization_config=bnb_config\n",
        "      )\n",
        "\n",
        "    def apply_lora(self):\n",
        "      \"\"\"\n",
        "      this function to define the lora model of the model\n",
        "      \"\"\"\n",
        "      config=LoraConfig(\n",
        "          r=16,\n",
        "          lora_alpha=32,\n",
        "          target_modules=[\"q_proj\", \"v_proj\"],\n",
        "          lora_dropout=0.05,\n",
        "          bias=\"none\",\n",
        "          task_type=\"CAUSAL_LM\"\n",
        "      )\n",
        "      # applied lora on quantizatied model\n",
        "      self.model=get_peft_model(self.model,config)\n",
        "\n",
        "      self.model.print_trainable_parameters()\n",
        "\n",
        "    def load_and_tokenize_dataset(self):\n",
        "      \"\"\"\n",
        "      this function will load the and it will perform the tokenization on it\n",
        "      \"\"\"\n",
        "      data=load_dataset(self.dataset_name,'main',split=\"train\")\n",
        "\n",
        "      data_df = data.to_pandas()\n",
        "      print(data_df.head())\n",
        "\n",
        "      text_column = data_df.columns[0]  # Select first column if unsure\n",
        "      print(text_column)\n",
        "\n",
        "      if \"question\" in data_df.columns and \"answer\" in data_df.columns:\n",
        "            data_df[\"text\"] = data_df.apply(lambda x: f\"question: {x['question']} answer: {x['answer']}\", axis=1)\n",
        "      else:\n",
        "            data_df[\"text\"] = data_df[text_column]\n",
        "\n",
        "      # Convert back to Hugging Face dataset\n",
        "      data = Dataset.from_pandas(data_df)\n",
        "\n",
        "      # Tokenize dataset\n",
        "      def tokenize(sample):\n",
        "        return self.tokenizer(sample[\"text\"], padding=True, truncation=True, max_length=512)\n",
        "\n",
        "      self.tokenized_data = data.map(tokenize, batched=True, desc=\"Tokenizing data\", remove_columns=data.column_names)\n",
        "\n",
        "    def train(self,epochs: int = 1, batch_size: int = 4, learning_rate: float = 2e-4, max_steps: int = 1000):\n",
        "      \"\"\"\n",
        "      this function will perform the training\n",
        "      \"\"\"\n",
        "      training_args = TrainingArguments(\n",
        "            output_dir=self.output_dir,\n",
        "            per_device_train_batch_size=batch_size,\n",
        "            gradient_accumulation_steps=1,\n",
        "            learning_rate=learning_rate,\n",
        "            lr_scheduler_type=\"cosine\",\n",
        "            save_strategy=\"epoch\",\n",
        "            logging_steps=100,\n",
        "            max_steps=max_steps,\n",
        "            num_train_epochs=epochs,\n",
        "            push_to_hub=True,\n",
        "            report_to=\"none\"\n",
        "\n",
        "        )\n",
        "\n",
        "      trainer = Trainer(\n",
        "          model=self.model,\n",
        "          train_dataset=self.tokenized_data,\n",
        "          args=training_args,\n",
        "          data_collator=DataCollatorForLanguageModeling(self.tokenizer, mlm=False)\n",
        "      )\n",
        "\n",
        "      trainer.train()\n",
        "\n",
        "    def save_model(self,model_repo:str):\n",
        "      \"\"\"\n",
        "      this function will save the model\n",
        "      \"\"\"\n",
        "      base_model = AutoModelForCausalLM.from_pretrained(self.model_name, trust_remote_code=True, torch_dtype=torch.float32)\n",
        "      peft_model = PeftModel.from_pretrained(base_model, self.output_dir, from_transformers=True)\n",
        "      merged_model = peft_model.merge_and_unload()\n",
        "\n",
        "      merged_model.push_to_hub(model_repo)\n",
        "\n",
        "      print(\"saving the model\")\n",
        "\n",
        "    def run(self):\n",
        "      \"\"\"\n",
        "      this function will run the whole process\n",
        "      \"\"\"\n",
        "      print(\"starting finetunine process\")\n",
        "      self.load_tokenizer()\n",
        "      print(\"tokenizer loaded\")\n",
        "\n",
        "      self.load_model()\n",
        "      print(\"model loaded\")\n",
        "\n",
        "      self.apply_lora()\n",
        "      print(\"lora applied\")\n",
        "\n",
        "      self.load_and_tokenize_dataset()\n",
        "      print(\"dataset loaded and tokenized\")\n",
        "\n",
        "      self.train()\n",
        "      print(\"model trained\")\n",
        "\n",
        "      self.save_model(model_repo=\"Finetune-Anymodel-Withthis-Framework\")\n",
        "      print(\"model saved\")\n"
      ]
    },
    {
      "cell_type": "code",
      "execution_count": 16,
      "metadata": {
        "id": "Y-aAfSgrsuhu"
      },
      "outputs": [],
      "source": [
        "model_name='microsoft/phi-1.5'\n",
        "dataset_name=\"gsm8k\"\n",
        "output_dir=\"phi-1_5-finetuned\""
      ]
    },
    {
      "cell_type": "code",
      "execution_count": null,
      "metadata": {
        "id": "KNizugOoYp7u"
      },
      "outputs": [],
      "source": [
        "fine_tuner=LoRAFineTuner(model_name,dataset_name,output_dir)"
      ]
    },
    {
      "cell_type": "code",
      "execution_count": null,
      "metadata": {
        "colab": {
          "base_uri": "https://localhost:8080/",
          "height": 822,
          "referenced_widgets": [
            "2f289106d9f34be08d7e159b990d558e",
            "17a3a51933fd4583adf8ed8d0213079c",
            "61234ee4897f45b3a112ddce2d8122b9",
            "58c1d42b755d4c75949b1fb8d99d3861",
            "4c2b389ab76c4638bf8e689bb438c6d5",
            "90c65acd8d6745559bb18ed01401684d",
            "908854b222764e2796d96df12f567230",
            "4e5e419a874f4aa488d4495792df5c1c",
            "e756629be91e4f4a9435f56f124ad3c5",
            "b367d031c2364d80bb6b9118074018ae",
            "e6a74f78ff3849fbae12aa2e5a5f166e"
          ]
        },
        "id": "t7QFLKHWaxlE",
        "outputId": "fc635370-72b2-440d-bf6a-74fff0f32c87"
      },
      "outputs": [
        {
          "name": "stdout",
          "output_type": "stream",
          "text": [
            "starting finetunine process\n",
            "tokenizer loaded\n",
            "model loaded\n",
            "trainable params: 3,145,728 || all params: 1,421,416,448 || trainable%: 0.2213\n",
            "lora applied\n",
            "                                            question  \\\n",
            "0  Natalia sold clips to 48 of her friends in Apr...   \n",
            "1  Weng earns $12 an hour for babysitting. Yester...   \n",
            "2  Betty is saving money for a new wallet which c...   \n",
            "3  Julie is reading a 120-page book. Yesterday, s...   \n",
            "4  James writes a 3-page letter to 2 different fr...   \n",
            "\n",
            "                                              answer  \n",
            "0  Natalia sold 48/2 = <<48/2=24>>24 clips in May...  \n",
            "1  Weng earns 12/60 = $<<12/60=0.2>>0.2 per minut...  \n",
            "2  In the beginning, Betty has only 100 / 2 = $<<...  \n",
            "3  Maila read 12 x 2 = <<12*2=24>>24 pages today....  \n",
            "4  He writes each friend 3*2=<<3*2=6>>6 pages a w...  \n",
            "question\n"
          ]
        },
        {
          "data": {
            "application/vnd.jupyter.widget-view+json": {
              "model_id": "2f289106d9f34be08d7e159b990d558e",
              "version_major": 2,
              "version_minor": 0
            },
            "text/plain": [
              "Tokenizing data:   0%|          | 0/7473 [00:00<?, ? examples/s]"
            ]
          },
          "metadata": {},
          "output_type": "display_data"
        },
        {
          "name": "stdout",
          "output_type": "stream",
          "text": [
            "dataset loaded and tokenized\n"
          ]
        },
        {
          "name": "stderr",
          "output_type": "stream",
          "text": [
            "No label_names provided for model class `PeftModelForCausalLM`. Since `PeftModel` hides base models input arguments, if label_names is not given, label_names can't be set automatically within `Trainer`. Note that empty label_names list will be used instead.\n"
          ]
        },
        {
          "data": {
            "text/html": [
              "\n",
              "    <div>\n",
              "      \n",
              "      <progress value='1000' max='1000' style='width:300px; height:20px; vertical-align: middle;'></progress>\n",
              "      [1000/1000 12:01, Epoch 0/1]\n",
              "    </div>\n",
              "    <table border=\"1\" class=\"dataframe\">\n",
              "  <thead>\n",
              " <tr style=\"text-align: left;\">\n",
              "      <th>Step</th>\n",
              "      <th>Training Loss</th>\n",
              "    </tr>\n",
              "  </thead>\n",
              "  <tbody>\n",
              "    <tr>\n",
              "      <td>100</td>\n",
              "      <td>1.153500</td>\n",
              "    </tr>\n",
              "    <tr>\n",
              "      <td>200</td>\n",
              "      <td>1.064100</td>\n",
              "    </tr>\n",
              "    <tr>\n",
              "      <td>300</td>\n",
              "      <td>1.032500</td>\n",
              "    </tr>\n",
              "    <tr>\n",
              "      <td>400</td>\n",
              "      <td>1.041400</td>\n",
              "    </tr>\n",
              "    <tr>\n",
              "      <td>500</td>\n",
              "      <td>1.044900</td>\n",
              "    </tr>\n",
              "    <tr>\n",
              "      <td>600</td>\n",
              "      <td>1.025000</td>\n",
              "    </tr>\n",
              "    <tr>\n",
              "      <td>700</td>\n",
              "      <td>0.982200</td>\n",
              "    </tr>\n",
              "    <tr>\n",
              "      <td>800</td>\n",
              "      <td>1.012900</td>\n",
              "    </tr>\n",
              "    <tr>\n",
              "      <td>900</td>\n",
              "      <td>1.026600</td>\n",
              "    </tr>\n",
              "    <tr>\n",
              "      <td>1000</td>\n",
              "      <td>1.026500</td>\n",
              "    </tr>\n",
              "  </tbody>\n",
              "</table><p>"
            ],
            "text/plain": [
              "<IPython.core.display.HTML object>"
            ]
          },
          "metadata": {},
          "output_type": "display_data"
        },
        {
          "name": "stdout",
          "output_type": "stream",
          "text": [
            "model trained\n"
          ]
        }
      ],
      "source": [
        "fine_tuner.run()"
      ]
    }
  ],
  "metadata": {
    "accelerator": "GPU",
    "colab": {
      "gpuType": "T4",
      "provenance": []
    },
    "kernelspec": {
      "display_name": "Python 3",
      "name": "python3"
    },
    "language_info": {
      "name": "python"
    },
    "widgets": {
      "application/vnd.jupyter.widget-state+json": {
        "17a3a51933fd4583adf8ed8d0213079c": {
          "model_module": "@jupyter-widgets/controls",
          "model_module_version": "1.5.0",
          "model_name": "HTMLModel",
          "state": {
            "_dom_classes": [],
            "_model_module": "@jupyter-widgets/controls",
            "_model_module_version": "1.5.0",
            "_model_name": "HTMLModel",
            "_view_count": null,
            "_view_module": "@jupyter-widgets/controls",
            "_view_module_version": "1.5.0",
            "_view_name": "HTMLView",
            "description": "",
            "description_tooltip": null,
            "layout": "IPY_MODEL_90c65acd8d6745559bb18ed01401684d",
            "placeholder": "​",
            "style": "IPY_MODEL_908854b222764e2796d96df12f567230",
            "value": "Tokenizing data: 100%"
          }
        },
        "2f289106d9f34be08d7e159b990d558e": {
          "model_module": "@jupyter-widgets/controls",
          "model_module_version": "1.5.0",
          "model_name": "HBoxModel",
          "state": {
            "_dom_classes": [],
            "_model_module": "@jupyter-widgets/controls",
            "_model_module_version": "1.5.0",
            "_model_name": "HBoxModel",
            "_view_count": null,
            "_view_module": "@jupyter-widgets/controls",
            "_view_module_version": "1.5.0",
            "_view_name": "HBoxView",
            "box_style": "",
            "children": [
              "IPY_MODEL_17a3a51933fd4583adf8ed8d0213079c",
              "IPY_MODEL_61234ee4897f45b3a112ddce2d8122b9",
              "IPY_MODEL_58c1d42b755d4c75949b1fb8d99d3861"
            ],
            "layout": "IPY_MODEL_4c2b389ab76c4638bf8e689bb438c6d5"
          }
        },
        "4c2b389ab76c4638bf8e689bb438c6d5": {
          "model_module": "@jupyter-widgets/base",
          "model_module_version": "1.2.0",
          "model_name": "LayoutModel",
          "state": {
            "_model_module": "@jupyter-widgets/base",
            "_model_module_version": "1.2.0",
            "_model_name": "LayoutModel",
            "_view_count": null,
            "_view_module": "@jupyter-widgets/base",
            "_view_module_version": "1.2.0",
            "_view_name": "LayoutView",
            "align_content": null,
            "align_items": null,
            "align_self": null,
            "border": null,
            "bottom": null,
            "display": null,
            "flex": null,
            "flex_flow": null,
            "grid_area": null,
            "grid_auto_columns": null,
            "grid_auto_flow": null,
            "grid_auto_rows": null,
            "grid_column": null,
            "grid_gap": null,
            "grid_row": null,
            "grid_template_areas": null,
            "grid_template_columns": null,
            "grid_template_rows": null,
            "height": null,
            "justify_content": null,
            "justify_items": null,
            "left": null,
            "margin": null,
            "max_height": null,
            "max_width": null,
            "min_height": null,
            "min_width": null,
            "object_fit": null,
            "object_position": null,
            "order": null,
            "overflow": null,
            "overflow_x": null,
            "overflow_y": null,
            "padding": null,
            "right": null,
            "top": null,
            "visibility": null,
            "width": null
          }
        },
        "4e5e419a874f4aa488d4495792df5c1c": {
          "model_module": "@jupyter-widgets/base",
          "model_module_version": "1.2.0",
          "model_name": "LayoutModel",
          "state": {
            "_model_module": "@jupyter-widgets/base",
            "_model_module_version": "1.2.0",
            "_model_name": "LayoutModel",
            "_view_count": null,
            "_view_module": "@jupyter-widgets/base",
            "_view_module_version": "1.2.0",
            "_view_name": "LayoutView",
            "align_content": null,
            "align_items": null,
            "align_self": null,
            "border": null,
            "bottom": null,
            "display": null,
            "flex": null,
            "flex_flow": null,
            "grid_area": null,
            "grid_auto_columns": null,
            "grid_auto_flow": null,
            "grid_auto_rows": null,
            "grid_column": null,
            "grid_gap": null,
            "grid_row": null,
            "grid_template_areas": null,
            "grid_template_columns": null,
            "grid_template_rows": null,
            "height": null,
            "justify_content": null,
            "justify_items": null,
            "left": null,
            "margin": null,
            "max_height": null,
            "max_width": null,
            "min_height": null,
            "min_width": null,
            "object_fit": null,
            "object_position": null,
            "order": null,
            "overflow": null,
            "overflow_x": null,
            "overflow_y": null,
            "padding": null,
            "right": null,
            "top": null,
            "visibility": null,
            "width": null
          }
        },
        "58c1d42b755d4c75949b1fb8d99d3861": {
          "model_module": "@jupyter-widgets/controls",
          "model_module_version": "1.5.0",
          "model_name": "HTMLModel",
          "state": {
            "_dom_classes": [],
            "_model_module": "@jupyter-widgets/controls",
            "_model_module_version": "1.5.0",
            "_model_name": "HTMLModel",
            "_view_count": null,
            "_view_module": "@jupyter-widgets/controls",
            "_view_module_version": "1.5.0",
            "_view_name": "HTMLView",
            "description": "",
            "description_tooltip": null,
            "layout": "IPY_MODEL_b367d031c2364d80bb6b9118074018ae",
            "placeholder": "​",
            "style": "IPY_MODEL_e6a74f78ff3849fbae12aa2e5a5f166e",
            "value": " 7473/7473 [00:03&lt;00:00, 2137.60 examples/s]"
          }
        },
        "61234ee4897f45b3a112ddce2d8122b9": {
          "model_module": "@jupyter-widgets/controls",
          "model_module_version": "1.5.0",
          "model_name": "FloatProgressModel",
          "state": {
            "_dom_classes": [],
            "_model_module": "@jupyter-widgets/controls",
            "_model_module_version": "1.5.0",
            "_model_name": "FloatProgressModel",
            "_view_count": null,
            "_view_module": "@jupyter-widgets/controls",
            "_view_module_version": "1.5.0",
            "_view_name": "ProgressView",
            "bar_style": "success",
            "description": "",
            "description_tooltip": null,
            "layout": "IPY_MODEL_4e5e419a874f4aa488d4495792df5c1c",
            "max": 7473,
            "min": 0,
            "orientation": "horizontal",
            "style": "IPY_MODEL_e756629be91e4f4a9435f56f124ad3c5",
            "value": 7473
          }
        },
        "908854b222764e2796d96df12f567230": {
          "model_module": "@jupyter-widgets/controls",
          "model_module_version": "1.5.0",
          "model_name": "DescriptionStyleModel",
          "state": {
            "_model_module": "@jupyter-widgets/controls",
            "_model_module_version": "1.5.0",
            "_model_name": "DescriptionStyleModel",
            "_view_count": null,
            "_view_module": "@jupyter-widgets/base",
            "_view_module_version": "1.2.0",
            "_view_name": "StyleView",
            "description_width": ""
          }
        },
        "90c65acd8d6745559bb18ed01401684d": {
          "model_module": "@jupyter-widgets/base",
          "model_module_version": "1.2.0",
          "model_name": "LayoutModel",
          "state": {
            "_model_module": "@jupyter-widgets/base",
            "_model_module_version": "1.2.0",
            "_model_name": "LayoutModel",
            "_view_count": null,
            "_view_module": "@jupyter-widgets/base",
            "_view_module_version": "1.2.0",
            "_view_name": "LayoutView",
            "align_content": null,
            "align_items": null,
            "align_self": null,
            "border": null,
            "bottom": null,
            "display": null,
            "flex": null,
            "flex_flow": null,
            "grid_area": null,
            "grid_auto_columns": null,
            "grid_auto_flow": null,
            "grid_auto_rows": null,
            "grid_column": null,
            "grid_gap": null,
            "grid_row": null,
            "grid_template_areas": null,
            "grid_template_columns": null,
            "grid_template_rows": null,
            "height": null,
            "justify_content": null,
            "justify_items": null,
            "left": null,
            "margin": null,
            "max_height": null,
            "max_width": null,
            "min_height": null,
            "min_width": null,
            "object_fit": null,
            "object_position": null,
            "order": null,
            "overflow": null,
            "overflow_x": null,
            "overflow_y": null,
            "padding": null,
            "right": null,
            "top": null,
            "visibility": null,
            "width": null
          }
        },
        "b367d031c2364d80bb6b9118074018ae": {
          "model_module": "@jupyter-widgets/base",
          "model_module_version": "1.2.0",
          "model_name": "LayoutModel",
          "state": {
            "_model_module": "@jupyter-widgets/base",
            "_model_module_version": "1.2.0",
            "_model_name": "LayoutModel",
            "_view_count": null,
            "_view_module": "@jupyter-widgets/base",
            "_view_module_version": "1.2.0",
            "_view_name": "LayoutView",
            "align_content": null,
            "align_items": null,
            "align_self": null,
            "border": null,
            "bottom": null,
            "display": null,
            "flex": null,
            "flex_flow": null,
            "grid_area": null,
            "grid_auto_columns": null,
            "grid_auto_flow": null,
            "grid_auto_rows": null,
            "grid_column": null,
            "grid_gap": null,
            "grid_row": null,
            "grid_template_areas": null,
            "grid_template_columns": null,
            "grid_template_rows": null,
            "height": null,
            "justify_content": null,
            "justify_items": null,
            "left": null,
            "margin": null,
            "max_height": null,
            "max_width": null,
            "min_height": null,
            "min_width": null,
            "object_fit": null,
            "object_position": null,
            "order": null,
            "overflow": null,
            "overflow_x": null,
            "overflow_y": null,
            "padding": null,
            "right": null,
            "top": null,
            "visibility": null,
            "width": null
          }
        },
        "e6a74f78ff3849fbae12aa2e5a5f166e": {
          "model_module": "@jupyter-widgets/controls",
          "model_module_version": "1.5.0",
          "model_name": "DescriptionStyleModel",
          "state": {
            "_model_module": "@jupyter-widgets/controls",
            "_model_module_version": "1.5.0",
            "_model_name": "DescriptionStyleModel",
            "_view_count": null,
            "_view_module": "@jupyter-widgets/base",
            "_view_module_version": "1.2.0",
            "_view_name": "StyleView",
            "description_width": ""
          }
        },
        "e756629be91e4f4a9435f56f124ad3c5": {
          "model_module": "@jupyter-widgets/controls",
          "model_module_version": "1.5.0",
          "model_name": "ProgressStyleModel",
          "state": {
            "_model_module": "@jupyter-widgets/controls",
            "_model_module_version": "1.5.0",
            "_model_name": "ProgressStyleModel",
            "_view_count": null,
            "_view_module": "@jupyter-widgets/base",
            "_view_module_version": "1.2.0",
            "_view_name": "StyleView",
            "bar_color": null,
            "description_width": ""
          }
        }
      }
    }
  },
  "nbformat": 4,
  "nbformat_minor": 0
}
